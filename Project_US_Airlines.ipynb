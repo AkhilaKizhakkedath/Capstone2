{
  "cells": [
    {
      "cell_type": "code",
      "execution_count": 1,
      "metadata": {
        "id": "I3u0BfA3hpGb"
      },
      "outputs": [],
      "source": [
        "# Let's import the necessary library.\n",
        "import numpy as np\n",
        "import pandas as pd\n",
        "import matplotlib.pyplot as plt\n",
        "import seaborn as sns\n",
        "%matplotlib inline"
      ]
    },
    {
      "cell_type": "code",
      "execution_count": 2,
      "metadata": {
        "id": "hF1PzFIAjRU9"
      },
      "outputs": [],
      "source": [
        "# let's remove the unnecessary warnings.\n",
        "import warnings\n",
        "warnings.filterwarnings(\"ignore\")"
      ]
    },
    {
      "cell_type": "markdown",
      "metadata": {
        "id": "xbHbHAl_jpDU"
      },
      "source": [
        "Project Task: Week 1 (Applied data science with Python)\n",
        "1. Import and aggregate data:\n"
      ]
    },
    {
      "cell_type": "markdown",
      "metadata": {
        "id": "MTF82A1Usi7M"
      },
      "source": [
        "a. Collect information related to flights, airports (e.g., type of airport and elevation), and runways (e.g., length_ft, width_ft, surface, and number of runways). Gather all fields you believe might cause avoidable delays in one dataset."
      ]
    },
    {
      "cell_type": "code",
      "execution_count": 3,
      "metadata": {
        "id": "kJqD9Cb-jVUE"
      },
      "outputs": [],
      "source": [
        "# Now let's import the data for the further operation.\n",
        "airline_df = pd.read_excel(\"Airlines.xlsx\")"
      ]
    },
    {
      "cell_type": "code",
      "execution_count": 4,
      "metadata": {
        "colab": {
          "base_uri": "https://localhost:8080/"
        },
        "id": "yd5GxVWgkWuG",
        "outputId": "25ec2733-d017-4060-d66d-de11917d239e"
      },
      "outputs": [
        {
          "output_type": "execute_result",
          "data": {
            "text/plain": [
              "(518556, 9)"
            ]
          },
          "metadata": {},
          "execution_count": 4
        }
      ],
      "source": [
        "airline_df.shape"
      ]
    },
    {
      "cell_type": "code",
      "execution_count": 5,
      "metadata": {
        "colab": {
          "base_uri": "https://localhost:8080/",
          "height": 112
        },
        "id": "RCjb_A9Xkb2W",
        "outputId": "b65001ff-95bf-4b39-94a6-a9262fb4af82"
      },
      "outputs": [
        {
          "output_type": "execute_result",
          "data": {
            "text/plain": [
              "   id Airline  Flight AirportFrom AirportTo  DayOfWeek  Time  Length  Delay\n",
              "0   1      CO     269         SFO       IAH          3    15     205      1\n",
              "1   2      US    1558         PHX       CLT          3    15     222      1"
            ],
            "text/html": [
              "\n",
              "  <div id=\"df-3e860205-3792-4ce6-992d-7cdf2292fe43\">\n",
              "    <div class=\"colab-df-container\">\n",
              "      <div>\n",
              "<style scoped>\n",
              "    .dataframe tbody tr th:only-of-type {\n",
              "        vertical-align: middle;\n",
              "    }\n",
              "\n",
              "    .dataframe tbody tr th {\n",
              "        vertical-align: top;\n",
              "    }\n",
              "\n",
              "    .dataframe thead th {\n",
              "        text-align: right;\n",
              "    }\n",
              "</style>\n",
              "<table border=\"1\" class=\"dataframe\">\n",
              "  <thead>\n",
              "    <tr style=\"text-align: right;\">\n",
              "      <th></th>\n",
              "      <th>id</th>\n",
              "      <th>Airline</th>\n",
              "      <th>Flight</th>\n",
              "      <th>AirportFrom</th>\n",
              "      <th>AirportTo</th>\n",
              "      <th>DayOfWeek</th>\n",
              "      <th>Time</th>\n",
              "      <th>Length</th>\n",
              "      <th>Delay</th>\n",
              "    </tr>\n",
              "  </thead>\n",
              "  <tbody>\n",
              "    <tr>\n",
              "      <th>0</th>\n",
              "      <td>1</td>\n",
              "      <td>CO</td>\n",
              "      <td>269</td>\n",
              "      <td>SFO</td>\n",
              "      <td>IAH</td>\n",
              "      <td>3</td>\n",
              "      <td>15</td>\n",
              "      <td>205</td>\n",
              "      <td>1</td>\n",
              "    </tr>\n",
              "    <tr>\n",
              "      <th>1</th>\n",
              "      <td>2</td>\n",
              "      <td>US</td>\n",
              "      <td>1558</td>\n",
              "      <td>PHX</td>\n",
              "      <td>CLT</td>\n",
              "      <td>3</td>\n",
              "      <td>15</td>\n",
              "      <td>222</td>\n",
              "      <td>1</td>\n",
              "    </tr>\n",
              "  </tbody>\n",
              "</table>\n",
              "</div>\n",
              "      <button class=\"colab-df-convert\" onclick=\"convertToInteractive('df-3e860205-3792-4ce6-992d-7cdf2292fe43')\"\n",
              "              title=\"Convert this dataframe to an interactive table.\"\n",
              "              style=\"display:none;\">\n",
              "        \n",
              "  <svg xmlns=\"http://www.w3.org/2000/svg\" height=\"24px\"viewBox=\"0 0 24 24\"\n",
              "       width=\"24px\">\n",
              "    <path d=\"M0 0h24v24H0V0z\" fill=\"none\"/>\n",
              "    <path d=\"M18.56 5.44l.94 2.06.94-2.06 2.06-.94-2.06-.94-.94-2.06-.94 2.06-2.06.94zm-11 1L8.5 8.5l.94-2.06 2.06-.94-2.06-.94L8.5 2.5l-.94 2.06-2.06.94zm10 10l.94 2.06.94-2.06 2.06-.94-2.06-.94-.94-2.06-.94 2.06-2.06.94z\"/><path d=\"M17.41 7.96l-1.37-1.37c-.4-.4-.92-.59-1.43-.59-.52 0-1.04.2-1.43.59L10.3 9.45l-7.72 7.72c-.78.78-.78 2.05 0 2.83L4 21.41c.39.39.9.59 1.41.59.51 0 1.02-.2 1.41-.59l7.78-7.78 2.81-2.81c.8-.78.8-2.07 0-2.86zM5.41 20L4 18.59l7.72-7.72 1.47 1.35L5.41 20z\"/>\n",
              "  </svg>\n",
              "      </button>\n",
              "      \n",
              "  <style>\n",
              "    .colab-df-container {\n",
              "      display:flex;\n",
              "      flex-wrap:wrap;\n",
              "      gap: 12px;\n",
              "    }\n",
              "\n",
              "    .colab-df-convert {\n",
              "      background-color: #E8F0FE;\n",
              "      border: none;\n",
              "      border-radius: 50%;\n",
              "      cursor: pointer;\n",
              "      display: none;\n",
              "      fill: #1967D2;\n",
              "      height: 32px;\n",
              "      padding: 0 0 0 0;\n",
              "      width: 32px;\n",
              "    }\n",
              "\n",
              "    .colab-df-convert:hover {\n",
              "      background-color: #E2EBFA;\n",
              "      box-shadow: 0px 1px 2px rgba(60, 64, 67, 0.3), 0px 1px 3px 1px rgba(60, 64, 67, 0.15);\n",
              "      fill: #174EA6;\n",
              "    }\n",
              "\n",
              "    [theme=dark] .colab-df-convert {\n",
              "      background-color: #3B4455;\n",
              "      fill: #D2E3FC;\n",
              "    }\n",
              "\n",
              "    [theme=dark] .colab-df-convert:hover {\n",
              "      background-color: #434B5C;\n",
              "      box-shadow: 0px 1px 3px 1px rgba(0, 0, 0, 0.15);\n",
              "      filter: drop-shadow(0px 1px 2px rgba(0, 0, 0, 0.3));\n",
              "      fill: #FFFFFF;\n",
              "    }\n",
              "  </style>\n",
              "\n",
              "      <script>\n",
              "        const buttonEl =\n",
              "          document.querySelector('#df-3e860205-3792-4ce6-992d-7cdf2292fe43 button.colab-df-convert');\n",
              "        buttonEl.style.display =\n",
              "          google.colab.kernel.accessAllowed ? 'block' : 'none';\n",
              "\n",
              "        async function convertToInteractive(key) {\n",
              "          const element = document.querySelector('#df-3e860205-3792-4ce6-992d-7cdf2292fe43');\n",
              "          const dataTable =\n",
              "            await google.colab.kernel.invokeFunction('convertToInteractive',\n",
              "                                                     [key], {});\n",
              "          if (!dataTable) return;\n",
              "\n",
              "          const docLinkHtml = 'Like what you see? Visit the ' +\n",
              "            '<a target=\"_blank\" href=https://colab.research.google.com/notebooks/data_table.ipynb>data table notebook</a>'\n",
              "            + ' to learn more about interactive tables.';\n",
              "          element.innerHTML = '';\n",
              "          dataTable['output_type'] = 'display_data';\n",
              "          await google.colab.output.renderOutput(dataTable, element);\n",
              "          const docLink = document.createElement('div');\n",
              "          docLink.innerHTML = docLinkHtml;\n",
              "          element.appendChild(docLink);\n",
              "        }\n",
              "      </script>\n",
              "    </div>\n",
              "  </div>\n",
              "  "
            ]
          },
          "metadata": {},
          "execution_count": 5
        }
      ],
      "source": [
        "airline_df.head(2)"
      ]
    },
    {
      "cell_type": "code",
      "execution_count": 6,
      "metadata": {
        "id": "J3uGpxHXk6x8"
      },
      "outputs": [],
      "source": [
        "airport_df = pd.read_excel(\"airports.xlsx\")"
      ]
    },
    {
      "cell_type": "code",
      "execution_count": 7,
      "metadata": {
        "colab": {
          "base_uri": "https://localhost:8080/"
        },
        "id": "6CJ-sl9Tk_4q",
        "outputId": "9fdbd956-92de-4d9e-e5bf-86f3a60e7142"
      },
      "outputs": [
        {
          "output_type": "execute_result",
          "data": {
            "text/plain": [
              "(73805, 18)"
            ]
          },
          "metadata": {},
          "execution_count": 7
        }
      ],
      "source": [
        "airport_df.shape"
      ]
    },
    {
      "cell_type": "code",
      "execution_count": 8,
      "metadata": {
        "colab": {
          "base_uri": "https://localhost:8080/",
          "height": 228
        },
        "id": "tft6GBQglIU2",
        "outputId": "c5c540f4-3ddf-4515-f4e4-3d056edb15a3"
      },
      "outputs": [
        {
          "output_type": "execute_result",
          "data": {
            "text/plain": [
              "       id ident           type                  name  latitude_deg  \\\n",
              "0    6523   00A       heliport     Total Rf Heliport     40.070801   \n",
              "1  323361  00AA  small_airport  Aero B Ranch Airport     38.704022   \n",
              "\n",
              "   longitude_deg  elevation_ft continent iso_country iso_region municipality  \\\n",
              "0     -74.933601          11.0       NaN          US      US-PA     Bensalem   \n",
              "1    -101.473911        3435.0       NaN          US      US-KS        Leoti   \n",
              "\n",
              "  scheduled_service gps_code iata_code local_code home_link wikipedia_link  \\\n",
              "0                no      00A       NaN        00A       NaN            NaN   \n",
              "1                no     00AA       NaN       00AA       NaN            NaN   \n",
              "\n",
              "  keywords  \n",
              "0      NaN  \n",
              "1      NaN  "
            ],
            "text/html": [
              "\n",
              "  <div id=\"df-3ff69e22-52ea-4133-81e2-047f4b2e46b7\">\n",
              "    <div class=\"colab-df-container\">\n",
              "      <div>\n",
              "<style scoped>\n",
              "    .dataframe tbody tr th:only-of-type {\n",
              "        vertical-align: middle;\n",
              "    }\n",
              "\n",
              "    .dataframe tbody tr th {\n",
              "        vertical-align: top;\n",
              "    }\n",
              "\n",
              "    .dataframe thead th {\n",
              "        text-align: right;\n",
              "    }\n",
              "</style>\n",
              "<table border=\"1\" class=\"dataframe\">\n",
              "  <thead>\n",
              "    <tr style=\"text-align: right;\">\n",
              "      <th></th>\n",
              "      <th>id</th>\n",
              "      <th>ident</th>\n",
              "      <th>type</th>\n",
              "      <th>name</th>\n",
              "      <th>latitude_deg</th>\n",
              "      <th>longitude_deg</th>\n",
              "      <th>elevation_ft</th>\n",
              "      <th>continent</th>\n",
              "      <th>iso_country</th>\n",
              "      <th>iso_region</th>\n",
              "      <th>municipality</th>\n",
              "      <th>scheduled_service</th>\n",
              "      <th>gps_code</th>\n",
              "      <th>iata_code</th>\n",
              "      <th>local_code</th>\n",
              "      <th>home_link</th>\n",
              "      <th>wikipedia_link</th>\n",
              "      <th>keywords</th>\n",
              "    </tr>\n",
              "  </thead>\n",
              "  <tbody>\n",
              "    <tr>\n",
              "      <th>0</th>\n",
              "      <td>6523</td>\n",
              "      <td>00A</td>\n",
              "      <td>heliport</td>\n",
              "      <td>Total Rf Heliport</td>\n",
              "      <td>40.070801</td>\n",
              "      <td>-74.933601</td>\n",
              "      <td>11.0</td>\n",
              "      <td>NaN</td>\n",
              "      <td>US</td>\n",
              "      <td>US-PA</td>\n",
              "      <td>Bensalem</td>\n",
              "      <td>no</td>\n",
              "      <td>00A</td>\n",
              "      <td>NaN</td>\n",
              "      <td>00A</td>\n",
              "      <td>NaN</td>\n",
              "      <td>NaN</td>\n",
              "      <td>NaN</td>\n",
              "    </tr>\n",
              "    <tr>\n",
              "      <th>1</th>\n",
              "      <td>323361</td>\n",
              "      <td>00AA</td>\n",
              "      <td>small_airport</td>\n",
              "      <td>Aero B Ranch Airport</td>\n",
              "      <td>38.704022</td>\n",
              "      <td>-101.473911</td>\n",
              "      <td>3435.0</td>\n",
              "      <td>NaN</td>\n",
              "      <td>US</td>\n",
              "      <td>US-KS</td>\n",
              "      <td>Leoti</td>\n",
              "      <td>no</td>\n",
              "      <td>00AA</td>\n",
              "      <td>NaN</td>\n",
              "      <td>00AA</td>\n",
              "      <td>NaN</td>\n",
              "      <td>NaN</td>\n",
              "      <td>NaN</td>\n",
              "    </tr>\n",
              "  </tbody>\n",
              "</table>\n",
              "</div>\n",
              "      <button class=\"colab-df-convert\" onclick=\"convertToInteractive('df-3ff69e22-52ea-4133-81e2-047f4b2e46b7')\"\n",
              "              title=\"Convert this dataframe to an interactive table.\"\n",
              "              style=\"display:none;\">\n",
              "        \n",
              "  <svg xmlns=\"http://www.w3.org/2000/svg\" height=\"24px\"viewBox=\"0 0 24 24\"\n",
              "       width=\"24px\">\n",
              "    <path d=\"M0 0h24v24H0V0z\" fill=\"none\"/>\n",
              "    <path d=\"M18.56 5.44l.94 2.06.94-2.06 2.06-.94-2.06-.94-.94-2.06-.94 2.06-2.06.94zm-11 1L8.5 8.5l.94-2.06 2.06-.94-2.06-.94L8.5 2.5l-.94 2.06-2.06.94zm10 10l.94 2.06.94-2.06 2.06-.94-2.06-.94-.94-2.06-.94 2.06-2.06.94z\"/><path d=\"M17.41 7.96l-1.37-1.37c-.4-.4-.92-.59-1.43-.59-.52 0-1.04.2-1.43.59L10.3 9.45l-7.72 7.72c-.78.78-.78 2.05 0 2.83L4 21.41c.39.39.9.59 1.41.59.51 0 1.02-.2 1.41-.59l7.78-7.78 2.81-2.81c.8-.78.8-2.07 0-2.86zM5.41 20L4 18.59l7.72-7.72 1.47 1.35L5.41 20z\"/>\n",
              "  </svg>\n",
              "      </button>\n",
              "      \n",
              "  <style>\n",
              "    .colab-df-container {\n",
              "      display:flex;\n",
              "      flex-wrap:wrap;\n",
              "      gap: 12px;\n",
              "    }\n",
              "\n",
              "    .colab-df-convert {\n",
              "      background-color: #E8F0FE;\n",
              "      border: none;\n",
              "      border-radius: 50%;\n",
              "      cursor: pointer;\n",
              "      display: none;\n",
              "      fill: #1967D2;\n",
              "      height: 32px;\n",
              "      padding: 0 0 0 0;\n",
              "      width: 32px;\n",
              "    }\n",
              "\n",
              "    .colab-df-convert:hover {\n",
              "      background-color: #E2EBFA;\n",
              "      box-shadow: 0px 1px 2px rgba(60, 64, 67, 0.3), 0px 1px 3px 1px rgba(60, 64, 67, 0.15);\n",
              "      fill: #174EA6;\n",
              "    }\n",
              "\n",
              "    [theme=dark] .colab-df-convert {\n",
              "      background-color: #3B4455;\n",
              "      fill: #D2E3FC;\n",
              "    }\n",
              "\n",
              "    [theme=dark] .colab-df-convert:hover {\n",
              "      background-color: #434B5C;\n",
              "      box-shadow: 0px 1px 3px 1px rgba(0, 0, 0, 0.15);\n",
              "      filter: drop-shadow(0px 1px 2px rgba(0, 0, 0, 0.3));\n",
              "      fill: #FFFFFF;\n",
              "    }\n",
              "  </style>\n",
              "\n",
              "      <script>\n",
              "        const buttonEl =\n",
              "          document.querySelector('#df-3ff69e22-52ea-4133-81e2-047f4b2e46b7 button.colab-df-convert');\n",
              "        buttonEl.style.display =\n",
              "          google.colab.kernel.accessAllowed ? 'block' : 'none';\n",
              "\n",
              "        async function convertToInteractive(key) {\n",
              "          const element = document.querySelector('#df-3ff69e22-52ea-4133-81e2-047f4b2e46b7');\n",
              "          const dataTable =\n",
              "            await google.colab.kernel.invokeFunction('convertToInteractive',\n",
              "                                                     [key], {});\n",
              "          if (!dataTable) return;\n",
              "\n",
              "          const docLinkHtml = 'Like what you see? Visit the ' +\n",
              "            '<a target=\"_blank\" href=https://colab.research.google.com/notebooks/data_table.ipynb>data table notebook</a>'\n",
              "            + ' to learn more about interactive tables.';\n",
              "          element.innerHTML = '';\n",
              "          dataTable['output_type'] = 'display_data';\n",
              "          await google.colab.output.renderOutput(dataTable, element);\n",
              "          const docLink = document.createElement('div');\n",
              "          docLink.innerHTML = docLinkHtml;\n",
              "          element.appendChild(docLink);\n",
              "        }\n",
              "      </script>\n",
              "    </div>\n",
              "  </div>\n",
              "  "
            ]
          },
          "metadata": {},
          "execution_count": 8
        }
      ],
      "source": [
        "airport_df.head(2)"
      ]
    },
    {
      "cell_type": "code",
      "execution_count": 9,
      "metadata": {
        "id": "jln5X8Ernx30"
      },
      "outputs": [],
      "source": [
        "airport_df = airport_df.drop(['continent', 'iso_country', 'iso_region','municipality', 'gps_code','local_code', 'home_link',\n",
        "                       'wikipedia_link', 'keywords'], axis=1)"
      ]
    },
    {
      "cell_type": "code",
      "execution_count": 10,
      "metadata": {
        "colab": {
          "base_uri": "https://localhost:8080/",
          "height": 228
        },
        "id": "fH1fNB2eoqdC",
        "outputId": "588e5b82-3698-46d3-abe4-25349007d0e2"
      },
      "outputs": [
        {
          "output_type": "execute_result",
          "data": {
            "text/plain": [
              "       id ident           type                  name  latitude_deg  \\\n",
              "0    6523   00A       heliport     Total Rf Heliport     40.070801   \n",
              "1  323361  00AA  small_airport  Aero B Ranch Airport     38.704022   \n",
              "\n",
              "   longitude_deg  elevation_ft scheduled_service iata_code  \n",
              "0     -74.933601          11.0                no       NaN  \n",
              "1    -101.473911        3435.0                no       NaN  "
            ],
            "text/html": [
              "\n",
              "  <div id=\"df-67c81e4a-8bbe-4722-8423-3d292c050b0b\">\n",
              "    <div class=\"colab-df-container\">\n",
              "      <div>\n",
              "<style scoped>\n",
              "    .dataframe tbody tr th:only-of-type {\n",
              "        vertical-align: middle;\n",
              "    }\n",
              "\n",
              "    .dataframe tbody tr th {\n",
              "        vertical-align: top;\n",
              "    }\n",
              "\n",
              "    .dataframe thead th {\n",
              "        text-align: right;\n",
              "    }\n",
              "</style>\n",
              "<table border=\"1\" class=\"dataframe\">\n",
              "  <thead>\n",
              "    <tr style=\"text-align: right;\">\n",
              "      <th></th>\n",
              "      <th>id</th>\n",
              "      <th>ident</th>\n",
              "      <th>type</th>\n",
              "      <th>name</th>\n",
              "      <th>latitude_deg</th>\n",
              "      <th>longitude_deg</th>\n",
              "      <th>elevation_ft</th>\n",
              "      <th>scheduled_service</th>\n",
              "      <th>iata_code</th>\n",
              "    </tr>\n",
              "  </thead>\n",
              "  <tbody>\n",
              "    <tr>\n",
              "      <th>0</th>\n",
              "      <td>6523</td>\n",
              "      <td>00A</td>\n",
              "      <td>heliport</td>\n",
              "      <td>Total Rf Heliport</td>\n",
              "      <td>40.070801</td>\n",
              "      <td>-74.933601</td>\n",
              "      <td>11.0</td>\n",
              "      <td>no</td>\n",
              "      <td>NaN</td>\n",
              "    </tr>\n",
              "    <tr>\n",
              "      <th>1</th>\n",
              "      <td>323361</td>\n",
              "      <td>00AA</td>\n",
              "      <td>small_airport</td>\n",
              "      <td>Aero B Ranch Airport</td>\n",
              "      <td>38.704022</td>\n",
              "      <td>-101.473911</td>\n",
              "      <td>3435.0</td>\n",
              "      <td>no</td>\n",
              "      <td>NaN</td>\n",
              "    </tr>\n",
              "  </tbody>\n",
              "</table>\n",
              "</div>\n",
              "      <button class=\"colab-df-convert\" onclick=\"convertToInteractive('df-67c81e4a-8bbe-4722-8423-3d292c050b0b')\"\n",
              "              title=\"Convert this dataframe to an interactive table.\"\n",
              "              style=\"display:none;\">\n",
              "        \n",
              "  <svg xmlns=\"http://www.w3.org/2000/svg\" height=\"24px\"viewBox=\"0 0 24 24\"\n",
              "       width=\"24px\">\n",
              "    <path d=\"M0 0h24v24H0V0z\" fill=\"none\"/>\n",
              "    <path d=\"M18.56 5.44l.94 2.06.94-2.06 2.06-.94-2.06-.94-.94-2.06-.94 2.06-2.06.94zm-11 1L8.5 8.5l.94-2.06 2.06-.94-2.06-.94L8.5 2.5l-.94 2.06-2.06.94zm10 10l.94 2.06.94-2.06 2.06-.94-2.06-.94-.94-2.06-.94 2.06-2.06.94z\"/><path d=\"M17.41 7.96l-1.37-1.37c-.4-.4-.92-.59-1.43-.59-.52 0-1.04.2-1.43.59L10.3 9.45l-7.72 7.72c-.78.78-.78 2.05 0 2.83L4 21.41c.39.39.9.59 1.41.59.51 0 1.02-.2 1.41-.59l7.78-7.78 2.81-2.81c.8-.78.8-2.07 0-2.86zM5.41 20L4 18.59l7.72-7.72 1.47 1.35L5.41 20z\"/>\n",
              "  </svg>\n",
              "      </button>\n",
              "      \n",
              "  <style>\n",
              "    .colab-df-container {\n",
              "      display:flex;\n",
              "      flex-wrap:wrap;\n",
              "      gap: 12px;\n",
              "    }\n",
              "\n",
              "    .colab-df-convert {\n",
              "      background-color: #E8F0FE;\n",
              "      border: none;\n",
              "      border-radius: 50%;\n",
              "      cursor: pointer;\n",
              "      display: none;\n",
              "      fill: #1967D2;\n",
              "      height: 32px;\n",
              "      padding: 0 0 0 0;\n",
              "      width: 32px;\n",
              "    }\n",
              "\n",
              "    .colab-df-convert:hover {\n",
              "      background-color: #E2EBFA;\n",
              "      box-shadow: 0px 1px 2px rgba(60, 64, 67, 0.3), 0px 1px 3px 1px rgba(60, 64, 67, 0.15);\n",
              "      fill: #174EA6;\n",
              "    }\n",
              "\n",
              "    [theme=dark] .colab-df-convert {\n",
              "      background-color: #3B4455;\n",
              "      fill: #D2E3FC;\n",
              "    }\n",
              "\n",
              "    [theme=dark] .colab-df-convert:hover {\n",
              "      background-color: #434B5C;\n",
              "      box-shadow: 0px 1px 3px 1px rgba(0, 0, 0, 0.15);\n",
              "      filter: drop-shadow(0px 1px 2px rgba(0, 0, 0, 0.3));\n",
              "      fill: #FFFFFF;\n",
              "    }\n",
              "  </style>\n",
              "\n",
              "      <script>\n",
              "        const buttonEl =\n",
              "          document.querySelector('#df-67c81e4a-8bbe-4722-8423-3d292c050b0b button.colab-df-convert');\n",
              "        buttonEl.style.display =\n",
              "          google.colab.kernel.accessAllowed ? 'block' : 'none';\n",
              "\n",
              "        async function convertToInteractive(key) {\n",
              "          const element = document.querySelector('#df-67c81e4a-8bbe-4722-8423-3d292c050b0b');\n",
              "          const dataTable =\n",
              "            await google.colab.kernel.invokeFunction('convertToInteractive',\n",
              "                                                     [key], {});\n",
              "          if (!dataTable) return;\n",
              "\n",
              "          const docLinkHtml = 'Like what you see? Visit the ' +\n",
              "            '<a target=\"_blank\" href=https://colab.research.google.com/notebooks/data_table.ipynb>data table notebook</a>'\n",
              "            + ' to learn more about interactive tables.';\n",
              "          element.innerHTML = '';\n",
              "          dataTable['output_type'] = 'display_data';\n",
              "          await google.colab.output.renderOutput(dataTable, element);\n",
              "          const docLink = document.createElement('div');\n",
              "          docLink.innerHTML = docLinkHtml;\n",
              "          element.appendChild(docLink);\n",
              "        }\n",
              "      </script>\n",
              "    </div>\n",
              "  </div>\n",
              "  "
            ]
          },
          "metadata": {},
          "execution_count": 10
        }
      ],
      "source": [
        "airport_df.head(2)"
      ]
    },
    {
      "cell_type": "code",
      "execution_count": 11,
      "metadata": {
        "id": "FlpjkFuxliGB"
      },
      "outputs": [],
      "source": [
        "runway_df = pd.read_excel(\"runways.xlsx\")"
      ]
    },
    {
      "cell_type": "code",
      "execution_count": 12,
      "metadata": {
        "colab": {
          "base_uri": "https://localhost:8080/"
        },
        "id": "48uzHrT2mHVk",
        "outputId": "e731fb8c-bd62-48d0-86f1-d841e2b7c78f"
      },
      "outputs": [
        {
          "output_type": "execute_result",
          "data": {
            "text/plain": [
              "(43977, 20)"
            ]
          },
          "metadata": {},
          "execution_count": 12
        }
      ],
      "source": [
        "runway_df.shape"
      ]
    },
    {
      "cell_type": "code",
      "execution_count": 13,
      "metadata": {
        "colab": {
          "base_uri": "https://localhost:8080/",
          "height": 176
        },
        "id": "4OmIgfj6mQ0b",
        "outputId": "a2c383a8-7309-4005-f9ad-720a6fdd28d1"
      },
      "outputs": [
        {
          "output_type": "execute_result",
          "data": {
            "text/plain": [
              "       id  airport_ref airport_ident  length_ft  width_ft surface  lighted  \\\n",
              "0  269408         6523           00A       80.0      80.0  ASPH-G        1   \n",
              "1  255155         6524          00AK     2500.0      70.0    GRVL        0   \n",
              "\n",
              "   closed le_ident  le_latitude_deg  le_longitude_deg  le_elevation_ft  \\\n",
              "0       0       H1              NaN               NaN              NaN   \n",
              "1       0        N              NaN               NaN              NaN   \n",
              "\n",
              "   le_heading_degT  le_displaced_threshold_ft he_ident  he_latitude_deg  \\\n",
              "0              NaN                        NaN      NaN              NaN   \n",
              "1              NaN                        NaN        S              NaN   \n",
              "\n",
              "   he_longitude_deg  he_elevation_ft  he_heading_degT  \\\n",
              "0               NaN              NaN              NaN   \n",
              "1               NaN              NaN              NaN   \n",
              "\n",
              "   he_displaced_threshold_ft  \n",
              "0                        NaN  \n",
              "1                        NaN  "
            ],
            "text/html": [
              "\n",
              "  <div id=\"df-e20b0e51-5b90-4d3a-84b0-453d4b067e20\">\n",
              "    <div class=\"colab-df-container\">\n",
              "      <div>\n",
              "<style scoped>\n",
              "    .dataframe tbody tr th:only-of-type {\n",
              "        vertical-align: middle;\n",
              "    }\n",
              "\n",
              "    .dataframe tbody tr th {\n",
              "        vertical-align: top;\n",
              "    }\n",
              "\n",
              "    .dataframe thead th {\n",
              "        text-align: right;\n",
              "    }\n",
              "</style>\n",
              "<table border=\"1\" class=\"dataframe\">\n",
              "  <thead>\n",
              "    <tr style=\"text-align: right;\">\n",
              "      <th></th>\n",
              "      <th>id</th>\n",
              "      <th>airport_ref</th>\n",
              "      <th>airport_ident</th>\n",
              "      <th>length_ft</th>\n",
              "      <th>width_ft</th>\n",
              "      <th>surface</th>\n",
              "      <th>lighted</th>\n",
              "      <th>closed</th>\n",
              "      <th>le_ident</th>\n",
              "      <th>le_latitude_deg</th>\n",
              "      <th>le_longitude_deg</th>\n",
              "      <th>le_elevation_ft</th>\n",
              "      <th>le_heading_degT</th>\n",
              "      <th>le_displaced_threshold_ft</th>\n",
              "      <th>he_ident</th>\n",
              "      <th>he_latitude_deg</th>\n",
              "      <th>he_longitude_deg</th>\n",
              "      <th>he_elevation_ft</th>\n",
              "      <th>he_heading_degT</th>\n",
              "      <th>he_displaced_threshold_ft</th>\n",
              "    </tr>\n",
              "  </thead>\n",
              "  <tbody>\n",
              "    <tr>\n",
              "      <th>0</th>\n",
              "      <td>269408</td>\n",
              "      <td>6523</td>\n",
              "      <td>00A</td>\n",
              "      <td>80.0</td>\n",
              "      <td>80.0</td>\n",
              "      <td>ASPH-G</td>\n",
              "      <td>1</td>\n",
              "      <td>0</td>\n",
              "      <td>H1</td>\n",
              "      <td>NaN</td>\n",
              "      <td>NaN</td>\n",
              "      <td>NaN</td>\n",
              "      <td>NaN</td>\n",
              "      <td>NaN</td>\n",
              "      <td>NaN</td>\n",
              "      <td>NaN</td>\n",
              "      <td>NaN</td>\n",
              "      <td>NaN</td>\n",
              "      <td>NaN</td>\n",
              "      <td>NaN</td>\n",
              "    </tr>\n",
              "    <tr>\n",
              "      <th>1</th>\n",
              "      <td>255155</td>\n",
              "      <td>6524</td>\n",
              "      <td>00AK</td>\n",
              "      <td>2500.0</td>\n",
              "      <td>70.0</td>\n",
              "      <td>GRVL</td>\n",
              "      <td>0</td>\n",
              "      <td>0</td>\n",
              "      <td>N</td>\n",
              "      <td>NaN</td>\n",
              "      <td>NaN</td>\n",
              "      <td>NaN</td>\n",
              "      <td>NaN</td>\n",
              "      <td>NaN</td>\n",
              "      <td>S</td>\n",
              "      <td>NaN</td>\n",
              "      <td>NaN</td>\n",
              "      <td>NaN</td>\n",
              "      <td>NaN</td>\n",
              "      <td>NaN</td>\n",
              "    </tr>\n",
              "  </tbody>\n",
              "</table>\n",
              "</div>\n",
              "      <button class=\"colab-df-convert\" onclick=\"convertToInteractive('df-e20b0e51-5b90-4d3a-84b0-453d4b067e20')\"\n",
              "              title=\"Convert this dataframe to an interactive table.\"\n",
              "              style=\"display:none;\">\n",
              "        \n",
              "  <svg xmlns=\"http://www.w3.org/2000/svg\" height=\"24px\"viewBox=\"0 0 24 24\"\n",
              "       width=\"24px\">\n",
              "    <path d=\"M0 0h24v24H0V0z\" fill=\"none\"/>\n",
              "    <path d=\"M18.56 5.44l.94 2.06.94-2.06 2.06-.94-2.06-.94-.94-2.06-.94 2.06-2.06.94zm-11 1L8.5 8.5l.94-2.06 2.06-.94-2.06-.94L8.5 2.5l-.94 2.06-2.06.94zm10 10l.94 2.06.94-2.06 2.06-.94-2.06-.94-.94-2.06-.94 2.06-2.06.94z\"/><path d=\"M17.41 7.96l-1.37-1.37c-.4-.4-.92-.59-1.43-.59-.52 0-1.04.2-1.43.59L10.3 9.45l-7.72 7.72c-.78.78-.78 2.05 0 2.83L4 21.41c.39.39.9.59 1.41.59.51 0 1.02-.2 1.41-.59l7.78-7.78 2.81-2.81c.8-.78.8-2.07 0-2.86zM5.41 20L4 18.59l7.72-7.72 1.47 1.35L5.41 20z\"/>\n",
              "  </svg>\n",
              "      </button>\n",
              "      \n",
              "  <style>\n",
              "    .colab-df-container {\n",
              "      display:flex;\n",
              "      flex-wrap:wrap;\n",
              "      gap: 12px;\n",
              "    }\n",
              "\n",
              "    .colab-df-convert {\n",
              "      background-color: #E8F0FE;\n",
              "      border: none;\n",
              "      border-radius: 50%;\n",
              "      cursor: pointer;\n",
              "      display: none;\n",
              "      fill: #1967D2;\n",
              "      height: 32px;\n",
              "      padding: 0 0 0 0;\n",
              "      width: 32px;\n",
              "    }\n",
              "\n",
              "    .colab-df-convert:hover {\n",
              "      background-color: #E2EBFA;\n",
              "      box-shadow: 0px 1px 2px rgba(60, 64, 67, 0.3), 0px 1px 3px 1px rgba(60, 64, 67, 0.15);\n",
              "      fill: #174EA6;\n",
              "    }\n",
              "\n",
              "    [theme=dark] .colab-df-convert {\n",
              "      background-color: #3B4455;\n",
              "      fill: #D2E3FC;\n",
              "    }\n",
              "\n",
              "    [theme=dark] .colab-df-convert:hover {\n",
              "      background-color: #434B5C;\n",
              "      box-shadow: 0px 1px 3px 1px rgba(0, 0, 0, 0.15);\n",
              "      filter: drop-shadow(0px 1px 2px rgba(0, 0, 0, 0.3));\n",
              "      fill: #FFFFFF;\n",
              "    }\n",
              "  </style>\n",
              "\n",
              "      <script>\n",
              "        const buttonEl =\n",
              "          document.querySelector('#df-e20b0e51-5b90-4d3a-84b0-453d4b067e20 button.colab-df-convert');\n",
              "        buttonEl.style.display =\n",
              "          google.colab.kernel.accessAllowed ? 'block' : 'none';\n",
              "\n",
              "        async function convertToInteractive(key) {\n",
              "          const element = document.querySelector('#df-e20b0e51-5b90-4d3a-84b0-453d4b067e20');\n",
              "          const dataTable =\n",
              "            await google.colab.kernel.invokeFunction('convertToInteractive',\n",
              "                                                     [key], {});\n",
              "          if (!dataTable) return;\n",
              "\n",
              "          const docLinkHtml = 'Like what you see? Visit the ' +\n",
              "            '<a target=\"_blank\" href=https://colab.research.google.com/notebooks/data_table.ipynb>data table notebook</a>'\n",
              "            + ' to learn more about interactive tables.';\n",
              "          element.innerHTML = '';\n",
              "          dataTable['output_type'] = 'display_data';\n",
              "          await google.colab.output.renderOutput(dataTable, element);\n",
              "          const docLink = document.createElement('div');\n",
              "          docLink.innerHTML = docLinkHtml;\n",
              "          element.appendChild(docLink);\n",
              "        }\n",
              "      </script>\n",
              "    </div>\n",
              "  </div>\n",
              "  "
            ]
          },
          "metadata": {},
          "execution_count": 13
        }
      ],
      "source": [
        "runway_df.head(2)"
      ]
    },
    {
      "cell_type": "code",
      "execution_count": 14,
      "metadata": {
        "id": "3xX_LvJ7mgG6"
      },
      "outputs": [],
      "source": [
        "runways_df = runway_df.drop(['le_ident', 'le_latitude_deg','le_longitude_deg', 'le_elevation_ft', 'le_heading_degT',\n",
        "       'le_displaced_threshold_ft', 'he_ident', 'he_latitude_deg','he_longitude_deg', 'he_elevation_ft', 'he_heading_degT',\n",
        "       'he_displaced_threshold_ft'], axis = 1)"
      ]
    },
    {
      "cell_type": "code",
      "execution_count": 15,
      "metadata": {
        "colab": {
          "base_uri": "https://localhost:8080/",
          "height": 112
        },
        "id": "p57z_tn7neaw",
        "outputId": "5f15611f-e55c-43bd-9fcd-d6fc1bb9da26"
      },
      "outputs": [
        {
          "output_type": "execute_result",
          "data": {
            "text/plain": [
              "       id  airport_ref airport_ident  length_ft  width_ft surface  lighted  \\\n",
              "0  269408         6523           00A       80.0      80.0  ASPH-G        1   \n",
              "1  255155         6524          00AK     2500.0      70.0    GRVL        0   \n",
              "\n",
              "   closed  \n",
              "0       0  \n",
              "1       0  "
            ],
            "text/html": [
              "\n",
              "  <div id=\"df-513de3c8-660e-48f2-b235-28c74b236b30\">\n",
              "    <div class=\"colab-df-container\">\n",
              "      <div>\n",
              "<style scoped>\n",
              "    .dataframe tbody tr th:only-of-type {\n",
              "        vertical-align: middle;\n",
              "    }\n",
              "\n",
              "    .dataframe tbody tr th {\n",
              "        vertical-align: top;\n",
              "    }\n",
              "\n",
              "    .dataframe thead th {\n",
              "        text-align: right;\n",
              "    }\n",
              "</style>\n",
              "<table border=\"1\" class=\"dataframe\">\n",
              "  <thead>\n",
              "    <tr style=\"text-align: right;\">\n",
              "      <th></th>\n",
              "      <th>id</th>\n",
              "      <th>airport_ref</th>\n",
              "      <th>airport_ident</th>\n",
              "      <th>length_ft</th>\n",
              "      <th>width_ft</th>\n",
              "      <th>surface</th>\n",
              "      <th>lighted</th>\n",
              "      <th>closed</th>\n",
              "    </tr>\n",
              "  </thead>\n",
              "  <tbody>\n",
              "    <tr>\n",
              "      <th>0</th>\n",
              "      <td>269408</td>\n",
              "      <td>6523</td>\n",
              "      <td>00A</td>\n",
              "      <td>80.0</td>\n",
              "      <td>80.0</td>\n",
              "      <td>ASPH-G</td>\n",
              "      <td>1</td>\n",
              "      <td>0</td>\n",
              "    </tr>\n",
              "    <tr>\n",
              "      <th>1</th>\n",
              "      <td>255155</td>\n",
              "      <td>6524</td>\n",
              "      <td>00AK</td>\n",
              "      <td>2500.0</td>\n",
              "      <td>70.0</td>\n",
              "      <td>GRVL</td>\n",
              "      <td>0</td>\n",
              "      <td>0</td>\n",
              "    </tr>\n",
              "  </tbody>\n",
              "</table>\n",
              "</div>\n",
              "      <button class=\"colab-df-convert\" onclick=\"convertToInteractive('df-513de3c8-660e-48f2-b235-28c74b236b30')\"\n",
              "              title=\"Convert this dataframe to an interactive table.\"\n",
              "              style=\"display:none;\">\n",
              "        \n",
              "  <svg xmlns=\"http://www.w3.org/2000/svg\" height=\"24px\"viewBox=\"0 0 24 24\"\n",
              "       width=\"24px\">\n",
              "    <path d=\"M0 0h24v24H0V0z\" fill=\"none\"/>\n",
              "    <path d=\"M18.56 5.44l.94 2.06.94-2.06 2.06-.94-2.06-.94-.94-2.06-.94 2.06-2.06.94zm-11 1L8.5 8.5l.94-2.06 2.06-.94-2.06-.94L8.5 2.5l-.94 2.06-2.06.94zm10 10l.94 2.06.94-2.06 2.06-.94-2.06-.94-.94-2.06-.94 2.06-2.06.94z\"/><path d=\"M17.41 7.96l-1.37-1.37c-.4-.4-.92-.59-1.43-.59-.52 0-1.04.2-1.43.59L10.3 9.45l-7.72 7.72c-.78.78-.78 2.05 0 2.83L4 21.41c.39.39.9.59 1.41.59.51 0 1.02-.2 1.41-.59l7.78-7.78 2.81-2.81c.8-.78.8-2.07 0-2.86zM5.41 20L4 18.59l7.72-7.72 1.47 1.35L5.41 20z\"/>\n",
              "  </svg>\n",
              "      </button>\n",
              "      \n",
              "  <style>\n",
              "    .colab-df-container {\n",
              "      display:flex;\n",
              "      flex-wrap:wrap;\n",
              "      gap: 12px;\n",
              "    }\n",
              "\n",
              "    .colab-df-convert {\n",
              "      background-color: #E8F0FE;\n",
              "      border: none;\n",
              "      border-radius: 50%;\n",
              "      cursor: pointer;\n",
              "      display: none;\n",
              "      fill: #1967D2;\n",
              "      height: 32px;\n",
              "      padding: 0 0 0 0;\n",
              "      width: 32px;\n",
              "    }\n",
              "\n",
              "    .colab-df-convert:hover {\n",
              "      background-color: #E2EBFA;\n",
              "      box-shadow: 0px 1px 2px rgba(60, 64, 67, 0.3), 0px 1px 3px 1px rgba(60, 64, 67, 0.15);\n",
              "      fill: #174EA6;\n",
              "    }\n",
              "\n",
              "    [theme=dark] .colab-df-convert {\n",
              "      background-color: #3B4455;\n",
              "      fill: #D2E3FC;\n",
              "    }\n",
              "\n",
              "    [theme=dark] .colab-df-convert:hover {\n",
              "      background-color: #434B5C;\n",
              "      box-shadow: 0px 1px 3px 1px rgba(0, 0, 0, 0.15);\n",
              "      filter: drop-shadow(0px 1px 2px rgba(0, 0, 0, 0.3));\n",
              "      fill: #FFFFFF;\n",
              "    }\n",
              "  </style>\n",
              "\n",
              "      <script>\n",
              "        const buttonEl =\n",
              "          document.querySelector('#df-513de3c8-660e-48f2-b235-28c74b236b30 button.colab-df-convert');\n",
              "        buttonEl.style.display =\n",
              "          google.colab.kernel.accessAllowed ? 'block' : 'none';\n",
              "\n",
              "        async function convertToInteractive(key) {\n",
              "          const element = document.querySelector('#df-513de3c8-660e-48f2-b235-28c74b236b30');\n",
              "          const dataTable =\n",
              "            await google.colab.kernel.invokeFunction('convertToInteractive',\n",
              "                                                     [key], {});\n",
              "          if (!dataTable) return;\n",
              "\n",
              "          const docLinkHtml = 'Like what you see? Visit the ' +\n",
              "            '<a target=\"_blank\" href=https://colab.research.google.com/notebooks/data_table.ipynb>data table notebook</a>'\n",
              "            + ' to learn more about interactive tables.';\n",
              "          element.innerHTML = '';\n",
              "          dataTable['output_type'] = 'display_data';\n",
              "          await google.colab.output.renderOutput(dataTable, element);\n",
              "          const docLink = document.createElement('div');\n",
              "          docLink.innerHTML = docLinkHtml;\n",
              "          element.appendChild(docLink);\n",
              "        }\n",
              "      </script>\n",
              "    </div>\n",
              "  </div>\n",
              "  "
            ]
          },
          "metadata": {},
          "execution_count": 15
        }
      ],
      "source": [
        "runways_df.head(2)"
      ]
    },
    {
      "cell_type": "code",
      "execution_count": 16,
      "metadata": {
        "id": "oRylThGZnmRn"
      },
      "outputs": [],
      "source": [
        "# Now lets merge the runways and airport data.\n",
        "airport_runway = pd.merge(airport_df, runways_df, left_on = \"ident\", right_on = \"airport_ident\")\n",
        "airport_runway.drop(['id_x', 'id_y'], axis=1, inplace=True)"
      ]
    },
    {
      "cell_type": "code",
      "execution_count": 17,
      "metadata": {
        "colab": {
          "base_uri": "https://localhost:8080/",
          "height": 210
        },
        "id": "M3ZLJfxtqDut",
        "outputId": "88a7d302-ba6c-4ba0-b67f-5a46535f6d83"
      },
      "outputs": [
        {
          "output_type": "execute_result",
          "data": {
            "text/plain": [
              "  ident           type               name  latitude_deg  longitude_deg  \\\n",
              "0   00A       heliport  Total Rf Heliport     40.070801     -74.933601   \n",
              "1  00AK  small_airport       Lowell Field     59.947733    -151.692524   \n",
              "\n",
              "   elevation_ft scheduled_service iata_code  airport_ref airport_ident  \\\n",
              "0          11.0                no       NaN         6523           00A   \n",
              "1         450.0                no       NaN         6524          00AK   \n",
              "\n",
              "   length_ft  width_ft surface  lighted  closed  \n",
              "0       80.0      80.0  ASPH-G        1       0  \n",
              "1     2500.0      70.0    GRVL        0       0  "
            ],
            "text/html": [
              "\n",
              "  <div id=\"df-80e9480f-0229-459f-bd32-d8e50e5e800e\">\n",
              "    <div class=\"colab-df-container\">\n",
              "      <div>\n",
              "<style scoped>\n",
              "    .dataframe tbody tr th:only-of-type {\n",
              "        vertical-align: middle;\n",
              "    }\n",
              "\n",
              "    .dataframe tbody tr th {\n",
              "        vertical-align: top;\n",
              "    }\n",
              "\n",
              "    .dataframe thead th {\n",
              "        text-align: right;\n",
              "    }\n",
              "</style>\n",
              "<table border=\"1\" class=\"dataframe\">\n",
              "  <thead>\n",
              "    <tr style=\"text-align: right;\">\n",
              "      <th></th>\n",
              "      <th>ident</th>\n",
              "      <th>type</th>\n",
              "      <th>name</th>\n",
              "      <th>latitude_deg</th>\n",
              "      <th>longitude_deg</th>\n",
              "      <th>elevation_ft</th>\n",
              "      <th>scheduled_service</th>\n",
              "      <th>iata_code</th>\n",
              "      <th>airport_ref</th>\n",
              "      <th>airport_ident</th>\n",
              "      <th>length_ft</th>\n",
              "      <th>width_ft</th>\n",
              "      <th>surface</th>\n",
              "      <th>lighted</th>\n",
              "      <th>closed</th>\n",
              "    </tr>\n",
              "  </thead>\n",
              "  <tbody>\n",
              "    <tr>\n",
              "      <th>0</th>\n",
              "      <td>00A</td>\n",
              "      <td>heliport</td>\n",
              "      <td>Total Rf Heliport</td>\n",
              "      <td>40.070801</td>\n",
              "      <td>-74.933601</td>\n",
              "      <td>11.0</td>\n",
              "      <td>no</td>\n",
              "      <td>NaN</td>\n",
              "      <td>6523</td>\n",
              "      <td>00A</td>\n",
              "      <td>80.0</td>\n",
              "      <td>80.0</td>\n",
              "      <td>ASPH-G</td>\n",
              "      <td>1</td>\n",
              "      <td>0</td>\n",
              "    </tr>\n",
              "    <tr>\n",
              "      <th>1</th>\n",
              "      <td>00AK</td>\n",
              "      <td>small_airport</td>\n",
              "      <td>Lowell Field</td>\n",
              "      <td>59.947733</td>\n",
              "      <td>-151.692524</td>\n",
              "      <td>450.0</td>\n",
              "      <td>no</td>\n",
              "      <td>NaN</td>\n",
              "      <td>6524</td>\n",
              "      <td>00AK</td>\n",
              "      <td>2500.0</td>\n",
              "      <td>70.0</td>\n",
              "      <td>GRVL</td>\n",
              "      <td>0</td>\n",
              "      <td>0</td>\n",
              "    </tr>\n",
              "  </tbody>\n",
              "</table>\n",
              "</div>\n",
              "      <button class=\"colab-df-convert\" onclick=\"convertToInteractive('df-80e9480f-0229-459f-bd32-d8e50e5e800e')\"\n",
              "              title=\"Convert this dataframe to an interactive table.\"\n",
              "              style=\"display:none;\">\n",
              "        \n",
              "  <svg xmlns=\"http://www.w3.org/2000/svg\" height=\"24px\"viewBox=\"0 0 24 24\"\n",
              "       width=\"24px\">\n",
              "    <path d=\"M0 0h24v24H0V0z\" fill=\"none\"/>\n",
              "    <path d=\"M18.56 5.44l.94 2.06.94-2.06 2.06-.94-2.06-.94-.94-2.06-.94 2.06-2.06.94zm-11 1L8.5 8.5l.94-2.06 2.06-.94-2.06-.94L8.5 2.5l-.94 2.06-2.06.94zm10 10l.94 2.06.94-2.06 2.06-.94-2.06-.94-.94-2.06-.94 2.06-2.06.94z\"/><path d=\"M17.41 7.96l-1.37-1.37c-.4-.4-.92-.59-1.43-.59-.52 0-1.04.2-1.43.59L10.3 9.45l-7.72 7.72c-.78.78-.78 2.05 0 2.83L4 21.41c.39.39.9.59 1.41.59.51 0 1.02-.2 1.41-.59l7.78-7.78 2.81-2.81c.8-.78.8-2.07 0-2.86zM5.41 20L4 18.59l7.72-7.72 1.47 1.35L5.41 20z\"/>\n",
              "  </svg>\n",
              "      </button>\n",
              "      \n",
              "  <style>\n",
              "    .colab-df-container {\n",
              "      display:flex;\n",
              "      flex-wrap:wrap;\n",
              "      gap: 12px;\n",
              "    }\n",
              "\n",
              "    .colab-df-convert {\n",
              "      background-color: #E8F0FE;\n",
              "      border: none;\n",
              "      border-radius: 50%;\n",
              "      cursor: pointer;\n",
              "      display: none;\n",
              "      fill: #1967D2;\n",
              "      height: 32px;\n",
              "      padding: 0 0 0 0;\n",
              "      width: 32px;\n",
              "    }\n",
              "\n",
              "    .colab-df-convert:hover {\n",
              "      background-color: #E2EBFA;\n",
              "      box-shadow: 0px 1px 2px rgba(60, 64, 67, 0.3), 0px 1px 3px 1px rgba(60, 64, 67, 0.15);\n",
              "      fill: #174EA6;\n",
              "    }\n",
              "\n",
              "    [theme=dark] .colab-df-convert {\n",
              "      background-color: #3B4455;\n",
              "      fill: #D2E3FC;\n",
              "    }\n",
              "\n",
              "    [theme=dark] .colab-df-convert:hover {\n",
              "      background-color: #434B5C;\n",
              "      box-shadow: 0px 1px 3px 1px rgba(0, 0, 0, 0.15);\n",
              "      filter: drop-shadow(0px 1px 2px rgba(0, 0, 0, 0.3));\n",
              "      fill: #FFFFFF;\n",
              "    }\n",
              "  </style>\n",
              "\n",
              "      <script>\n",
              "        const buttonEl =\n",
              "          document.querySelector('#df-80e9480f-0229-459f-bd32-d8e50e5e800e button.colab-df-convert');\n",
              "        buttonEl.style.display =\n",
              "          google.colab.kernel.accessAllowed ? 'block' : 'none';\n",
              "\n",
              "        async function convertToInteractive(key) {\n",
              "          const element = document.querySelector('#df-80e9480f-0229-459f-bd32-d8e50e5e800e');\n",
              "          const dataTable =\n",
              "            await google.colab.kernel.invokeFunction('convertToInteractive',\n",
              "                                                     [key], {});\n",
              "          if (!dataTable) return;\n",
              "\n",
              "          const docLinkHtml = 'Like what you see? Visit the ' +\n",
              "            '<a target=\"_blank\" href=https://colab.research.google.com/notebooks/data_table.ipynb>data table notebook</a>'\n",
              "            + ' to learn more about interactive tables.';\n",
              "          element.innerHTML = '';\n",
              "          dataTable['output_type'] = 'display_data';\n",
              "          await google.colab.output.renderOutput(dataTable, element);\n",
              "          const docLink = document.createElement('div');\n",
              "          docLink.innerHTML = docLinkHtml;\n",
              "          element.appendChild(docLink);\n",
              "        }\n",
              "      </script>\n",
              "    </div>\n",
              "  </div>\n",
              "  "
            ]
          },
          "metadata": {},
          "execution_count": 17
        }
      ],
      "source": [
        "airport_runway.head(2)"
      ]
    },
    {
      "cell_type": "code",
      "execution_count": 18,
      "metadata": {
        "id": "Sb7Um8vMquN2"
      },
      "outputs": [],
      "source": [
        "# Now lets merge the final column airline.\n",
        "final_data = pd.merge(airline_df,airport_runway,how = \"inner\", left_on = \"AirportFrom\", right_on = \"iata_code\" )"
      ]
    },
    {
      "cell_type": "code",
      "execution_count": 19,
      "metadata": {
        "colab": {
          "base_uri": "https://localhost:8080/",
          "height": 205
        },
        "id": "kcEATRkvrq0e",
        "outputId": "cfaa74f4-002e-4ae0-fbfd-e0fc3606e01c"
      },
      "outputs": [
        {
          "output_type": "execute_result",
          "data": {
            "text/plain": [
              "   id Airline  Flight AirportFrom AirportTo  DayOfWeek  Time  Length  Delay  \\\n",
              "0   1      CO     269         SFO       IAH          3    15     205      1   \n",
              "4   4      AA    2466         SFO       DFW          3    20     195      1   \n",
              "\n",
              "  ident  ... elevation_ft scheduled_service  iata_code  airport_ref  \\\n",
              "0  KSFO  ...         13.0               yes        SFO         3878   \n",
              "4  KSFO  ...         13.0               yes        SFO         3878   \n",
              "\n",
              "   airport_ident length_ft width_ft  surface lighted  closed  \n",
              "0           KSFO    7500.0    200.0      ASP       1       0  \n",
              "4           KSFO    7500.0    200.0      ASP       1       0  \n",
              "\n",
              "[2 rows x 24 columns]"
            ],
            "text/html": [
              "\n",
              "  <div id=\"df-6fdcf5ce-61c8-44af-aaca-e15547b9a2ef\">\n",
              "    <div class=\"colab-df-container\">\n",
              "      <div>\n",
              "<style scoped>\n",
              "    .dataframe tbody tr th:only-of-type {\n",
              "        vertical-align: middle;\n",
              "    }\n",
              "\n",
              "    .dataframe tbody tr th {\n",
              "        vertical-align: top;\n",
              "    }\n",
              "\n",
              "    .dataframe thead th {\n",
              "        text-align: right;\n",
              "    }\n",
              "</style>\n",
              "<table border=\"1\" class=\"dataframe\">\n",
              "  <thead>\n",
              "    <tr style=\"text-align: right;\">\n",
              "      <th></th>\n",
              "      <th>id</th>\n",
              "      <th>Airline</th>\n",
              "      <th>Flight</th>\n",
              "      <th>AirportFrom</th>\n",
              "      <th>AirportTo</th>\n",
              "      <th>DayOfWeek</th>\n",
              "      <th>Time</th>\n",
              "      <th>Length</th>\n",
              "      <th>Delay</th>\n",
              "      <th>ident</th>\n",
              "      <th>...</th>\n",
              "      <th>elevation_ft</th>\n",
              "      <th>scheduled_service</th>\n",
              "      <th>iata_code</th>\n",
              "      <th>airport_ref</th>\n",
              "      <th>airport_ident</th>\n",
              "      <th>length_ft</th>\n",
              "      <th>width_ft</th>\n",
              "      <th>surface</th>\n",
              "      <th>lighted</th>\n",
              "      <th>closed</th>\n",
              "    </tr>\n",
              "  </thead>\n",
              "  <tbody>\n",
              "    <tr>\n",
              "      <th>0</th>\n",
              "      <td>1</td>\n",
              "      <td>CO</td>\n",
              "      <td>269</td>\n",
              "      <td>SFO</td>\n",
              "      <td>IAH</td>\n",
              "      <td>3</td>\n",
              "      <td>15</td>\n",
              "      <td>205</td>\n",
              "      <td>1</td>\n",
              "      <td>KSFO</td>\n",
              "      <td>...</td>\n",
              "      <td>13.0</td>\n",
              "      <td>yes</td>\n",
              "      <td>SFO</td>\n",
              "      <td>3878</td>\n",
              "      <td>KSFO</td>\n",
              "      <td>7500.0</td>\n",
              "      <td>200.0</td>\n",
              "      <td>ASP</td>\n",
              "      <td>1</td>\n",
              "      <td>0</td>\n",
              "    </tr>\n",
              "    <tr>\n",
              "      <th>4</th>\n",
              "      <td>4</td>\n",
              "      <td>AA</td>\n",
              "      <td>2466</td>\n",
              "      <td>SFO</td>\n",
              "      <td>DFW</td>\n",
              "      <td>3</td>\n",
              "      <td>20</td>\n",
              "      <td>195</td>\n",
              "      <td>1</td>\n",
              "      <td>KSFO</td>\n",
              "      <td>...</td>\n",
              "      <td>13.0</td>\n",
              "      <td>yes</td>\n",
              "      <td>SFO</td>\n",
              "      <td>3878</td>\n",
              "      <td>KSFO</td>\n",
              "      <td>7500.0</td>\n",
              "      <td>200.0</td>\n",
              "      <td>ASP</td>\n",
              "      <td>1</td>\n",
              "      <td>0</td>\n",
              "    </tr>\n",
              "  </tbody>\n",
              "</table>\n",
              "<p>2 rows × 24 columns</p>\n",
              "</div>\n",
              "      <button class=\"colab-df-convert\" onclick=\"convertToInteractive('df-6fdcf5ce-61c8-44af-aaca-e15547b9a2ef')\"\n",
              "              title=\"Convert this dataframe to an interactive table.\"\n",
              "              style=\"display:none;\">\n",
              "        \n",
              "  <svg xmlns=\"http://www.w3.org/2000/svg\" height=\"24px\"viewBox=\"0 0 24 24\"\n",
              "       width=\"24px\">\n",
              "    <path d=\"M0 0h24v24H0V0z\" fill=\"none\"/>\n",
              "    <path d=\"M18.56 5.44l.94 2.06.94-2.06 2.06-.94-2.06-.94-.94-2.06-.94 2.06-2.06.94zm-11 1L8.5 8.5l.94-2.06 2.06-.94-2.06-.94L8.5 2.5l-.94 2.06-2.06.94zm10 10l.94 2.06.94-2.06 2.06-.94-2.06-.94-.94-2.06-.94 2.06-2.06.94z\"/><path d=\"M17.41 7.96l-1.37-1.37c-.4-.4-.92-.59-1.43-.59-.52 0-1.04.2-1.43.59L10.3 9.45l-7.72 7.72c-.78.78-.78 2.05 0 2.83L4 21.41c.39.39.9.59 1.41.59.51 0 1.02-.2 1.41-.59l7.78-7.78 2.81-2.81c.8-.78.8-2.07 0-2.86zM5.41 20L4 18.59l7.72-7.72 1.47 1.35L5.41 20z\"/>\n",
              "  </svg>\n",
              "      </button>\n",
              "      \n",
              "  <style>\n",
              "    .colab-df-container {\n",
              "      display:flex;\n",
              "      flex-wrap:wrap;\n",
              "      gap: 12px;\n",
              "    }\n",
              "\n",
              "    .colab-df-convert {\n",
              "      background-color: #E8F0FE;\n",
              "      border: none;\n",
              "      border-radius: 50%;\n",
              "      cursor: pointer;\n",
              "      display: none;\n",
              "      fill: #1967D2;\n",
              "      height: 32px;\n",
              "      padding: 0 0 0 0;\n",
              "      width: 32px;\n",
              "    }\n",
              "\n",
              "    .colab-df-convert:hover {\n",
              "      background-color: #E2EBFA;\n",
              "      box-shadow: 0px 1px 2px rgba(60, 64, 67, 0.3), 0px 1px 3px 1px rgba(60, 64, 67, 0.15);\n",
              "      fill: #174EA6;\n",
              "    }\n",
              "\n",
              "    [theme=dark] .colab-df-convert {\n",
              "      background-color: #3B4455;\n",
              "      fill: #D2E3FC;\n",
              "    }\n",
              "\n",
              "    [theme=dark] .colab-df-convert:hover {\n",
              "      background-color: #434B5C;\n",
              "      box-shadow: 0px 1px 3px 1px rgba(0, 0, 0, 0.15);\n",
              "      filter: drop-shadow(0px 1px 2px rgba(0, 0, 0, 0.3));\n",
              "      fill: #FFFFFF;\n",
              "    }\n",
              "  </style>\n",
              "\n",
              "      <script>\n",
              "        const buttonEl =\n",
              "          document.querySelector('#df-6fdcf5ce-61c8-44af-aaca-e15547b9a2ef button.colab-df-convert');\n",
              "        buttonEl.style.display =\n",
              "          google.colab.kernel.accessAllowed ? 'block' : 'none';\n",
              "\n",
              "        async function convertToInteractive(key) {\n",
              "          const element = document.querySelector('#df-6fdcf5ce-61c8-44af-aaca-e15547b9a2ef');\n",
              "          const dataTable =\n",
              "            await google.colab.kernel.invokeFunction('convertToInteractive',\n",
              "                                                     [key], {});\n",
              "          if (!dataTable) return;\n",
              "\n",
              "          const docLinkHtml = 'Like what you see? Visit the ' +\n",
              "            '<a target=\"_blank\" href=https://colab.research.google.com/notebooks/data_table.ipynb>data table notebook</a>'\n",
              "            + ' to learn more about interactive tables.';\n",
              "          element.innerHTML = '';\n",
              "          dataTable['output_type'] = 'display_data';\n",
              "          await google.colab.output.renderOutput(dataTable, element);\n",
              "          const docLink = document.createElement('div');\n",
              "          docLink.innerHTML = docLinkHtml;\n",
              "          element.appendChild(docLink);\n",
              "        }\n",
              "      </script>\n",
              "    </div>\n",
              "  </div>\n",
              "  "
            ]
          },
          "metadata": {},
          "execution_count": 19
        }
      ],
      "source": [
        "final_data.drop_duplicates(subset=['id'], keep='first', inplace=True)\n",
        "final_data.head(2)"
      ]
    },
    {
      "cell_type": "markdown",
      "metadata": {
        "id": "nwPaNTVWslqJ"
      },
      "source": [
        "b. When it comes to on-time arrivals, different airlines perform differently based on the amount of \n",
        "experience they have. The major airlines in this field include US Airways Express (founded in \n",
        "1967) Continental Airlines (founded in 1934), and Express Jet (founded in 19860. Pull such \n",
        "information specific to various airlines from the Wikipedia page link given below.\n",
        "https://en.wikipedia.org/wiki/List_of_airlines_of_the_United_States."
      ]
    },
    {
      "cell_type": "code",
      "execution_count": 20,
      "metadata": {
        "id": "2BHfhCC9sFj4"
      },
      "outputs": [],
      "source": [
        "# Now lets use the web scrapping to import the data frome the wikipedia.\n",
        "url = \"https://en.wikipedia.org/wiki/List_of_airlines_of_the_United_States\"\n",
        "airline_tables = pd.read_html(url)"
      ]
    },
    {
      "cell_type": "code",
      "execution_count": 21,
      "metadata": {
        "colab": {
          "base_uri": "https://localhost:8080/",
          "height": 225
        },
        "id": "mzc-Qb8ita4z",
        "outputId": "1f18a9c8-ab3e-43c9-ad95-0d906ac5353c"
      },
      "outputs": [
        {
          "output_type": "execute_result",
          "data": {
            "text/plain": [
              "           Airline  Image IATA ICAO   Callsign  \\\n",
              "0  Alaska Airlines    NaN   AS  ASA     ALASKA   \n",
              "1    Allegiant Air    NaN   G4  AAY  ALLEGIANT   \n",
              "\n",
              "                        Primary hubs, Secondary hubs  Founded  \\\n",
              "0  Seattle/Tacoma Anchorage Portland (OR) San Fra...     1932   \n",
              "1  Las Vegas Cincinnati Fort Walton Beach Indiana...     1997   \n",
              "\n",
              "                                               Notes  \n",
              "0  Founded as McGee Airways and commenced operati...  \n",
              "1  Founded as WestJet Express and commenced opera...  "
            ],
            "text/html": [
              "\n",
              "  <div id=\"df-415d0018-2e5d-41bb-9096-d83437391a66\">\n",
              "    <div class=\"colab-df-container\">\n",
              "      <div>\n",
              "<style scoped>\n",
              "    .dataframe tbody tr th:only-of-type {\n",
              "        vertical-align: middle;\n",
              "    }\n",
              "\n",
              "    .dataframe tbody tr th {\n",
              "        vertical-align: top;\n",
              "    }\n",
              "\n",
              "    .dataframe thead th {\n",
              "        text-align: right;\n",
              "    }\n",
              "</style>\n",
              "<table border=\"1\" class=\"dataframe\">\n",
              "  <thead>\n",
              "    <tr style=\"text-align: right;\">\n",
              "      <th></th>\n",
              "      <th>Airline</th>\n",
              "      <th>Image</th>\n",
              "      <th>IATA</th>\n",
              "      <th>ICAO</th>\n",
              "      <th>Callsign</th>\n",
              "      <th>Primary hubs, Secondary hubs</th>\n",
              "      <th>Founded</th>\n",
              "      <th>Notes</th>\n",
              "    </tr>\n",
              "  </thead>\n",
              "  <tbody>\n",
              "    <tr>\n",
              "      <th>0</th>\n",
              "      <td>Alaska Airlines</td>\n",
              "      <td>NaN</td>\n",
              "      <td>AS</td>\n",
              "      <td>ASA</td>\n",
              "      <td>ALASKA</td>\n",
              "      <td>Seattle/Tacoma Anchorage Portland (OR) San Fra...</td>\n",
              "      <td>1932</td>\n",
              "      <td>Founded as McGee Airways and commenced operati...</td>\n",
              "    </tr>\n",
              "    <tr>\n",
              "      <th>1</th>\n",
              "      <td>Allegiant Air</td>\n",
              "      <td>NaN</td>\n",
              "      <td>G4</td>\n",
              "      <td>AAY</td>\n",
              "      <td>ALLEGIANT</td>\n",
              "      <td>Las Vegas Cincinnati Fort Walton Beach Indiana...</td>\n",
              "      <td>1997</td>\n",
              "      <td>Founded as WestJet Express and commenced opera...</td>\n",
              "    </tr>\n",
              "  </tbody>\n",
              "</table>\n",
              "</div>\n",
              "      <button class=\"colab-df-convert\" onclick=\"convertToInteractive('df-415d0018-2e5d-41bb-9096-d83437391a66')\"\n",
              "              title=\"Convert this dataframe to an interactive table.\"\n",
              "              style=\"display:none;\">\n",
              "        \n",
              "  <svg xmlns=\"http://www.w3.org/2000/svg\" height=\"24px\"viewBox=\"0 0 24 24\"\n",
              "       width=\"24px\">\n",
              "    <path d=\"M0 0h24v24H0V0z\" fill=\"none\"/>\n",
              "    <path d=\"M18.56 5.44l.94 2.06.94-2.06 2.06-.94-2.06-.94-.94-2.06-.94 2.06-2.06.94zm-11 1L8.5 8.5l.94-2.06 2.06-.94-2.06-.94L8.5 2.5l-.94 2.06-2.06.94zm10 10l.94 2.06.94-2.06 2.06-.94-2.06-.94-.94-2.06-.94 2.06-2.06.94z\"/><path d=\"M17.41 7.96l-1.37-1.37c-.4-.4-.92-.59-1.43-.59-.52 0-1.04.2-1.43.59L10.3 9.45l-7.72 7.72c-.78.78-.78 2.05 0 2.83L4 21.41c.39.39.9.59 1.41.59.51 0 1.02-.2 1.41-.59l7.78-7.78 2.81-2.81c.8-.78.8-2.07 0-2.86zM5.41 20L4 18.59l7.72-7.72 1.47 1.35L5.41 20z\"/>\n",
              "  </svg>\n",
              "      </button>\n",
              "      \n",
              "  <style>\n",
              "    .colab-df-container {\n",
              "      display:flex;\n",
              "      flex-wrap:wrap;\n",
              "      gap: 12px;\n",
              "    }\n",
              "\n",
              "    .colab-df-convert {\n",
              "      background-color: #E8F0FE;\n",
              "      border: none;\n",
              "      border-radius: 50%;\n",
              "      cursor: pointer;\n",
              "      display: none;\n",
              "      fill: #1967D2;\n",
              "      height: 32px;\n",
              "      padding: 0 0 0 0;\n",
              "      width: 32px;\n",
              "    }\n",
              "\n",
              "    .colab-df-convert:hover {\n",
              "      background-color: #E2EBFA;\n",
              "      box-shadow: 0px 1px 2px rgba(60, 64, 67, 0.3), 0px 1px 3px 1px rgba(60, 64, 67, 0.15);\n",
              "      fill: #174EA6;\n",
              "    }\n",
              "\n",
              "    [theme=dark] .colab-df-convert {\n",
              "      background-color: #3B4455;\n",
              "      fill: #D2E3FC;\n",
              "    }\n",
              "\n",
              "    [theme=dark] .colab-df-convert:hover {\n",
              "      background-color: #434B5C;\n",
              "      box-shadow: 0px 1px 3px 1px rgba(0, 0, 0, 0.15);\n",
              "      filter: drop-shadow(0px 1px 2px rgba(0, 0, 0, 0.3));\n",
              "      fill: #FFFFFF;\n",
              "    }\n",
              "  </style>\n",
              "\n",
              "      <script>\n",
              "        const buttonEl =\n",
              "          document.querySelector('#df-415d0018-2e5d-41bb-9096-d83437391a66 button.colab-df-convert');\n",
              "        buttonEl.style.display =\n",
              "          google.colab.kernel.accessAllowed ? 'block' : 'none';\n",
              "\n",
              "        async function convertToInteractive(key) {\n",
              "          const element = document.querySelector('#df-415d0018-2e5d-41bb-9096-d83437391a66');\n",
              "          const dataTable =\n",
              "            await google.colab.kernel.invokeFunction('convertToInteractive',\n",
              "                                                     [key], {});\n",
              "          if (!dataTable) return;\n",
              "\n",
              "          const docLinkHtml = 'Like what you see? Visit the ' +\n",
              "            '<a target=\"_blank\" href=https://colab.research.google.com/notebooks/data_table.ipynb>data table notebook</a>'\n",
              "            + ' to learn more about interactive tables.';\n",
              "          element.innerHTML = '';\n",
              "          dataTable['output_type'] = 'display_data';\n",
              "          await google.colab.output.renderOutput(dataTable, element);\n",
              "          const docLink = document.createElement('div');\n",
              "          docLink.innerHTML = docLinkHtml;\n",
              "          element.appendChild(docLink);\n",
              "        }\n",
              "      </script>\n",
              "    </div>\n",
              "  </div>\n",
              "  "
            ]
          },
          "metadata": {},
          "execution_count": 21
        }
      ],
      "source": [
        "airline_tables[1].head(2)"
      ]
    },
    {
      "cell_type": "code",
      "execution_count": 22,
      "metadata": {
        "colab": {
          "base_uri": "https://localhost:8080/",
          "height": 190
        },
        "id": "bkW-lbH5toow",
        "outputId": "87303ca9-1a01-4b9e-c4dd-b0fde0431c9a"
      },
      "outputs": [
        {
          "output_type": "execute_result",
          "data": {
            "text/plain": [
              "         Airline  Image IATA ICAO   Callsign  \\\n",
              "0  Air Wisconsin    NaN   ZW  AWI  WISCONSIN   \n",
              "1       Cape Air    NaN   9K  KAP       CAIR   \n",
              "\n",
              "                        Primary Hubs, Secondary Hubs  Founded  \\\n",
              "0  Appleton Chicago-O'Hare Columbia Milwaukee Was...     1965   \n",
              "1  Hyannis Billings Boston Nantucket St. Louis Sa...     1988   \n",
              "\n",
              "                        Notes  \n",
              "0  Operates as United Express  \n",
              "1                         NaN  "
            ],
            "text/html": [
              "\n",
              "  <div id=\"df-e58a02c5-f677-43ba-a0ef-64d61c9e9fd7\">\n",
              "    <div class=\"colab-df-container\">\n",
              "      <div>\n",
              "<style scoped>\n",
              "    .dataframe tbody tr th:only-of-type {\n",
              "        vertical-align: middle;\n",
              "    }\n",
              "\n",
              "    .dataframe tbody tr th {\n",
              "        vertical-align: top;\n",
              "    }\n",
              "\n",
              "    .dataframe thead th {\n",
              "        text-align: right;\n",
              "    }\n",
              "</style>\n",
              "<table border=\"1\" class=\"dataframe\">\n",
              "  <thead>\n",
              "    <tr style=\"text-align: right;\">\n",
              "      <th></th>\n",
              "      <th>Airline</th>\n",
              "      <th>Image</th>\n",
              "      <th>IATA</th>\n",
              "      <th>ICAO</th>\n",
              "      <th>Callsign</th>\n",
              "      <th>Primary Hubs, Secondary Hubs</th>\n",
              "      <th>Founded</th>\n",
              "      <th>Notes</th>\n",
              "    </tr>\n",
              "  </thead>\n",
              "  <tbody>\n",
              "    <tr>\n",
              "      <th>0</th>\n",
              "      <td>Air Wisconsin</td>\n",
              "      <td>NaN</td>\n",
              "      <td>ZW</td>\n",
              "      <td>AWI</td>\n",
              "      <td>WISCONSIN</td>\n",
              "      <td>Appleton Chicago-O'Hare Columbia Milwaukee Was...</td>\n",
              "      <td>1965</td>\n",
              "      <td>Operates as United Express</td>\n",
              "    </tr>\n",
              "    <tr>\n",
              "      <th>1</th>\n",
              "      <td>Cape Air</td>\n",
              "      <td>NaN</td>\n",
              "      <td>9K</td>\n",
              "      <td>KAP</td>\n",
              "      <td>CAIR</td>\n",
              "      <td>Hyannis Billings Boston Nantucket St. Louis Sa...</td>\n",
              "      <td>1988</td>\n",
              "      <td>NaN</td>\n",
              "    </tr>\n",
              "  </tbody>\n",
              "</table>\n",
              "</div>\n",
              "      <button class=\"colab-df-convert\" onclick=\"convertToInteractive('df-e58a02c5-f677-43ba-a0ef-64d61c9e9fd7')\"\n",
              "              title=\"Convert this dataframe to an interactive table.\"\n",
              "              style=\"display:none;\">\n",
              "        \n",
              "  <svg xmlns=\"http://www.w3.org/2000/svg\" height=\"24px\"viewBox=\"0 0 24 24\"\n",
              "       width=\"24px\">\n",
              "    <path d=\"M0 0h24v24H0V0z\" fill=\"none\"/>\n",
              "    <path d=\"M18.56 5.44l.94 2.06.94-2.06 2.06-.94-2.06-.94-.94-2.06-.94 2.06-2.06.94zm-11 1L8.5 8.5l.94-2.06 2.06-.94-2.06-.94L8.5 2.5l-.94 2.06-2.06.94zm10 10l.94 2.06.94-2.06 2.06-.94-2.06-.94-.94-2.06-.94 2.06-2.06.94z\"/><path d=\"M17.41 7.96l-1.37-1.37c-.4-.4-.92-.59-1.43-.59-.52 0-1.04.2-1.43.59L10.3 9.45l-7.72 7.72c-.78.78-.78 2.05 0 2.83L4 21.41c.39.39.9.59 1.41.59.51 0 1.02-.2 1.41-.59l7.78-7.78 2.81-2.81c.8-.78.8-2.07 0-2.86zM5.41 20L4 18.59l7.72-7.72 1.47 1.35L5.41 20z\"/>\n",
              "  </svg>\n",
              "      </button>\n",
              "      \n",
              "  <style>\n",
              "    .colab-df-container {\n",
              "      display:flex;\n",
              "      flex-wrap:wrap;\n",
              "      gap: 12px;\n",
              "    }\n",
              "\n",
              "    .colab-df-convert {\n",
              "      background-color: #E8F0FE;\n",
              "      border: none;\n",
              "      border-radius: 50%;\n",
              "      cursor: pointer;\n",
              "      display: none;\n",
              "      fill: #1967D2;\n",
              "      height: 32px;\n",
              "      padding: 0 0 0 0;\n",
              "      width: 32px;\n",
              "    }\n",
              "\n",
              "    .colab-df-convert:hover {\n",
              "      background-color: #E2EBFA;\n",
              "      box-shadow: 0px 1px 2px rgba(60, 64, 67, 0.3), 0px 1px 3px 1px rgba(60, 64, 67, 0.15);\n",
              "      fill: #174EA6;\n",
              "    }\n",
              "\n",
              "    [theme=dark] .colab-df-convert {\n",
              "      background-color: #3B4455;\n",
              "      fill: #D2E3FC;\n",
              "    }\n",
              "\n",
              "    [theme=dark] .colab-df-convert:hover {\n",
              "      background-color: #434B5C;\n",
              "      box-shadow: 0px 1px 3px 1px rgba(0, 0, 0, 0.15);\n",
              "      filter: drop-shadow(0px 1px 2px rgba(0, 0, 0, 0.3));\n",
              "      fill: #FFFFFF;\n",
              "    }\n",
              "  </style>\n",
              "\n",
              "      <script>\n",
              "        const buttonEl =\n",
              "          document.querySelector('#df-e58a02c5-f677-43ba-a0ef-64d61c9e9fd7 button.colab-df-convert');\n",
              "        buttonEl.style.display =\n",
              "          google.colab.kernel.accessAllowed ? 'block' : 'none';\n",
              "\n",
              "        async function convertToInteractive(key) {\n",
              "          const element = document.querySelector('#df-e58a02c5-f677-43ba-a0ef-64d61c9e9fd7');\n",
              "          const dataTable =\n",
              "            await google.colab.kernel.invokeFunction('convertToInteractive',\n",
              "                                                     [key], {});\n",
              "          if (!dataTable) return;\n",
              "\n",
              "          const docLinkHtml = 'Like what you see? Visit the ' +\n",
              "            '<a target=\"_blank\" href=https://colab.research.google.com/notebooks/data_table.ipynb>data table notebook</a>'\n",
              "            + ' to learn more about interactive tables.';\n",
              "          element.innerHTML = '';\n",
              "          dataTable['output_type'] = 'display_data';\n",
              "          await google.colab.output.renderOutput(dataTable, element);\n",
              "          const docLink = document.createElement('div');\n",
              "          docLink.innerHTML = docLinkHtml;\n",
              "          element.appendChild(docLink);\n",
              "        }\n",
              "      </script>\n",
              "    </div>\n",
              "  </div>\n",
              "  "
            ]
          },
          "metadata": {},
          "execution_count": 22
        }
      ],
      "source": [
        "airline_tables[2].head(2)"
      ]
    },
    {
      "cell_type": "code",
      "execution_count": 23,
      "metadata": {
        "id": "mneCxT4Jty5D"
      },
      "outputs": [],
      "source": [
        "# We have different tables, let us combine all the tables together"
      ]
    },
    {
      "cell_type": "code",
      "execution_count": 24,
      "metadata": {
        "id": "2HXBbJPSuAQm"
      },
      "outputs": [],
      "source": [
        "# Lets first merge all wikipedia table.\n",
        "airline_table_final = [airline_tables[0],airline_tables[1],airline_tables[2],airline_tables[3],airline_tables[4],airline_tables[5],airline_tables[6]]"
      ]
    },
    {
      "cell_type": "code",
      "execution_count": 25,
      "metadata": {
        "id": "aGjJgFIguZHQ"
      },
      "outputs": [],
      "source": [
        "airline_table_final = pd.concat(airline_table_final, ignore_index=True)"
      ]
    },
    {
      "cell_type": "code",
      "execution_count": 26,
      "metadata": {
        "colab": {
          "base_uri": "https://localhost:8080/",
          "height": 364
        },
        "id": "nNjYkGAYulZ5",
        "outputId": "a9f36fb0-2c94-4d1b-d7db-f96494110859"
      },
      "outputs": [
        {
          "output_type": "execute_result",
          "data": {
            "text/plain": [
              "    0                                                  1          Airline  \\\n",
              "0 NaN  This article does not cite any sources. Please...              NaN   \n",
              "1 NaN                                                NaN  Alaska Airlines   \n",
              "\n",
              "   Image IATA ICAO Callsign  \\\n",
              "0    NaN  NaN  NaN      NaN   \n",
              "1    NaN   AS  ASA   ALASKA   \n",
              "\n",
              "                        Primary hubs, Secondary hubs  Founded  \\\n",
              "0                                                NaN      NaN   \n",
              "1  Seattle/Tacoma Anchorage Portland (OR) San Fra...   1932.0   \n",
              "\n",
              "                                               Notes  \\\n",
              "0                                                NaN   \n",
              "1  Founded as McGee Airways and commenced operati...   \n",
              "\n",
              "  Primary Hubs, Secondary Hubs  \n",
              "0                          NaN  \n",
              "1                          NaN  "
            ],
            "text/html": [
              "\n",
              "  <div id=\"df-d93ef3d2-7cf7-4ec5-ac39-969cc53bd192\">\n",
              "    <div class=\"colab-df-container\">\n",
              "      <div>\n",
              "<style scoped>\n",
              "    .dataframe tbody tr th:only-of-type {\n",
              "        vertical-align: middle;\n",
              "    }\n",
              "\n",
              "    .dataframe tbody tr th {\n",
              "        vertical-align: top;\n",
              "    }\n",
              "\n",
              "    .dataframe thead th {\n",
              "        text-align: right;\n",
              "    }\n",
              "</style>\n",
              "<table border=\"1\" class=\"dataframe\">\n",
              "  <thead>\n",
              "    <tr style=\"text-align: right;\">\n",
              "      <th></th>\n",
              "      <th>0</th>\n",
              "      <th>1</th>\n",
              "      <th>Airline</th>\n",
              "      <th>Image</th>\n",
              "      <th>IATA</th>\n",
              "      <th>ICAO</th>\n",
              "      <th>Callsign</th>\n",
              "      <th>Primary hubs, Secondary hubs</th>\n",
              "      <th>Founded</th>\n",
              "      <th>Notes</th>\n",
              "      <th>Primary Hubs, Secondary Hubs</th>\n",
              "    </tr>\n",
              "  </thead>\n",
              "  <tbody>\n",
              "    <tr>\n",
              "      <th>0</th>\n",
              "      <td>NaN</td>\n",
              "      <td>This article does not cite any sources. Please...</td>\n",
              "      <td>NaN</td>\n",
              "      <td>NaN</td>\n",
              "      <td>NaN</td>\n",
              "      <td>NaN</td>\n",
              "      <td>NaN</td>\n",
              "      <td>NaN</td>\n",
              "      <td>NaN</td>\n",
              "      <td>NaN</td>\n",
              "      <td>NaN</td>\n",
              "    </tr>\n",
              "    <tr>\n",
              "      <th>1</th>\n",
              "      <td>NaN</td>\n",
              "      <td>NaN</td>\n",
              "      <td>Alaska Airlines</td>\n",
              "      <td>NaN</td>\n",
              "      <td>AS</td>\n",
              "      <td>ASA</td>\n",
              "      <td>ALASKA</td>\n",
              "      <td>Seattle/Tacoma Anchorage Portland (OR) San Fra...</td>\n",
              "      <td>1932.0</td>\n",
              "      <td>Founded as McGee Airways and commenced operati...</td>\n",
              "      <td>NaN</td>\n",
              "    </tr>\n",
              "  </tbody>\n",
              "</table>\n",
              "</div>\n",
              "      <button class=\"colab-df-convert\" onclick=\"convertToInteractive('df-d93ef3d2-7cf7-4ec5-ac39-969cc53bd192')\"\n",
              "              title=\"Convert this dataframe to an interactive table.\"\n",
              "              style=\"display:none;\">\n",
              "        \n",
              "  <svg xmlns=\"http://www.w3.org/2000/svg\" height=\"24px\"viewBox=\"0 0 24 24\"\n",
              "       width=\"24px\">\n",
              "    <path d=\"M0 0h24v24H0V0z\" fill=\"none\"/>\n",
              "    <path d=\"M18.56 5.44l.94 2.06.94-2.06 2.06-.94-2.06-.94-.94-2.06-.94 2.06-2.06.94zm-11 1L8.5 8.5l.94-2.06 2.06-.94-2.06-.94L8.5 2.5l-.94 2.06-2.06.94zm10 10l.94 2.06.94-2.06 2.06-.94-2.06-.94-.94-2.06-.94 2.06-2.06.94z\"/><path d=\"M17.41 7.96l-1.37-1.37c-.4-.4-.92-.59-1.43-.59-.52 0-1.04.2-1.43.59L10.3 9.45l-7.72 7.72c-.78.78-.78 2.05 0 2.83L4 21.41c.39.39.9.59 1.41.59.51 0 1.02-.2 1.41-.59l7.78-7.78 2.81-2.81c.8-.78.8-2.07 0-2.86zM5.41 20L4 18.59l7.72-7.72 1.47 1.35L5.41 20z\"/>\n",
              "  </svg>\n",
              "      </button>\n",
              "      \n",
              "  <style>\n",
              "    .colab-df-container {\n",
              "      display:flex;\n",
              "      flex-wrap:wrap;\n",
              "      gap: 12px;\n",
              "    }\n",
              "\n",
              "    .colab-df-convert {\n",
              "      background-color: #E8F0FE;\n",
              "      border: none;\n",
              "      border-radius: 50%;\n",
              "      cursor: pointer;\n",
              "      display: none;\n",
              "      fill: #1967D2;\n",
              "      height: 32px;\n",
              "      padding: 0 0 0 0;\n",
              "      width: 32px;\n",
              "    }\n",
              "\n",
              "    .colab-df-convert:hover {\n",
              "      background-color: #E2EBFA;\n",
              "      box-shadow: 0px 1px 2px rgba(60, 64, 67, 0.3), 0px 1px 3px 1px rgba(60, 64, 67, 0.15);\n",
              "      fill: #174EA6;\n",
              "    }\n",
              "\n",
              "    [theme=dark] .colab-df-convert {\n",
              "      background-color: #3B4455;\n",
              "      fill: #D2E3FC;\n",
              "    }\n",
              "\n",
              "    [theme=dark] .colab-df-convert:hover {\n",
              "      background-color: #434B5C;\n",
              "      box-shadow: 0px 1px 3px 1px rgba(0, 0, 0, 0.15);\n",
              "      filter: drop-shadow(0px 1px 2px rgba(0, 0, 0, 0.3));\n",
              "      fill: #FFFFFF;\n",
              "    }\n",
              "  </style>\n",
              "\n",
              "      <script>\n",
              "        const buttonEl =\n",
              "          document.querySelector('#df-d93ef3d2-7cf7-4ec5-ac39-969cc53bd192 button.colab-df-convert');\n",
              "        buttonEl.style.display =\n",
              "          google.colab.kernel.accessAllowed ? 'block' : 'none';\n",
              "\n",
              "        async function convertToInteractive(key) {\n",
              "          const element = document.querySelector('#df-d93ef3d2-7cf7-4ec5-ac39-969cc53bd192');\n",
              "          const dataTable =\n",
              "            await google.colab.kernel.invokeFunction('convertToInteractive',\n",
              "                                                     [key], {});\n",
              "          if (!dataTable) return;\n",
              "\n",
              "          const docLinkHtml = 'Like what you see? Visit the ' +\n",
              "            '<a target=\"_blank\" href=https://colab.research.google.com/notebooks/data_table.ipynb>data table notebook</a>'\n",
              "            + ' to learn more about interactive tables.';\n",
              "          element.innerHTML = '';\n",
              "          dataTable['output_type'] = 'display_data';\n",
              "          await google.colab.output.renderOutput(dataTable, element);\n",
              "          const docLink = document.createElement('div');\n",
              "          docLink.innerHTML = docLinkHtml;\n",
              "          element.appendChild(docLink);\n",
              "        }\n",
              "      </script>\n",
              "    </div>\n",
              "  </div>\n",
              "  "
            ]
          },
          "metadata": {},
          "execution_count": 26
        }
      ],
      "source": [
        "airline_table_final.head(2)"
      ]
    },
    {
      "cell_type": "markdown",
      "metadata": {
        "id": "JFMX-DacvtpN"
      },
      "source": [
        "c. You should then get all the information gathered so far in one place.\n"
      ]
    },
    {
      "cell_type": "code",
      "execution_count": 27,
      "metadata": {
        "colab": {
          "base_uri": "https://localhost:8080/",
          "height": 112
        },
        "id": "4mIo4ffvvQVF",
        "outputId": "bfeaef52-7093-4b6a-84e4-68fb87110d78"
      },
      "outputs": [
        {
          "output_type": "execute_result",
          "data": {
            "text/plain": [
              "  IATA  Founded\n",
              "0  NaN      NaN\n",
              "1   AS   1932.0"
            ],
            "text/html": [
              "\n",
              "  <div id=\"df-4b689bf3-5795-4379-be43-ad8b93e148e3\">\n",
              "    <div class=\"colab-df-container\">\n",
              "      <div>\n",
              "<style scoped>\n",
              "    .dataframe tbody tr th:only-of-type {\n",
              "        vertical-align: middle;\n",
              "    }\n",
              "\n",
              "    .dataframe tbody tr th {\n",
              "        vertical-align: top;\n",
              "    }\n",
              "\n",
              "    .dataframe thead th {\n",
              "        text-align: right;\n",
              "    }\n",
              "</style>\n",
              "<table border=\"1\" class=\"dataframe\">\n",
              "  <thead>\n",
              "    <tr style=\"text-align: right;\">\n",
              "      <th></th>\n",
              "      <th>IATA</th>\n",
              "      <th>Founded</th>\n",
              "    </tr>\n",
              "  </thead>\n",
              "  <tbody>\n",
              "    <tr>\n",
              "      <th>0</th>\n",
              "      <td>NaN</td>\n",
              "      <td>NaN</td>\n",
              "    </tr>\n",
              "    <tr>\n",
              "      <th>1</th>\n",
              "      <td>AS</td>\n",
              "      <td>1932.0</td>\n",
              "    </tr>\n",
              "  </tbody>\n",
              "</table>\n",
              "</div>\n",
              "      <button class=\"colab-df-convert\" onclick=\"convertToInteractive('df-4b689bf3-5795-4379-be43-ad8b93e148e3')\"\n",
              "              title=\"Convert this dataframe to an interactive table.\"\n",
              "              style=\"display:none;\">\n",
              "        \n",
              "  <svg xmlns=\"http://www.w3.org/2000/svg\" height=\"24px\"viewBox=\"0 0 24 24\"\n",
              "       width=\"24px\">\n",
              "    <path d=\"M0 0h24v24H0V0z\" fill=\"none\"/>\n",
              "    <path d=\"M18.56 5.44l.94 2.06.94-2.06 2.06-.94-2.06-.94-.94-2.06-.94 2.06-2.06.94zm-11 1L8.5 8.5l.94-2.06 2.06-.94-2.06-.94L8.5 2.5l-.94 2.06-2.06.94zm10 10l.94 2.06.94-2.06 2.06-.94-2.06-.94-.94-2.06-.94 2.06-2.06.94z\"/><path d=\"M17.41 7.96l-1.37-1.37c-.4-.4-.92-.59-1.43-.59-.52 0-1.04.2-1.43.59L10.3 9.45l-7.72 7.72c-.78.78-.78 2.05 0 2.83L4 21.41c.39.39.9.59 1.41.59.51 0 1.02-.2 1.41-.59l7.78-7.78 2.81-2.81c.8-.78.8-2.07 0-2.86zM5.41 20L4 18.59l7.72-7.72 1.47 1.35L5.41 20z\"/>\n",
              "  </svg>\n",
              "      </button>\n",
              "      \n",
              "  <style>\n",
              "    .colab-df-container {\n",
              "      display:flex;\n",
              "      flex-wrap:wrap;\n",
              "      gap: 12px;\n",
              "    }\n",
              "\n",
              "    .colab-df-convert {\n",
              "      background-color: #E8F0FE;\n",
              "      border: none;\n",
              "      border-radius: 50%;\n",
              "      cursor: pointer;\n",
              "      display: none;\n",
              "      fill: #1967D2;\n",
              "      height: 32px;\n",
              "      padding: 0 0 0 0;\n",
              "      width: 32px;\n",
              "    }\n",
              "\n",
              "    .colab-df-convert:hover {\n",
              "      background-color: #E2EBFA;\n",
              "      box-shadow: 0px 1px 2px rgba(60, 64, 67, 0.3), 0px 1px 3px 1px rgba(60, 64, 67, 0.15);\n",
              "      fill: #174EA6;\n",
              "    }\n",
              "\n",
              "    [theme=dark] .colab-df-convert {\n",
              "      background-color: #3B4455;\n",
              "      fill: #D2E3FC;\n",
              "    }\n",
              "\n",
              "    [theme=dark] .colab-df-convert:hover {\n",
              "      background-color: #434B5C;\n",
              "      box-shadow: 0px 1px 3px 1px rgba(0, 0, 0, 0.15);\n",
              "      filter: drop-shadow(0px 1px 2px rgba(0, 0, 0, 0.3));\n",
              "      fill: #FFFFFF;\n",
              "    }\n",
              "  </style>\n",
              "\n",
              "      <script>\n",
              "        const buttonEl =\n",
              "          document.querySelector('#df-4b689bf3-5795-4379-be43-ad8b93e148e3 button.colab-df-convert');\n",
              "        buttonEl.style.display =\n",
              "          google.colab.kernel.accessAllowed ? 'block' : 'none';\n",
              "\n",
              "        async function convertToInteractive(key) {\n",
              "          const element = document.querySelector('#df-4b689bf3-5795-4379-be43-ad8b93e148e3');\n",
              "          const dataTable =\n",
              "            await google.colab.kernel.invokeFunction('convertToInteractive',\n",
              "                                                     [key], {});\n",
              "          if (!dataTable) return;\n",
              "\n",
              "          const docLinkHtml = 'Like what you see? Visit the ' +\n",
              "            '<a target=\"_blank\" href=https://colab.research.google.com/notebooks/data_table.ipynb>data table notebook</a>'\n",
              "            + ' to learn more about interactive tables.';\n",
              "          element.innerHTML = '';\n",
              "          dataTable['output_type'] = 'display_data';\n",
              "          await google.colab.output.renderOutput(dataTable, element);\n",
              "          const docLink = document.createElement('div');\n",
              "          docLink.innerHTML = docLinkHtml;\n",
              "          element.appendChild(docLink);\n",
              "        }\n",
              "      </script>\n",
              "    </div>\n",
              "  </div>\n",
              "  "
            ]
          },
          "metadata": {},
          "execution_count": 27
        }
      ],
      "source": [
        "# First we got only that column from wiki pedia table that we need to merge.\n",
        "airline_table_final_df = airline_table_final[['IATA', \"Founded\"]]\n",
        "airline_table_final_df.head(2)"
      ]
    },
    {
      "cell_type": "code",
      "execution_count": 28,
      "metadata": {
        "id": "ZgIfVJw4wIZV"
      },
      "outputs": [],
      "source": [
        "# Now we gather all the information that we got from wiki pedia link and the data that we have.\n",
        "final_df = final_data.merge(airline_table_final_df, left_on ='Airline', right_on = \"IATA\")"
      ]
    },
    {
      "cell_type": "markdown",
      "metadata": {
        "id": "He3FY1MJ1U4c"
      },
      "source": [
        "d. The total passenger traffic may also contribute to flight delays. The term hub refers to \n",
        "busy commercial airports. Large hubs are airports that account for at least 1 percent \n",
        "of the total passenger enplanements in the United States. Airports that account for \n",
        "0.25 percent to 1 percent of total passenger enplanements are considered medium \n",
        "hubs. Pull passenger traffic data from the Wikipedia page given below using web \n",
        "scraping and collate it in a table.\n",
        "https://en.wikipedia.org/wiki/List_of_the_busiest_airports_in_the_United_States"
      ]
    },
    {
      "cell_type": "code",
      "execution_count": 29,
      "metadata": {
        "id": "SawK20Kh09jq"
      },
      "outputs": [],
      "source": [
        "url2 = \"https://en.wikipedia.org/wiki/List_of_the_busiest_airports_in_the_United_States\"\n",
        "busiest_airports_table = pd.read_html(url2)"
      ]
    },
    {
      "cell_type": "code",
      "execution_count": 30,
      "metadata": {
        "colab": {
          "base_uri": "https://localhost:8080/",
          "height": 332
        },
        "id": "huELnOOX3Jw8",
        "outputId": "3e4e4590-3546-4e2e-b9af-6528e5bb18d5"
      },
      "outputs": [
        {
          "output_type": "execute_result",
          "data": {
            "text/plain": [
              "   Rank (2021)                             Airports (large hubs) IATA Code  \\\n",
              "0            1  Hartsfield–Jackson Atlanta International Airport       ATL   \n",
              "1            2           Dallas/Fort Worth International Airport       DFW   \n",
              "\n",
              "   Major cities served State   2021[3]   2020[4]   2019[5]   2018[6]  \\\n",
              "0              Atlanta    GA  36676010  20559866  53505795  51865797   \n",
              "1  Dallas & Fort Worth    TX  30005266  18593421  35778573  32821799   \n",
              "\n",
              "    2017[7]   2016[8]   2015[9]  2014[10]  2013[11]  2012[12]  \n",
              "0  50251964  50501858  49340732  46604273  45308407  45798928  \n",
              "1  31816933  31283579  31589839  30804567  29038128  28022904  "
            ],
            "text/html": [
              "\n",
              "  <div id=\"df-9bd08aa8-075c-45c1-b0f6-c0c1eec83d8c\">\n",
              "    <div class=\"colab-df-container\">\n",
              "      <div>\n",
              "<style scoped>\n",
              "    .dataframe tbody tr th:only-of-type {\n",
              "        vertical-align: middle;\n",
              "    }\n",
              "\n",
              "    .dataframe tbody tr th {\n",
              "        vertical-align: top;\n",
              "    }\n",
              "\n",
              "    .dataframe thead th {\n",
              "        text-align: right;\n",
              "    }\n",
              "</style>\n",
              "<table border=\"1\" class=\"dataframe\">\n",
              "  <thead>\n",
              "    <tr style=\"text-align: right;\">\n",
              "      <th></th>\n",
              "      <th>Rank (2021)</th>\n",
              "      <th>Airports (large hubs)</th>\n",
              "      <th>IATA Code</th>\n",
              "      <th>Major cities served</th>\n",
              "      <th>State</th>\n",
              "      <th>2021[3]</th>\n",
              "      <th>2020[4]</th>\n",
              "      <th>2019[5]</th>\n",
              "      <th>2018[6]</th>\n",
              "      <th>2017[7]</th>\n",
              "      <th>2016[8]</th>\n",
              "      <th>2015[9]</th>\n",
              "      <th>2014[10]</th>\n",
              "      <th>2013[11]</th>\n",
              "      <th>2012[12]</th>\n",
              "    </tr>\n",
              "  </thead>\n",
              "  <tbody>\n",
              "    <tr>\n",
              "      <th>0</th>\n",
              "      <td>1</td>\n",
              "      <td>Hartsfield–Jackson Atlanta International Airport</td>\n",
              "      <td>ATL</td>\n",
              "      <td>Atlanta</td>\n",
              "      <td>GA</td>\n",
              "      <td>36676010</td>\n",
              "      <td>20559866</td>\n",
              "      <td>53505795</td>\n",
              "      <td>51865797</td>\n",
              "      <td>50251964</td>\n",
              "      <td>50501858</td>\n",
              "      <td>49340732</td>\n",
              "      <td>46604273</td>\n",
              "      <td>45308407</td>\n",
              "      <td>45798928</td>\n",
              "    </tr>\n",
              "    <tr>\n",
              "      <th>1</th>\n",
              "      <td>2</td>\n",
              "      <td>Dallas/Fort Worth International Airport</td>\n",
              "      <td>DFW</td>\n",
              "      <td>Dallas &amp; Fort Worth</td>\n",
              "      <td>TX</td>\n",
              "      <td>30005266</td>\n",
              "      <td>18593421</td>\n",
              "      <td>35778573</td>\n",
              "      <td>32821799</td>\n",
              "      <td>31816933</td>\n",
              "      <td>31283579</td>\n",
              "      <td>31589839</td>\n",
              "      <td>30804567</td>\n",
              "      <td>29038128</td>\n",
              "      <td>28022904</td>\n",
              "    </tr>\n",
              "  </tbody>\n",
              "</table>\n",
              "</div>\n",
              "      <button class=\"colab-df-convert\" onclick=\"convertToInteractive('df-9bd08aa8-075c-45c1-b0f6-c0c1eec83d8c')\"\n",
              "              title=\"Convert this dataframe to an interactive table.\"\n",
              "              style=\"display:none;\">\n",
              "        \n",
              "  <svg xmlns=\"http://www.w3.org/2000/svg\" height=\"24px\"viewBox=\"0 0 24 24\"\n",
              "       width=\"24px\">\n",
              "    <path d=\"M0 0h24v24H0V0z\" fill=\"none\"/>\n",
              "    <path d=\"M18.56 5.44l.94 2.06.94-2.06 2.06-.94-2.06-.94-.94-2.06-.94 2.06-2.06.94zm-11 1L8.5 8.5l.94-2.06 2.06-.94-2.06-.94L8.5 2.5l-.94 2.06-2.06.94zm10 10l.94 2.06.94-2.06 2.06-.94-2.06-.94-.94-2.06-.94 2.06-2.06.94z\"/><path d=\"M17.41 7.96l-1.37-1.37c-.4-.4-.92-.59-1.43-.59-.52 0-1.04.2-1.43.59L10.3 9.45l-7.72 7.72c-.78.78-.78 2.05 0 2.83L4 21.41c.39.39.9.59 1.41.59.51 0 1.02-.2 1.41-.59l7.78-7.78 2.81-2.81c.8-.78.8-2.07 0-2.86zM5.41 20L4 18.59l7.72-7.72 1.47 1.35L5.41 20z\"/>\n",
              "  </svg>\n",
              "      </button>\n",
              "      \n",
              "  <style>\n",
              "    .colab-df-container {\n",
              "      display:flex;\n",
              "      flex-wrap:wrap;\n",
              "      gap: 12px;\n",
              "    }\n",
              "\n",
              "    .colab-df-convert {\n",
              "      background-color: #E8F0FE;\n",
              "      border: none;\n",
              "      border-radius: 50%;\n",
              "      cursor: pointer;\n",
              "      display: none;\n",
              "      fill: #1967D2;\n",
              "      height: 32px;\n",
              "      padding: 0 0 0 0;\n",
              "      width: 32px;\n",
              "    }\n",
              "\n",
              "    .colab-df-convert:hover {\n",
              "      background-color: #E2EBFA;\n",
              "      box-shadow: 0px 1px 2px rgba(60, 64, 67, 0.3), 0px 1px 3px 1px rgba(60, 64, 67, 0.15);\n",
              "      fill: #174EA6;\n",
              "    }\n",
              "\n",
              "    [theme=dark] .colab-df-convert {\n",
              "      background-color: #3B4455;\n",
              "      fill: #D2E3FC;\n",
              "    }\n",
              "\n",
              "    [theme=dark] .colab-df-convert:hover {\n",
              "      background-color: #434B5C;\n",
              "      box-shadow: 0px 1px 3px 1px rgba(0, 0, 0, 0.15);\n",
              "      filter: drop-shadow(0px 1px 2px rgba(0, 0, 0, 0.3));\n",
              "      fill: #FFFFFF;\n",
              "    }\n",
              "  </style>\n",
              "\n",
              "      <script>\n",
              "        const buttonEl =\n",
              "          document.querySelector('#df-9bd08aa8-075c-45c1-b0f6-c0c1eec83d8c button.colab-df-convert');\n",
              "        buttonEl.style.display =\n",
              "          google.colab.kernel.accessAllowed ? 'block' : 'none';\n",
              "\n",
              "        async function convertToInteractive(key) {\n",
              "          const element = document.querySelector('#df-9bd08aa8-075c-45c1-b0f6-c0c1eec83d8c');\n",
              "          const dataTable =\n",
              "            await google.colab.kernel.invokeFunction('convertToInteractive',\n",
              "                                                     [key], {});\n",
              "          if (!dataTable) return;\n",
              "\n",
              "          const docLinkHtml = 'Like what you see? Visit the ' +\n",
              "            '<a target=\"_blank\" href=https://colab.research.google.com/notebooks/data_table.ipynb>data table notebook</a>'\n",
              "            + ' to learn more about interactive tables.';\n",
              "          element.innerHTML = '';\n",
              "          dataTable['output_type'] = 'display_data';\n",
              "          await google.colab.output.renderOutput(dataTable, element);\n",
              "          const docLink = document.createElement('div');\n",
              "          docLink.innerHTML = docLinkHtml;\n",
              "          element.appendChild(docLink);\n",
              "        }\n",
              "      </script>\n",
              "    </div>\n",
              "  </div>\n",
              "  "
            ]
          },
          "metadata": {},
          "execution_count": 30
        }
      ],
      "source": [
        "busiest_airports_table[0].head(2)"
      ]
    },
    {
      "cell_type": "code",
      "execution_count": 31,
      "metadata": {
        "id": "TiDrgppO5t9o"
      },
      "outputs": [],
      "source": [
        "busiest_airports_table[0]['traffic_change_20_21'] = busiest_airports_table[0]['2021[3]'] - busiest_airports_table[0]['2020[4]']"
      ]
    },
    {
      "cell_type": "code",
      "execution_count": 32,
      "metadata": {
        "id": "j2fO4hQx6wBH"
      },
      "outputs": [],
      "source": [
        "busiest_airports_table[0]['traffic_change_19_20'] = busiest_airports_table[0]['2020[4]'] - busiest_airports_table[0]['2019[5]']"
      ]
    },
    {
      "cell_type": "code",
      "execution_count": 33,
      "metadata": {
        "id": "vknidjcV7ug0"
      },
      "outputs": [],
      "source": [
        "busiest_airports_table[0]['hubs'] = str('large_hub')"
      ]
    },
    {
      "cell_type": "code",
      "execution_count": 34,
      "metadata": {
        "colab": {
          "base_uri": "https://localhost:8080/",
          "height": 112
        },
        "id": "JOzvDSqM788g",
        "outputId": "d0c6f107-a0d4-488e-aeba-f9def76d2066"
      },
      "outputs": [
        {
          "output_type": "execute_result",
          "data": {
            "text/plain": [
              "  IATA Code  traffic_change_20_21  traffic_change_19_20       hubs\n",
              "0       ATL              16116144             -32945929  large_hub\n",
              "1       DFW              11411845             -17185152  large_hub"
            ],
            "text/html": [
              "\n",
              "  <div id=\"df-c76cfe38-baa9-4343-8b82-020525385c87\">\n",
              "    <div class=\"colab-df-container\">\n",
              "      <div>\n",
              "<style scoped>\n",
              "    .dataframe tbody tr th:only-of-type {\n",
              "        vertical-align: middle;\n",
              "    }\n",
              "\n",
              "    .dataframe tbody tr th {\n",
              "        vertical-align: top;\n",
              "    }\n",
              "\n",
              "    .dataframe thead th {\n",
              "        text-align: right;\n",
              "    }\n",
              "</style>\n",
              "<table border=\"1\" class=\"dataframe\">\n",
              "  <thead>\n",
              "    <tr style=\"text-align: right;\">\n",
              "      <th></th>\n",
              "      <th>IATA Code</th>\n",
              "      <th>traffic_change_20_21</th>\n",
              "      <th>traffic_change_19_20</th>\n",
              "      <th>hubs</th>\n",
              "    </tr>\n",
              "  </thead>\n",
              "  <tbody>\n",
              "    <tr>\n",
              "      <th>0</th>\n",
              "      <td>ATL</td>\n",
              "      <td>16116144</td>\n",
              "      <td>-32945929</td>\n",
              "      <td>large_hub</td>\n",
              "    </tr>\n",
              "    <tr>\n",
              "      <th>1</th>\n",
              "      <td>DFW</td>\n",
              "      <td>11411845</td>\n",
              "      <td>-17185152</td>\n",
              "      <td>large_hub</td>\n",
              "    </tr>\n",
              "  </tbody>\n",
              "</table>\n",
              "</div>\n",
              "      <button class=\"colab-df-convert\" onclick=\"convertToInteractive('df-c76cfe38-baa9-4343-8b82-020525385c87')\"\n",
              "              title=\"Convert this dataframe to an interactive table.\"\n",
              "              style=\"display:none;\">\n",
              "        \n",
              "  <svg xmlns=\"http://www.w3.org/2000/svg\" height=\"24px\"viewBox=\"0 0 24 24\"\n",
              "       width=\"24px\">\n",
              "    <path d=\"M0 0h24v24H0V0z\" fill=\"none\"/>\n",
              "    <path d=\"M18.56 5.44l.94 2.06.94-2.06 2.06-.94-2.06-.94-.94-2.06-.94 2.06-2.06.94zm-11 1L8.5 8.5l.94-2.06 2.06-.94-2.06-.94L8.5 2.5l-.94 2.06-2.06.94zm10 10l.94 2.06.94-2.06 2.06-.94-2.06-.94-.94-2.06-.94 2.06-2.06.94z\"/><path d=\"M17.41 7.96l-1.37-1.37c-.4-.4-.92-.59-1.43-.59-.52 0-1.04.2-1.43.59L10.3 9.45l-7.72 7.72c-.78.78-.78 2.05 0 2.83L4 21.41c.39.39.9.59 1.41.59.51 0 1.02-.2 1.41-.59l7.78-7.78 2.81-2.81c.8-.78.8-2.07 0-2.86zM5.41 20L4 18.59l7.72-7.72 1.47 1.35L5.41 20z\"/>\n",
              "  </svg>\n",
              "      </button>\n",
              "      \n",
              "  <style>\n",
              "    .colab-df-container {\n",
              "      display:flex;\n",
              "      flex-wrap:wrap;\n",
              "      gap: 12px;\n",
              "    }\n",
              "\n",
              "    .colab-df-convert {\n",
              "      background-color: #E8F0FE;\n",
              "      border: none;\n",
              "      border-radius: 50%;\n",
              "      cursor: pointer;\n",
              "      display: none;\n",
              "      fill: #1967D2;\n",
              "      height: 32px;\n",
              "      padding: 0 0 0 0;\n",
              "      width: 32px;\n",
              "    }\n",
              "\n",
              "    .colab-df-convert:hover {\n",
              "      background-color: #E2EBFA;\n",
              "      box-shadow: 0px 1px 2px rgba(60, 64, 67, 0.3), 0px 1px 3px 1px rgba(60, 64, 67, 0.15);\n",
              "      fill: #174EA6;\n",
              "    }\n",
              "\n",
              "    [theme=dark] .colab-df-convert {\n",
              "      background-color: #3B4455;\n",
              "      fill: #D2E3FC;\n",
              "    }\n",
              "\n",
              "    [theme=dark] .colab-df-convert:hover {\n",
              "      background-color: #434B5C;\n",
              "      box-shadow: 0px 1px 3px 1px rgba(0, 0, 0, 0.15);\n",
              "      filter: drop-shadow(0px 1px 2px rgba(0, 0, 0, 0.3));\n",
              "      fill: #FFFFFF;\n",
              "    }\n",
              "  </style>\n",
              "\n",
              "      <script>\n",
              "        const buttonEl =\n",
              "          document.querySelector('#df-c76cfe38-baa9-4343-8b82-020525385c87 button.colab-df-convert');\n",
              "        buttonEl.style.display =\n",
              "          google.colab.kernel.accessAllowed ? 'block' : 'none';\n",
              "\n",
              "        async function convertToInteractive(key) {\n",
              "          const element = document.querySelector('#df-c76cfe38-baa9-4343-8b82-020525385c87');\n",
              "          const dataTable =\n",
              "            await google.colab.kernel.invokeFunction('convertToInteractive',\n",
              "                                                     [key], {});\n",
              "          if (!dataTable) return;\n",
              "\n",
              "          const docLinkHtml = 'Like what you see? Visit the ' +\n",
              "            '<a target=\"_blank\" href=https://colab.research.google.com/notebooks/data_table.ipynb>data table notebook</a>'\n",
              "            + ' to learn more about interactive tables.';\n",
              "          element.innerHTML = '';\n",
              "          dataTable['output_type'] = 'display_data';\n",
              "          await google.colab.output.renderOutput(dataTable, element);\n",
              "          const docLink = document.createElement('div');\n",
              "          docLink.innerHTML = docLinkHtml;\n",
              "          element.appendChild(docLink);\n",
              "        }\n",
              "      </script>\n",
              "    </div>\n",
              "  </div>\n",
              "  "
            ]
          },
          "metadata": {},
          "execution_count": 34
        }
      ],
      "source": [
        "busiest_airports_table[0] = busiest_airports_table[0][['IATA Code', 'traffic_change_20_21', 'traffic_change_19_20', 'hubs']]\n",
        "busiest_airports_table[0].head(2)"
      ]
    },
    {
      "cell_type": "code",
      "execution_count": 35,
      "metadata": {
        "id": "eYnHZcpd8RcF"
      },
      "outputs": [],
      "source": [
        "busiest_airports_table[1]['traffic_change_20_21'] = busiest_airports_table[1]['2021[3]'] - busiest_airports_table[1]['2020[4]']\n",
        "busiest_airports_table[1]['traffic_change_19_20'] = busiest_airports_table[1]['2020[4]'] - busiest_airports_table[1]['2019[5]']"
      ]
    },
    {
      "cell_type": "code",
      "execution_count": 36,
      "metadata": {
        "id": "SwArnyru8zBr"
      },
      "outputs": [],
      "source": [
        "busiest_airports_table[1]['hubs'] = str('Medium_hub')"
      ]
    },
    {
      "cell_type": "code",
      "execution_count": 37,
      "metadata": {
        "colab": {
          "base_uri": "https://localhost:8080/",
          "height": 112
        },
        "id": "Eroqvbnq8y3t",
        "outputId": "d5f2ae53-ee10-41b3-f460-4ac25e2df6d3"
      },
      "outputs": [
        {
          "output_type": "execute_result",
          "data": {
            "text/plain": [
              "  IATA Code  traffic_change_20_21  traffic_change_19_20        hubs\n",
              "0       DAL               2817633              -4738527  Medium_hub\n",
              "1       HNL               2704537              -6862287  Medium_hub"
            ],
            "text/html": [
              "\n",
              "  <div id=\"df-2d429579-d88d-4251-ae4b-d5553f3a83a1\">\n",
              "    <div class=\"colab-df-container\">\n",
              "      <div>\n",
              "<style scoped>\n",
              "    .dataframe tbody tr th:only-of-type {\n",
              "        vertical-align: middle;\n",
              "    }\n",
              "\n",
              "    .dataframe tbody tr th {\n",
              "        vertical-align: top;\n",
              "    }\n",
              "\n",
              "    .dataframe thead th {\n",
              "        text-align: right;\n",
              "    }\n",
              "</style>\n",
              "<table border=\"1\" class=\"dataframe\">\n",
              "  <thead>\n",
              "    <tr style=\"text-align: right;\">\n",
              "      <th></th>\n",
              "      <th>IATA Code</th>\n",
              "      <th>traffic_change_20_21</th>\n",
              "      <th>traffic_change_19_20</th>\n",
              "      <th>hubs</th>\n",
              "    </tr>\n",
              "  </thead>\n",
              "  <tbody>\n",
              "    <tr>\n",
              "      <th>0</th>\n",
              "      <td>DAL</td>\n",
              "      <td>2817633</td>\n",
              "      <td>-4738527</td>\n",
              "      <td>Medium_hub</td>\n",
              "    </tr>\n",
              "    <tr>\n",
              "      <th>1</th>\n",
              "      <td>HNL</td>\n",
              "      <td>2704537</td>\n",
              "      <td>-6862287</td>\n",
              "      <td>Medium_hub</td>\n",
              "    </tr>\n",
              "  </tbody>\n",
              "</table>\n",
              "</div>\n",
              "      <button class=\"colab-df-convert\" onclick=\"convertToInteractive('df-2d429579-d88d-4251-ae4b-d5553f3a83a1')\"\n",
              "              title=\"Convert this dataframe to an interactive table.\"\n",
              "              style=\"display:none;\">\n",
              "        \n",
              "  <svg xmlns=\"http://www.w3.org/2000/svg\" height=\"24px\"viewBox=\"0 0 24 24\"\n",
              "       width=\"24px\">\n",
              "    <path d=\"M0 0h24v24H0V0z\" fill=\"none\"/>\n",
              "    <path d=\"M18.56 5.44l.94 2.06.94-2.06 2.06-.94-2.06-.94-.94-2.06-.94 2.06-2.06.94zm-11 1L8.5 8.5l.94-2.06 2.06-.94-2.06-.94L8.5 2.5l-.94 2.06-2.06.94zm10 10l.94 2.06.94-2.06 2.06-.94-2.06-.94-.94-2.06-.94 2.06-2.06.94z\"/><path d=\"M17.41 7.96l-1.37-1.37c-.4-.4-.92-.59-1.43-.59-.52 0-1.04.2-1.43.59L10.3 9.45l-7.72 7.72c-.78.78-.78 2.05 0 2.83L4 21.41c.39.39.9.59 1.41.59.51 0 1.02-.2 1.41-.59l7.78-7.78 2.81-2.81c.8-.78.8-2.07 0-2.86zM5.41 20L4 18.59l7.72-7.72 1.47 1.35L5.41 20z\"/>\n",
              "  </svg>\n",
              "      </button>\n",
              "      \n",
              "  <style>\n",
              "    .colab-df-container {\n",
              "      display:flex;\n",
              "      flex-wrap:wrap;\n",
              "      gap: 12px;\n",
              "    }\n",
              "\n",
              "    .colab-df-convert {\n",
              "      background-color: #E8F0FE;\n",
              "      border: none;\n",
              "      border-radius: 50%;\n",
              "      cursor: pointer;\n",
              "      display: none;\n",
              "      fill: #1967D2;\n",
              "      height: 32px;\n",
              "      padding: 0 0 0 0;\n",
              "      width: 32px;\n",
              "    }\n",
              "\n",
              "    .colab-df-convert:hover {\n",
              "      background-color: #E2EBFA;\n",
              "      box-shadow: 0px 1px 2px rgba(60, 64, 67, 0.3), 0px 1px 3px 1px rgba(60, 64, 67, 0.15);\n",
              "      fill: #174EA6;\n",
              "    }\n",
              "\n",
              "    [theme=dark] .colab-df-convert {\n",
              "      background-color: #3B4455;\n",
              "      fill: #D2E3FC;\n",
              "    }\n",
              "\n",
              "    [theme=dark] .colab-df-convert:hover {\n",
              "      background-color: #434B5C;\n",
              "      box-shadow: 0px 1px 3px 1px rgba(0, 0, 0, 0.15);\n",
              "      filter: drop-shadow(0px 1px 2px rgba(0, 0, 0, 0.3));\n",
              "      fill: #FFFFFF;\n",
              "    }\n",
              "  </style>\n",
              "\n",
              "      <script>\n",
              "        const buttonEl =\n",
              "          document.querySelector('#df-2d429579-d88d-4251-ae4b-d5553f3a83a1 button.colab-df-convert');\n",
              "        buttonEl.style.display =\n",
              "          google.colab.kernel.accessAllowed ? 'block' : 'none';\n",
              "\n",
              "        async function convertToInteractive(key) {\n",
              "          const element = document.querySelector('#df-2d429579-d88d-4251-ae4b-d5553f3a83a1');\n",
              "          const dataTable =\n",
              "            await google.colab.kernel.invokeFunction('convertToInteractive',\n",
              "                                                     [key], {});\n",
              "          if (!dataTable) return;\n",
              "\n",
              "          const docLinkHtml = 'Like what you see? Visit the ' +\n",
              "            '<a target=\"_blank\" href=https://colab.research.google.com/notebooks/data_table.ipynb>data table notebook</a>'\n",
              "            + ' to learn more about interactive tables.';\n",
              "          element.innerHTML = '';\n",
              "          dataTable['output_type'] = 'display_data';\n",
              "          await google.colab.output.renderOutput(dataTable, element);\n",
              "          const docLink = document.createElement('div');\n",
              "          docLink.innerHTML = docLinkHtml;\n",
              "          element.appendChild(docLink);\n",
              "        }\n",
              "      </script>\n",
              "    </div>\n",
              "  </div>\n",
              "  "
            ]
          },
          "metadata": {},
          "execution_count": 37
        }
      ],
      "source": [
        "busiest_airports_table[1] = busiest_airports_table[1][['IATA Code', 'traffic_change_20_21', 'traffic_change_19_20','hubs']]\n",
        "busiest_airports_table[1].head(2)"
      ]
    },
    {
      "cell_type": "code",
      "execution_count": 38,
      "metadata": {
        "id": "hsNQj2v69Q6a"
      },
      "outputs": [],
      "source": [
        "busiest_airports = [busiest_airports_table[0],busiest_airports_table[1]]"
      ]
    },
    {
      "cell_type": "code",
      "execution_count": 39,
      "metadata": {
        "id": "NPj2LRzo91LT"
      },
      "outputs": [],
      "source": [
        "busiest_airports_df = pd.concat(busiest_airports, ignore_index=True)"
      ]
    },
    {
      "cell_type": "code",
      "execution_count": 40,
      "metadata": {
        "id": "UV5uGhlA-Ca3"
      },
      "outputs": [],
      "source": [
        "final_df = final_data.merge(busiest_airports_df, left_on ='iata_code', right_on = \"IATA Code\")"
      ]
    },
    {
      "cell_type": "code",
      "execution_count": 41,
      "metadata": {
        "colab": {
          "base_uri": "https://localhost:8080/",
          "height": 222
        },
        "id": "yQjU3DC_-lcs",
        "outputId": "5128a673-3131-4847-9584-658357683919"
      },
      "outputs": [
        {
          "output_type": "execute_result",
          "data": {
            "text/plain": [
              "   id Airline  Flight AirportFrom AirportTo  DayOfWeek  Time  Length  Delay  \\\n",
              "0   1      CO     269         SFO       IAH          3    15     205      1   \n",
              "1   4      AA    2466         SFO       DFW          3    20     195      1   \n",
              "\n",
              "  ident  ... airport_ident length_ft  width_ft  surface  lighted closed  \\\n",
              "0  KSFO  ...          KSFO    7500.0     200.0      ASP        1      0   \n",
              "1  KSFO  ...          KSFO    7500.0     200.0      ASP        1      0   \n",
              "\n",
              "  IATA Code  traffic_change_20_21 traffic_change_19_20       hubs  \n",
              "0       SFO               3980290            -20034173  large_hub  \n",
              "1       SFO               3980290            -20034173  large_hub  \n",
              "\n",
              "[2 rows x 28 columns]"
            ],
            "text/html": [
              "\n",
              "  <div id=\"df-ad9ccc67-a285-4037-ae98-1bc54c75ea6f\">\n",
              "    <div class=\"colab-df-container\">\n",
              "      <div>\n",
              "<style scoped>\n",
              "    .dataframe tbody tr th:only-of-type {\n",
              "        vertical-align: middle;\n",
              "    }\n",
              "\n",
              "    .dataframe tbody tr th {\n",
              "        vertical-align: top;\n",
              "    }\n",
              "\n",
              "    .dataframe thead th {\n",
              "        text-align: right;\n",
              "    }\n",
              "</style>\n",
              "<table border=\"1\" class=\"dataframe\">\n",
              "  <thead>\n",
              "    <tr style=\"text-align: right;\">\n",
              "      <th></th>\n",
              "      <th>id</th>\n",
              "      <th>Airline</th>\n",
              "      <th>Flight</th>\n",
              "      <th>AirportFrom</th>\n",
              "      <th>AirportTo</th>\n",
              "      <th>DayOfWeek</th>\n",
              "      <th>Time</th>\n",
              "      <th>Length</th>\n",
              "      <th>Delay</th>\n",
              "      <th>ident</th>\n",
              "      <th>...</th>\n",
              "      <th>airport_ident</th>\n",
              "      <th>length_ft</th>\n",
              "      <th>width_ft</th>\n",
              "      <th>surface</th>\n",
              "      <th>lighted</th>\n",
              "      <th>closed</th>\n",
              "      <th>IATA Code</th>\n",
              "      <th>traffic_change_20_21</th>\n",
              "      <th>traffic_change_19_20</th>\n",
              "      <th>hubs</th>\n",
              "    </tr>\n",
              "  </thead>\n",
              "  <tbody>\n",
              "    <tr>\n",
              "      <th>0</th>\n",
              "      <td>1</td>\n",
              "      <td>CO</td>\n",
              "      <td>269</td>\n",
              "      <td>SFO</td>\n",
              "      <td>IAH</td>\n",
              "      <td>3</td>\n",
              "      <td>15</td>\n",
              "      <td>205</td>\n",
              "      <td>1</td>\n",
              "      <td>KSFO</td>\n",
              "      <td>...</td>\n",
              "      <td>KSFO</td>\n",
              "      <td>7500.0</td>\n",
              "      <td>200.0</td>\n",
              "      <td>ASP</td>\n",
              "      <td>1</td>\n",
              "      <td>0</td>\n",
              "      <td>SFO</td>\n",
              "      <td>3980290</td>\n",
              "      <td>-20034173</td>\n",
              "      <td>large_hub</td>\n",
              "    </tr>\n",
              "    <tr>\n",
              "      <th>1</th>\n",
              "      <td>4</td>\n",
              "      <td>AA</td>\n",
              "      <td>2466</td>\n",
              "      <td>SFO</td>\n",
              "      <td>DFW</td>\n",
              "      <td>3</td>\n",
              "      <td>20</td>\n",
              "      <td>195</td>\n",
              "      <td>1</td>\n",
              "      <td>KSFO</td>\n",
              "      <td>...</td>\n",
              "      <td>KSFO</td>\n",
              "      <td>7500.0</td>\n",
              "      <td>200.0</td>\n",
              "      <td>ASP</td>\n",
              "      <td>1</td>\n",
              "      <td>0</td>\n",
              "      <td>SFO</td>\n",
              "      <td>3980290</td>\n",
              "      <td>-20034173</td>\n",
              "      <td>large_hub</td>\n",
              "    </tr>\n",
              "  </tbody>\n",
              "</table>\n",
              "<p>2 rows × 28 columns</p>\n",
              "</div>\n",
              "      <button class=\"colab-df-convert\" onclick=\"convertToInteractive('df-ad9ccc67-a285-4037-ae98-1bc54c75ea6f')\"\n",
              "              title=\"Convert this dataframe to an interactive table.\"\n",
              "              style=\"display:none;\">\n",
              "        \n",
              "  <svg xmlns=\"http://www.w3.org/2000/svg\" height=\"24px\"viewBox=\"0 0 24 24\"\n",
              "       width=\"24px\">\n",
              "    <path d=\"M0 0h24v24H0V0z\" fill=\"none\"/>\n",
              "    <path d=\"M18.56 5.44l.94 2.06.94-2.06 2.06-.94-2.06-.94-.94-2.06-.94 2.06-2.06.94zm-11 1L8.5 8.5l.94-2.06 2.06-.94-2.06-.94L8.5 2.5l-.94 2.06-2.06.94zm10 10l.94 2.06.94-2.06 2.06-.94-2.06-.94-.94-2.06-.94 2.06-2.06.94z\"/><path d=\"M17.41 7.96l-1.37-1.37c-.4-.4-.92-.59-1.43-.59-.52 0-1.04.2-1.43.59L10.3 9.45l-7.72 7.72c-.78.78-.78 2.05 0 2.83L4 21.41c.39.39.9.59 1.41.59.51 0 1.02-.2 1.41-.59l7.78-7.78 2.81-2.81c.8-.78.8-2.07 0-2.86zM5.41 20L4 18.59l7.72-7.72 1.47 1.35L5.41 20z\"/>\n",
              "  </svg>\n",
              "      </button>\n",
              "      \n",
              "  <style>\n",
              "    .colab-df-container {\n",
              "      display:flex;\n",
              "      flex-wrap:wrap;\n",
              "      gap: 12px;\n",
              "    }\n",
              "\n",
              "    .colab-df-convert {\n",
              "      background-color: #E8F0FE;\n",
              "      border: none;\n",
              "      border-radius: 50%;\n",
              "      cursor: pointer;\n",
              "      display: none;\n",
              "      fill: #1967D2;\n",
              "      height: 32px;\n",
              "      padding: 0 0 0 0;\n",
              "      width: 32px;\n",
              "    }\n",
              "\n",
              "    .colab-df-convert:hover {\n",
              "      background-color: #E2EBFA;\n",
              "      box-shadow: 0px 1px 2px rgba(60, 64, 67, 0.3), 0px 1px 3px 1px rgba(60, 64, 67, 0.15);\n",
              "      fill: #174EA6;\n",
              "    }\n",
              "\n",
              "    [theme=dark] .colab-df-convert {\n",
              "      background-color: #3B4455;\n",
              "      fill: #D2E3FC;\n",
              "    }\n",
              "\n",
              "    [theme=dark] .colab-df-convert:hover {\n",
              "      background-color: #434B5C;\n",
              "      box-shadow: 0px 1px 3px 1px rgba(0, 0, 0, 0.15);\n",
              "      filter: drop-shadow(0px 1px 2px rgba(0, 0, 0, 0.3));\n",
              "      fill: #FFFFFF;\n",
              "    }\n",
              "  </style>\n",
              "\n",
              "      <script>\n",
              "        const buttonEl =\n",
              "          document.querySelector('#df-ad9ccc67-a285-4037-ae98-1bc54c75ea6f button.colab-df-convert');\n",
              "        buttonEl.style.display =\n",
              "          google.colab.kernel.accessAllowed ? 'block' : 'none';\n",
              "\n",
              "        async function convertToInteractive(key) {\n",
              "          const element = document.querySelector('#df-ad9ccc67-a285-4037-ae98-1bc54c75ea6f');\n",
              "          const dataTable =\n",
              "            await google.colab.kernel.invokeFunction('convertToInteractive',\n",
              "                                                     [key], {});\n",
              "          if (!dataTable) return;\n",
              "\n",
              "          const docLinkHtml = 'Like what you see? Visit the ' +\n",
              "            '<a target=\"_blank\" href=https://colab.research.google.com/notebooks/data_table.ipynb>data table notebook</a>'\n",
              "            + ' to learn more about interactive tables.';\n",
              "          element.innerHTML = '';\n",
              "          dataTable['output_type'] = 'display_data';\n",
              "          await google.colab.output.renderOutput(dataTable, element);\n",
              "          const docLink = document.createElement('div');\n",
              "          docLink.innerHTML = docLinkHtml;\n",
              "          element.appendChild(docLink);\n",
              "        }\n",
              "      </script>\n",
              "    </div>\n",
              "  </div>\n",
              "  "
            ]
          },
          "metadata": {},
          "execution_count": 41
        }
      ],
      "source": [
        "final_df.head(2)"
      ]
    },
    {
      "cell_type": "code",
      "execution_count": 42,
      "metadata": {
        "id": "rBorhhLw_PG4"
      },
      "outputs": [],
      "source": [
        "final_df = final_df.drop(['id','AirportFrom','airport_ident','iata_code','AirportTo','surface', 'ident',\n",
        "                         'IATA Code','name'], axis=1)"
      ]
    },
    {
      "cell_type": "markdown",
      "metadata": {
        "id": "VwhPAWYZ-57F"
      },
      "source": [
        "2. You should then examine the missing values in each field, perform missing value \n",
        "treatment, and justify your actions."
      ]
    },
    {
      "cell_type": "code",
      "execution_count": 43,
      "metadata": {
        "colab": {
          "base_uri": "https://localhost:8080/"
        },
        "id": "5Q7pvnC--swB",
        "outputId": "d188caf2-b9d5-4339-9860-8c6b1fe62172"
      },
      "outputs": [
        {
          "output_type": "execute_result",
          "data": {
            "text/plain": [
              "Airline                 0\n",
              "Flight                  0\n",
              "DayOfWeek               0\n",
              "Time                    0\n",
              "Length                  0\n",
              "Delay                   0\n",
              "type                    0\n",
              "latitude_deg            0\n",
              "longitude_deg           0\n",
              "elevation_ft            0\n",
              "scheduled_service       0\n",
              "airport_ref             0\n",
              "length_ft               0\n",
              "width_ft                0\n",
              "lighted                 0\n",
              "closed                  0\n",
              "traffic_change_20_21    0\n",
              "traffic_change_19_20    0\n",
              "hubs                    0\n",
              "dtype: int64"
            ]
          },
          "metadata": {},
          "execution_count": 43
        }
      ],
      "source": [
        "# Now lets check the null value and treat them.\n",
        "final_df.isnull().sum()"
      ]
    },
    {
      "cell_type": "code",
      "execution_count": 44,
      "metadata": {
        "id": "TTWI-n7v_wxC"
      },
      "outputs": [],
      "source": [
        "# There are no null values in the dataset"
      ]
    },
    {
      "cell_type": "markdown",
      "metadata": {
        "id": "QuCN0AjyAyPM"
      },
      "source": [
        "3. Perform data visualization and share your insights on the following points:"
      ]
    },
    {
      "cell_type": "markdown",
      "metadata": {
        "id": "PZ1uakP_A06X"
      },
      "source": [
        "a. According to the data provided, approximately 70% of Southwest Airlines flights are delayed. Visualize it to compare it with the data of other airlines."
      ]
    },
    {
      "cell_type": "code",
      "execution_count": 45,
      "metadata": {
        "colab": {
          "base_uri": "https://localhost:8080/",
          "height": 573
        },
        "id": "7InkjJNMCKak",
        "outputId": "cf604ca4-f5ef-4dc8-bd6e-7fac085e90d7"
      },
      "outputs": [
        {
          "output_type": "display_data",
          "data": {
            "text/plain": [
              "<Figure size 1000x700 with 1 Axes>"
            ],
            "image/png": "[encoded data removed]"
          },
          "metadata": {}
        }
      ],
      "source": [
        "plt.figure(figsize=(10,7))\n",
        "sns.countplot(x='Airline', hue='Delay', data=final_df)\n",
        "plt.show()"
      ]
    },
    {
      "cell_type": "code",
      "execution_count": 46,
      "metadata": {
        "id": "eb8fSOTFCQhO"
      },
      "outputs": [],
      "source": [
        "# The graph clear show that 70% of flight of south west airline (code of WN) is delayed"
      ]
    },
    {
      "cell_type": "markdown",
      "metadata": {
        "id": "PnEH4cfTCn4i"
      },
      "source": [
        "\n",
        "b. Flights were delayed on various weekdays. Which day of the week is the safest for travel?"
      ]
    },
    {
      "cell_type": "code",
      "execution_count": 47,
      "metadata": {
        "id": "32QK6o7ZCkfb"
      },
      "outputs": [],
      "source": [
        "weekday_df = final_df[['DayOfWeek','Delay']].value_counts().reset_index()"
      ]
    },
    {
      "cell_type": "code",
      "execution_count": 48,
      "metadata": {
        "colab": {
          "base_uri": "https://localhost:8080/",
          "height": 467
        },
        "id": "pU6KIY9cD7P9",
        "outputId": "78af3381-9187-44e3-c720-536b96c970ee"
      },
      "outputs": [
        {
          "output_type": "execute_result",
          "data": {
            "text/plain": [
              "<Axes: xlabel='DayOfWeek', ylabel='0'>"
            ]
          },
          "metadata": {},
          "execution_count": 48
        },
        {
          "output_type": "display_data",
          "data": {
            "text/plain": [
              "<Figure size 640x480 with 1 Axes>"
            ],
            "image/png": "[encoded data removed]"
          },
          "metadata": {}
        }
      ],
      "source": [
        "sns.barplot(x='DayOfWeek', y=0, hue='Delay', data=weekday_df)"
      ]
    },
    {
      "cell_type": "code",
      "execution_count": 49,
      "metadata": {
        "id": "pQldhPLME8Wz"
      },
      "outputs": [],
      "source": [
        "# On the 5th or 6th day of week its clear that there is less no of flight delay."
      ]
    },
    {
      "cell_type": "markdown",
      "metadata": {
        "id": "Q4_wRfZHFF7W"
      },
      "source": [
        "c. Which airlines should be recommended for short-, medium-, and long-distance travel?"
      ]
    },
    {
      "cell_type": "code",
      "execution_count": 50,
      "metadata": {
        "colab": {
          "base_uri": "https://localhost:8080/"
        },
        "id": "MTTQI-FKFA_T",
        "outputId": "bbb1ff57-4b32-4a9b-f7d9-219cb6624911"
      },
      "outputs": [
        {
          "output_type": "execute_result",
          "data": {
            "text/plain": [
              "WN    75941\n",
              "DL    43872\n",
              "OO    32965\n",
              "AA    30246\n",
              "US    26363\n",
              "MQ    26076\n",
              "XE    22114\n",
              "EV    16553\n",
              "UA    16388\n",
              "9E    13573\n",
              "CO    12261\n",
              "B6    11628\n",
              "OH     9963\n",
              "YV     9884\n",
              "AS     6350\n",
              "F9     5406\n",
              "HA     3034\n",
              "Name: Airline, dtype: int64"
            ]
          },
          "metadata": {},
          "execution_count": 50
        }
      ],
      "source": [
        "final_df['Airline'][final_df['Length']<200].value_counts()"
      ]
    },
    {
      "cell_type": "code",
      "execution_count": 51,
      "metadata": {
        "id": "yYzwIwwQTV2E"
      },
      "outputs": [],
      "source": [
        "# The above airlines should be recommended for short distance travel"
      ]
    },
    {
      "cell_type": "code",
      "execution_count": 52,
      "metadata": {
        "colab": {
          "base_uri": "https://localhost:8080/"
        },
        "id": "akEDHdsBTOyI",
        "outputId": "72cf002c-dee9-42af-9942-7ce00647804d"
      },
      "outputs": [
        {
          "output_type": "execute_result",
          "data": {
            "text/plain": [
              "UA    549\n",
              "AA    304\n",
              "DL    226\n",
              "CO    177\n",
              "B6     83\n",
              "US     79\n",
              "AS     31\n",
              "HA     14\n",
              "Name: Airline, dtype: int64"
            ]
          },
          "metadata": {},
          "execution_count": 52
        }
      ],
      "source": [
        "final_df['Airline'][final_df['Length']>400].value_counts()"
      ]
    },
    {
      "cell_type": "code",
      "execution_count": 53,
      "metadata": {
        "id": "g08Xrah0Tnn8"
      },
      "outputs": [],
      "source": [
        "# The above airlines should be recommended for long distance travel"
      ]
    },
    {
      "cell_type": "code",
      "execution_count": 54,
      "metadata": {
        "id": "quCbni2aT0RD"
      },
      "outputs": [],
      "source": [
        "# All the above airlines should be recommended for medium distance travel"
      ]
    },
    {
      "cell_type": "markdown",
      "metadata": {
        "id": "f-PDtWCwUIDs"
      },
      "source": [
        "d. Do you notice any patterns in the departure times of long-duration flights?"
      ]
    },
    {
      "cell_type": "code",
      "execution_count": 55,
      "metadata": {
        "colab": {
          "base_uri": "https://localhost:8080/",
          "height": 487
        },
        "id": "glFHlwoeT6zp",
        "outputId": "5c7ac53a-909c-4987-e81f-3b6126c10fe8"
      },
      "outputs": [
        {
          "output_type": "execute_result",
          "data": {
            "text/plain": [
              "       Airline  Flight  DayOfWeek  Time  Length  Delay            type  \\\n",
              "11870       US      20          3   715     403      0   large_airport   \n",
              "12362       US      20          4   715     403      0   large_airport   \n",
              "12841       US     146          5   675     412      1   large_airport   \n",
              "12865       US      20          5   715     403      0   large_airport   \n",
              "13319       US     146          6   675     412      0   large_airport   \n",
              "...        ...     ...        ...   ...     ...    ...             ...   \n",
              "413895      UA      92          3  1416     404      0  medium_airport   \n",
              "413939      AA       6          4  1080     420      0  medium_airport   \n",
              "413955      UA      92          4  1416     404      0  medium_airport   \n",
              "414000      AA       6          5  1080     420      1  medium_airport   \n",
              "414017      UA      92          5  1416     404      0  medium_airport   \n",
              "\n",
              "        latitude_deg  longitude_deg  elevation_ft scheduled_service  \\\n",
              "11870      33.435302    -112.005905        1135.0               yes   \n",
              "12362      33.435302    -112.005905        1135.0               yes   \n",
              "12841      33.435302    -112.005905        1135.0               yes   \n",
              "12865      33.435302    -112.005905        1135.0               yes   \n",
              "13319      33.435302    -112.005905        1135.0               yes   \n",
              "...              ...            ...           ...               ...   \n",
              "413895     20.898543    -156.431212          54.0               yes   \n",
              "413939     20.898543    -156.431212          54.0               yes   \n",
              "413955     20.898543    -156.431212          54.0               yes   \n",
              "414000     20.898543    -156.431212          54.0               yes   \n",
              "414017     20.898543    -156.431212          54.0               yes   \n",
              "\n",
              "        airport_ref  length_ft  width_ft  lighted  closed  \\\n",
              "11870          3772    10300.0     150.0        1       0   \n",
              "12362          3772    10300.0     150.0        1       0   \n",
              "12841          3772    10300.0     150.0        1       0   \n",
              "12865          3772    10300.0     150.0        1       0   \n",
              "13319          3772    10300.0     150.0        1       0   \n",
              "...             ...        ...       ...      ...     ...   \n",
              "413895         5455     6995.0     150.0        1       0   \n",
              "413939         5455     6995.0     150.0        1       0   \n",
              "413955         5455     6995.0     150.0        1       0   \n",
              "414000         5455     6995.0     150.0        1       0   \n",
              "414017         5455     6995.0     150.0        1       0   \n",
              "\n",
              "        traffic_change_20_21  traffic_change_19_20        hubs  \n",
              "11870                8408851             -11902116   large_hub  \n",
              "12362                8408851             -11902116   large_hub  \n",
              "12841                8408851             -11902116   large_hub  \n",
              "12865                8408851             -11902116   large_hub  \n",
              "13319                8408851             -11902116   large_hub  \n",
              "...                      ...                   ...         ...  \n",
              "413895               1798174              -2656666  Medium_hub  \n",
              "413939               1798174              -2656666  Medium_hub  \n",
              "413955               1798174              -2656666  Medium_hub  \n",
              "414000               1798174              -2656666  Medium_hub  \n",
              "414017               1798174              -2656666  Medium_hub  \n",
              "\n",
              "[1463 rows x 19 columns]"
            ],
            "text/html": [
              "\n",
              "  <div id=\"df-4f724fad-ef5e-4212-8111-482a70922f74\">\n",
              "    <div class=\"colab-df-container\">\n",
              "      <div>\n",
              "<style scoped>\n",
              "    .dataframe tbody tr th:only-of-type {\n",
              "        vertical-align: middle;\n",
              "    }\n",
              "\n",
              "    .dataframe tbody tr th {\n",
              "        vertical-align: top;\n",
              "    }\n",
              "\n",
              "    .dataframe thead th {\n",
              "        text-align: right;\n",
              "    }\n",
              "</style>\n",
              "<table border=\"1\" class=\"dataframe\">\n",
              "  <thead>\n",
              "    <tr style=\"text-align: right;\">\n",
              "      <th></th>\n",
              "      <th>Airline</th>\n",
              "      <th>Flight</th>\n",
              "      <th>DayOfWeek</th>\n",
              "      <th>Time</th>\n",
              "      <th>Length</th>\n",
              "      <th>Delay</th>\n",
              "      <th>type</th>\n",
              "      <th>latitude_deg</th>\n",
              "      <th>longitude_deg</th>\n",
              "      <th>elevation_ft</th>\n",
              "      <th>scheduled_service</th>\n",
              "      <th>airport_ref</th>\n",
              "      <th>length_ft</th>\n",
              "      <th>width_ft</th>\n",
              "      <th>lighted</th>\n",
              "      <th>closed</th>\n",
              "      <th>traffic_change_20_21</th>\n",
              "      <th>traffic_change_19_20</th>\n",
              "      <th>hubs</th>\n",
              "    </tr>\n",
              "  </thead>\n",
              "  <tbody>\n",
              "    <tr>\n",
              "      <th>11870</th>\n",
              "      <td>US</td>\n",
              "      <td>20</td>\n",
              "      <td>3</td>\n",
              "      <td>715</td>\n",
              "      <td>403</td>\n",
              "      <td>0</td>\n",
              "      <td>large_airport</td>\n",
              "      <td>33.435302</td>\n",
              "      <td>-112.005905</td>\n",
              "      <td>1135.0</td>\n",
              "      <td>yes</td>\n",
              "      <td>3772</td>\n",
              "      <td>10300.0</td>\n",
              "      <td>150.0</td>\n",
              "      <td>1</td>\n",
              "      <td>0</td>\n",
              "      <td>8408851</td>\n",
              "      <td>-11902116</td>\n",
              "      <td>large_hub</td>\n",
              "    </tr>\n",
              "    <tr>\n",
              "      <th>12362</th>\n",
              "      <td>US</td>\n",
              "      <td>20</td>\n",
              "      <td>4</td>\n",
              "      <td>715</td>\n",
              "      <td>403</td>\n",
              "      <td>0</td>\n",
              "      <td>large_airport</td>\n",
              "      <td>33.435302</td>\n",
              "      <td>-112.005905</td>\n",
              "      <td>1135.0</td>\n",
              "      <td>yes</td>\n",
              "      <td>3772</td>\n",
              "      <td>10300.0</td>\n",
              "      <td>150.0</td>\n",
              "      <td>1</td>\n",
              "      <td>0</td>\n",
              "      <td>8408851</td>\n",
              "      <td>-11902116</td>\n",
              "      <td>large_hub</td>\n",
              "    </tr>\n",
              "    <tr>\n",
              "      <th>12841</th>\n",
              "      <td>US</td>\n",
              "      <td>146</td>\n",
              "      <td>5</td>\n",
              "      <td>675</td>\n",
              "      <td>412</td>\n",
              "      <td>1</td>\n",
              "      <td>large_airport</td>\n",
              "      <td>33.435302</td>\n",
              "      <td>-112.005905</td>\n",
              "      <td>1135.0</td>\n",
              "      <td>yes</td>\n",
              "      <td>3772</td>\n",
              "      <td>10300.0</td>\n",
              "      <td>150.0</td>\n",
              "      <td>1</td>\n",
              "      <td>0</td>\n",
              "      <td>8408851</td>\n",
              "      <td>-11902116</td>\n",
              "      <td>large_hub</td>\n",
              "    </tr>\n",
              "    <tr>\n",
              "      <th>12865</th>\n",
              "      <td>US</td>\n",
              "      <td>20</td>\n",
              "      <td>5</td>\n",
              "      <td>715</td>\n",
              "      <td>403</td>\n",
              "      <td>0</td>\n",
              "      <td>large_airport</td>\n",
              "      <td>33.435302</td>\n",
              "      <td>-112.005905</td>\n",
              "      <td>1135.0</td>\n",
              "      <td>yes</td>\n",
              "      <td>3772</td>\n",
              "      <td>10300.0</td>\n",
              "      <td>150.0</td>\n",
              "      <td>1</td>\n",
              "      <td>0</td>\n",
              "      <td>8408851</td>\n",
              "      <td>-11902116</td>\n",
              "      <td>large_hub</td>\n",
              "    </tr>\n",
              "    <tr>\n",
              "      <th>13319</th>\n",
              "      <td>US</td>\n",
              "      <td>146</td>\n",
              "      <td>6</td>\n",
              "      <td>675</td>\n",
              "      <td>412</td>\n",
              "      <td>0</td>\n",
              "      <td>large_airport</td>\n",
              "      <td>33.435302</td>\n",
              "      <td>-112.005905</td>\n",
              "      <td>1135.0</td>\n",
              "      <td>yes</td>\n",
              "      <td>3772</td>\n",
              "      <td>10300.0</td>\n",
              "      <td>150.0</td>\n",
              "      <td>1</td>\n",
              "      <td>0</td>\n",
              "      <td>8408851</td>\n",
              "      <td>-11902116</td>\n",
              "      <td>large_hub</td>\n",
              "    </tr>\n",
              "    <tr>\n",
              "      <th>...</th>\n",
              "      <td>...</td>\n",
              "      <td>...</td>\n",
              "      <td>...</td>\n",
              "      <td>...</td>\n",
              "      <td>...</td>\n",
              "      <td>...</td>\n",
              "      <td>...</td>\n",
              "      <td>...</td>\n",
              "      <td>...</td>\n",
              "      <td>...</td>\n",
              "      <td>...</td>\n",
              "      <td>...</td>\n",
              "      <td>...</td>\n",
              "      <td>...</td>\n",
              "      <td>...</td>\n",
              "      <td>...</td>\n",
              "      <td>...</td>\n",
              "      <td>...</td>\n",
              "      <td>...</td>\n",
              "    </tr>\n",
              "    <tr>\n",
              "      <th>413895</th>\n",
              "      <td>UA</td>\n",
              "      <td>92</td>\n",
              "      <td>3</td>\n",
              "      <td>1416</td>\n",
              "      <td>404</td>\n",
              "      <td>0</td>\n",
              "      <td>medium_airport</td>\n",
              "      <td>20.898543</td>\n",
              "      <td>-156.431212</td>\n",
              "      <td>54.0</td>\n",
              "      <td>yes</td>\n",
              "      <td>5455</td>\n",
              "      <td>6995.0</td>\n",
              "      <td>150.0</td>\n",
              "      <td>1</td>\n",
              "      <td>0</td>\n",
              "      <td>1798174</td>\n",
              "      <td>-2656666</td>\n",
              "      <td>Medium_hub</td>\n",
              "    </tr>\n",
              "    <tr>\n",
              "      <th>413939</th>\n",
              "      <td>AA</td>\n",
              "      <td>6</td>\n",
              "      <td>4</td>\n",
              "      <td>1080</td>\n",
              "      <td>420</td>\n",
              "      <td>0</td>\n",
              "      <td>medium_airport</td>\n",
              "      <td>20.898543</td>\n",
              "      <td>-156.431212</td>\n",
              "      <td>54.0</td>\n",
              "      <td>yes</td>\n",
              "      <td>5455</td>\n",
              "      <td>6995.0</td>\n",
              "      <td>150.0</td>\n",
              "      <td>1</td>\n",
              "      <td>0</td>\n",
              "      <td>1798174</td>\n",
              "      <td>-2656666</td>\n",
              "      <td>Medium_hub</td>\n",
              "    </tr>\n",
              "    <tr>\n",
              "      <th>413955</th>\n",
              "      <td>UA</td>\n",
              "      <td>92</td>\n",
              "      <td>4</td>\n",
              "      <td>1416</td>\n",
              "      <td>404</td>\n",
              "      <td>0</td>\n",
              "      <td>medium_airport</td>\n",
              "      <td>20.898543</td>\n",
              "      <td>-156.431212</td>\n",
              "      <td>54.0</td>\n",
              "      <td>yes</td>\n",
              "      <td>5455</td>\n",
              "      <td>6995.0</td>\n",
              "      <td>150.0</td>\n",
              "      <td>1</td>\n",
              "      <td>0</td>\n",
              "      <td>1798174</td>\n",
              "      <td>-2656666</td>\n",
              "      <td>Medium_hub</td>\n",
              "    </tr>\n",
              "    <tr>\n",
              "      <th>414000</th>\n",
              "      <td>AA</td>\n",
              "      <td>6</td>\n",
              "      <td>5</td>\n",
              "      <td>1080</td>\n",
              "      <td>420</td>\n",
              "      <td>1</td>\n",
              "      <td>medium_airport</td>\n",
              "      <td>20.898543</td>\n",
              "      <td>-156.431212</td>\n",
              "      <td>54.0</td>\n",
              "      <td>yes</td>\n",
              "      <td>5455</td>\n",
              "      <td>6995.0</td>\n",
              "      <td>150.0</td>\n",
              "      <td>1</td>\n",
              "      <td>0</td>\n",
              "      <td>1798174</td>\n",
              "      <td>-2656666</td>\n",
              "      <td>Medium_hub</td>\n",
              "    </tr>\n",
              "    <tr>\n",
              "      <th>414017</th>\n",
              "      <td>UA</td>\n",
              "      <td>92</td>\n",
              "      <td>5</td>\n",
              "      <td>1416</td>\n",
              "      <td>404</td>\n",
              "      <td>0</td>\n",
              "      <td>medium_airport</td>\n",
              "      <td>20.898543</td>\n",
              "      <td>-156.431212</td>\n",
              "      <td>54.0</td>\n",
              "      <td>yes</td>\n",
              "      <td>5455</td>\n",
              "      <td>6995.0</td>\n",
              "      <td>150.0</td>\n",
              "      <td>1</td>\n",
              "      <td>0</td>\n",
              "      <td>1798174</td>\n",
              "      <td>-2656666</td>\n",
              "      <td>Medium_hub</td>\n",
              "    </tr>\n",
              "  </tbody>\n",
              "</table>\n",
              "<p>1463 rows × 19 columns</p>\n",
              "</div>\n",
              "      <button class=\"colab-df-convert\" onclick=\"convertToInteractive('df-4f724fad-ef5e-4212-8111-482a70922f74')\"\n",
              "              title=\"Convert this dataframe to an interactive table.\"\n",
              "              style=\"display:none;\">\n",
              "        \n",
              "  <svg xmlns=\"http://www.w3.org/2000/svg\" height=\"24px\"viewBox=\"0 0 24 24\"\n",
              "       width=\"24px\">\n",
              "    <path d=\"M0 0h24v24H0V0z\" fill=\"none\"/>\n",
              "    <path d=\"M18.56 5.44l.94 2.06.94-2.06 2.06-.94-2.06-.94-.94-2.06-.94 2.06-2.06.94zm-11 1L8.5 8.5l.94-2.06 2.06-.94-2.06-.94L8.5 2.5l-.94 2.06-2.06.94zm10 10l.94 2.06.94-2.06 2.06-.94-2.06-.94-.94-2.06-.94 2.06-2.06.94z\"/><path d=\"M17.41 7.96l-1.37-1.37c-.4-.4-.92-.59-1.43-.59-.52 0-1.04.2-1.43.59L10.3 9.45l-7.72 7.72c-.78.78-.78 2.05 0 2.83L4 21.41c.39.39.9.59 1.41.59.51 0 1.02-.2 1.41-.59l7.78-7.78 2.81-2.81c.8-.78.8-2.07 0-2.86zM5.41 20L4 18.59l7.72-7.72 1.47 1.35L5.41 20z\"/>\n",
              "  </svg>\n",
              "      </button>\n",
              "      \n",
              "  <style>\n",
              "    .colab-df-container {\n",
              "      display:flex;\n",
              "      flex-wrap:wrap;\n",
              "      gap: 12px;\n",
              "    }\n",
              "\n",
              "    .colab-df-convert {\n",
              "      background-color: #E8F0FE;\n",
              "      border: none;\n",
              "      border-radius: 50%;\n",
              "      cursor: pointer;\n",
              "      display: none;\n",
              "      fill: #1967D2;\n",
              "      height: 32px;\n",
              "      padding: 0 0 0 0;\n",
              "      width: 32px;\n",
              "    }\n",
              "\n",
              "    .colab-df-convert:hover {\n",
              "      background-color: #E2EBFA;\n",
              "      box-shadow: 0px 1px 2px rgba(60, 64, 67, 0.3), 0px 1px 3px 1px rgba(60, 64, 67, 0.15);\n",
              "      fill: #174EA6;\n",
              "    }\n",
              "\n",
              "    [theme=dark] .colab-df-convert {\n",
              "      background-color: #3B4455;\n",
              "      fill: #D2E3FC;\n",
              "    }\n",
              "\n",
              "    [theme=dark] .colab-df-convert:hover {\n",
              "      background-color: #434B5C;\n",
              "      box-shadow: 0px 1px 3px 1px rgba(0, 0, 0, 0.15);\n",
              "      filter: drop-shadow(0px 1px 2px rgba(0, 0, 0, 0.3));\n",
              "      fill: #FFFFFF;\n",
              "    }\n",
              "  </style>\n",
              "\n",
              "      <script>\n",
              "        const buttonEl =\n",
              "          document.querySelector('#df-4f724fad-ef5e-4212-8111-482a70922f74 button.colab-df-convert');\n",
              "        buttonEl.style.display =\n",
              "          google.colab.kernel.accessAllowed ? 'block' : 'none';\n",
              "\n",
              "        async function convertToInteractive(key) {\n",
              "          const element = document.querySelector('#df-4f724fad-ef5e-4212-8111-482a70922f74');\n",
              "          const dataTable =\n",
              "            await google.colab.kernel.invokeFunction('convertToInteractive',\n",
              "                                                     [key], {});\n",
              "          if (!dataTable) return;\n",
              "\n",
              "          const docLinkHtml = 'Like what you see? Visit the ' +\n",
              "            '<a target=\"_blank\" href=https://colab.research.google.com/notebooks/data_table.ipynb>data table notebook</a>'\n",
              "            + ' to learn more about interactive tables.';\n",
              "          element.innerHTML = '';\n",
              "          dataTable['output_type'] = 'display_data';\n",
              "          await google.colab.output.renderOutput(dataTable, element);\n",
              "          const docLink = document.createElement('div');\n",
              "          docLink.innerHTML = docLinkHtml;\n",
              "          element.appendChild(docLink);\n",
              "        }\n",
              "      </script>\n",
              "    </div>\n",
              "  </div>\n",
              "  "
            ]
          },
          "metadata": {},
          "execution_count": 55
        }
      ],
      "source": [
        "long = final_df[final_df['Length']>400]\n",
        "long"
      ]
    },
    {
      "cell_type": "code",
      "execution_count": 56,
      "metadata": {
        "colab": {
          "base_uri": "https://localhost:8080/"
        },
        "id": "7XfcUeNZXCA4",
        "outputId": "84725949-0749-4eed-8eb2-1c8b433641b3"
      },
      "outputs": [
        {
          "output_type": "execute_result",
          "data": {
            "text/plain": [
              "array([150., 200.])"
            ]
          },
          "metadata": {},
          "execution_count": 56
        }
      ],
      "source": [
        "long['width_ft'].unique()"
      ]
    },
    {
      "cell_type": "code",
      "execution_count": 57,
      "metadata": {
        "colab": {
          "base_uri": "https://localhost:8080/"
        },
        "id": "0kAPlmzBXMyA",
        "outputId": "111081cb-fc86-423c-beb6-64ab75c612dc"
      },
      "outputs": [
        {
          "output_type": "execute_result",
          "data": {
            "text/plain": [
              "array([200., 150., 100.,  75.])"
            ]
          },
          "metadata": {},
          "execution_count": 57
        }
      ],
      "source": [
        "final_df['width_ft'].unique()"
      ]
    },
    {
      "cell_type": "code",
      "execution_count": 58,
      "metadata": {
        "id": "uFufu2MZXW7k"
      },
      "outputs": [],
      "source": [
        "# We can see that width of runway for long flights is 150 or 200"
      ]
    },
    {
      "cell_type": "markdown",
      "metadata": {
        "id": "eKzLKMZKZJxj"
      },
      "source": [
        "4. How many flights were delayed at large hubs compared to medium hubs? Use \n",
        "appropriate visualization to represent your findings.\n"
      ]
    },
    {
      "cell_type": "code",
      "execution_count": 59,
      "metadata": {
        "colab": {
          "base_uri": "https://localhost:8080/",
          "height": 467
        },
        "id": "chtPDEDuYi5P",
        "outputId": "67c74ac0-bf33-492f-d931-c94d80f144dc"
      },
      "outputs": [
        {
          "output_type": "execute_result",
          "data": {
            "text/plain": [
              "<Axes: xlabel='hubs', ylabel='count'>"
            ]
          },
          "metadata": {},
          "execution_count": 59
        },
        {
          "output_type": "display_data",
          "data": {
            "text/plain": [
              "<Figure size 640x480 with 1 Axes>"
            ],
            "image/png": "[encoded data removed]"
          },
          "metadata": {}
        }
      ],
      "source": [
        "sns.countplot(x='hubs', hue='Delay', data=final_df)"
      ]
    },
    {
      "cell_type": "code",
      "execution_count": 60,
      "metadata": {
        "id": "9uftOUiEbTBC"
      },
      "outputs": [],
      "source": [
        "# 150000 flights were delayed at large hubs compared to 50000 at medium hubs"
      ]
    },
    {
      "cell_type": "markdown",
      "metadata": {
        "id": "V4-K9TA9bund"
      },
      "source": [
        "5. Use hypothesis testing strategies to discover:"
      ]
    },
    {
      "cell_type": "markdown",
      "metadata": {
        "id": "bJgfXhwybvZM"
      },
      "source": [
        "a. If the airport's altitude has anything to do with flight delays for incoming and \n",
        "departing flights"
      ]
    },
    {
      "cell_type": "code",
      "execution_count": 61,
      "metadata": {
        "colab": {
          "base_uri": "https://localhost:8080/"
        },
        "id": "2DEaWEHhbm01",
        "outputId": "2b476623-25f5-4621-fbc2-65a1c9d09756"
      },
      "outputs": [
        {
          "output_type": "stream",
          "name": "stdout",
          "text": [
            "stat=235997.906, p=1.000\n",
            "Altitude and flight delay are probably independent\n"
          ]
        }
      ],
      "source": [
        "from scipy.stats import chi2_contingency\n",
        "table = [final_df['latitude_deg'],final_df['Delay']]\n",
        "stat, p, dof, expected = chi2_contingency(table)\n",
        "print('stat=%.3f, p=%.3f' % (stat, p))\n",
        "if p > 0.05:\n",
        "    print('Altitude and flight delay are probably independent')\n",
        "else:\n",
        "    print('Altitude and flight delay are probably dependent')"
      ]
    },
    {
      "cell_type": "markdown",
      "metadata": {
        "id": "K6q9dXB2fMOb"
      },
      "source": [
        "b. If the number of runways at an airport affects flight delays"
      ]
    },
    {
      "cell_type": "code",
      "execution_count": 62,
      "metadata": {
        "colab": {
          "base_uri": "https://localhost:8080/"
        },
        "id": "qDcQZqhJfILQ",
        "outputId": "772658be-896f-4c0f-f20e-25ad8b39f606"
      },
      "outputs": [
        {
          "output_type": "stream",
          "name": "stdout",
          "text": [
            "stat=241372.507, p=1.000\n",
            "Number of runways and delay are probably independent\n"
          ]
        }
      ],
      "source": [
        "from scipy.stats import chi2_contingency\n",
        "table = [final_df['airport_ref'],final_df['Delay']]\n",
        "stat, p, dof, expected = chi2_contingency(table)\n",
        "print('stat=%.3f, p=%.3f' % (stat, p))\n",
        "if p > 0.05:\n",
        "    print('Number of runways and delay are probably independent')\n",
        "else:\n",
        "    print('Number of runways and delay are probably dependent')"
      ]
    },
    {
      "cell_type": "markdown",
      "metadata": {
        "id": "VSaor8_9fhD2"
      },
      "source": [
        "c. If the duration of a flight (length) affects flight delays"
      ]
    },
    {
      "cell_type": "code",
      "execution_count": 63,
      "metadata": {
        "colab": {
          "base_uri": "https://localhost:8080/"
        },
        "id": "k-e9ePitfgWg",
        "outputId": "1ccef6aa-1e40-4d25-9447-0c7fadf73b53"
      },
      "outputs": [
        {
          "output_type": "stream",
          "name": "stdout",
          "text": [
            "stat=0.020, p=0.000\n",
            "Duration of flight and delay are probably dependent\n"
          ]
        }
      ],
      "source": [
        "from scipy.stats import spearmanr\n",
        "data1 = final_df['Length']\n",
        "data2 = final_df['Delay']\n",
        "stat, p = spearmanr(data1, data2)\n",
        "print('stat=%.3f, p=%.3f' % (stat, p))\n",
        "if p > 0.05:\n",
        "    print('Duration of flight and delay are probably independent')\n",
        "else:\n",
        "    print('Duration of flight and delay are probably dependent')   "
      ]
    },
    {
      "cell_type": "markdown",
      "metadata": {
        "id": "qtSWPkc7f5Q2"
      },
      "source": [
        "6. Find the correlation matrix between the flight delay predictors, create a heatmap to \n",
        "visualize this, and share your findings"
      ]
    },
    {
      "cell_type": "code",
      "execution_count": 64,
      "metadata": {
        "colab": {
          "base_uri": "https://localhost:8080/",
          "height": 583
        },
        "id": "eVkpmQTvf0HS",
        "outputId": "a49b09d2-d48e-43c8-b166-ab014903f796"
      },
      "outputs": [
        {
          "output_type": "execute_result",
          "data": {
            "text/plain": [
              "                        Flight  DayOfWeek      Time    Length     Delay  \\\n",
              "Flight                1.000000   0.002269  0.043689 -0.337794 -0.045179   \n",
              "DayOfWeek             0.002269   1.000000  0.002635  0.013866 -0.025960   \n",
              "Time                  0.043689   0.002635  1.000000 -0.050408  0.135503   \n",
              "Length               -0.337794   0.013866 -0.050408  1.000000  0.023412   \n",
              "Delay                -0.045179  -0.025960  0.135503  0.023412  1.000000   \n",
              "latitude_deg          0.152883  -0.010634 -0.031631  0.027318  0.024829   \n",
              "longitude_deg         0.088454  -0.006323  0.000388  0.032629 -0.034535   \n",
              "elevation_ft          0.120979   0.000425  0.033781 -0.079260  0.020978   \n",
              "airport_ref          -0.050394   0.003097 -0.014079 -0.002509 -0.003039   \n",
              "length_ft             0.029879   0.005228  0.023236  0.075392 -0.047662   \n",
              "width_ft              0.012713   0.003480  0.029868  0.059915 -0.013209   \n",
              "lighted               0.060445  -0.004319 -0.004570  0.016097  0.018187   \n",
              "closed                0.015213  -0.004022 -0.012347 -0.042696  0.006584   \n",
              "traffic_change_20_21  0.075725   0.005440  0.094924  0.017518 -0.015961   \n",
              "traffic_change_19_20 -0.109500  -0.004073 -0.081149 -0.067547  0.011029   \n",
              "\n",
              "                      latitude_deg  longitude_deg  elevation_ft  airport_ref  \\\n",
              "Flight                    0.152883       0.088454      0.120979    -0.050394   \n",
              "DayOfWeek                -0.010634      -0.006323      0.000425     0.003097   \n",
              "Time                     -0.031631       0.000388      0.033781    -0.014079   \n",
              "Length                    0.027318       0.032629     -0.079260    -0.002509   \n",
              "Delay                     0.024829      -0.034535      0.020978    -0.003039   \n",
              "latitude_deg              1.000000       0.084202      0.201612    -0.089998   \n",
              "longitude_deg             0.084202       1.000000     -0.222753    -0.196454   \n",
              "elevation_ft              0.201612      -0.222753      1.000000     0.221794   \n",
              "airport_ref              -0.089998      -0.196454      0.221794     1.000000   \n",
              "length_ft                -0.015735       0.076358      0.223794     0.015004   \n",
              "width_ft                 -0.023087      -0.001285     -0.140600    -0.015558   \n",
              "lighted                   0.191397       0.318683     -0.142687    -0.663213   \n",
              "closed                    0.097754      -0.047516     -0.005079    -0.020885   \n",
              "traffic_change_20_21     -0.086251       0.050641      0.270102    -0.195977   \n",
              "traffic_change_19_20     -0.030518      -0.038413     -0.039259     0.178396   \n",
              "\n",
              "                      length_ft  width_ft   lighted    closed  \\\n",
              "Flight                 0.029879  0.012713  0.060445  0.015213   \n",
              "DayOfWeek              0.005228  0.003480 -0.004319 -0.004022   \n",
              "Time                   0.023236  0.029868 -0.004570 -0.012347   \n",
              "Length                 0.075392  0.059915  0.016097 -0.042696   \n",
              "Delay                 -0.047662 -0.013209  0.018187  0.006584   \n",
              "latitude_deg          -0.015735 -0.023087  0.191397  0.097754   \n",
              "longitude_deg          0.076358 -0.001285  0.318683 -0.047516   \n",
              "elevation_ft           0.223794 -0.140600 -0.142687 -0.005079   \n",
              "airport_ref            0.015004 -0.015558 -0.663213 -0.020885   \n",
              "length_ft              1.000000  0.200062  0.074199 -0.219117   \n",
              "width_ft               0.200062  1.000000  0.125793 -0.260123   \n",
              "lighted                0.074199  0.125793  1.000000 -0.117796   \n",
              "closed                -0.219117 -0.260123 -0.117796  1.000000   \n",
              "traffic_change_20_21   0.251813  0.069963  0.153282 -0.175781   \n",
              "traffic_change_19_20  -0.174391 -0.143210 -0.140151  0.159639   \n",
              "\n",
              "                      traffic_change_20_21  traffic_change_19_20  \n",
              "Flight                            0.075725             -0.109500  \n",
              "DayOfWeek                         0.005440             -0.004073  \n",
              "Time                              0.094924             -0.081149  \n",
              "Length                            0.017518             -0.067547  \n",
              "Delay                            -0.015961              0.011029  \n",
              "latitude_deg                     -0.086251             -0.030518  \n",
              "longitude_deg                     0.050641             -0.038413  \n",
              "elevation_ft                      0.270102             -0.039259  \n",
              "airport_ref                      -0.195977              0.178396  \n",
              "length_ft                         0.251813             -0.174391  \n",
              "width_ft                          0.069963             -0.143210  \n",
              "lighted                           0.153282             -0.140151  \n",
              "closed                           -0.175781              0.159639  \n",
              "traffic_change_20_21              1.000000             -0.885008  \n",
              "traffic_change_19_20             -0.885008              1.000000  "
            ],
            "text/html": [
              "\n",
              "  <div id=\"df-f85c438b-04f8-491f-bfa2-5701ea92b5d7\">\n",
              "    <div class=\"colab-df-container\">\n",
              "      <div>\n",
              "<style scoped>\n",
              "    .dataframe tbody tr th:only-of-type {\n",
              "        vertical-align: middle;\n",
              "    }\n",
              "\n",
              "    .dataframe tbody tr th {\n",
              "        vertical-align: top;\n",
              "    }\n",
              "\n",
              "    .dataframe thead th {\n",
              "        text-align: right;\n",
              "    }\n",
              "</style>\n",
              "<table border=\"1\" class=\"dataframe\">\n",
              "  <thead>\n",
              "    <tr style=\"text-align: right;\">\n",
              "      <th></th>\n",
              "      <th>Flight</th>\n",
              "      <th>DayOfWeek</th>\n",
              "      <th>Time</th>\n",
              "      <th>Length</th>\n",
              "      <th>Delay</th>\n",
              "      <th>latitude_deg</th>\n",
              "      <th>longitude_deg</th>\n",
              "      <th>elevation_ft</th>\n",
              "      <th>airport_ref</th>\n",
              "      <th>length_ft</th>\n",
              "      <th>width_ft</th>\n",
              "      <th>lighted</th>\n",
              "      <th>closed</th>\n",
              "      <th>traffic_change_20_21</th>\n",
              "      <th>traffic_change_19_20</th>\n",
              "    </tr>\n",
              "  </thead>\n",
              "  <tbody>\n",
              "    <tr>\n",
              "      <th>Flight</th>\n",
              "      <td>1.000000</td>\n",
              "      <td>0.002269</td>\n",
              "      <td>0.043689</td>\n",
              "      <td>-0.337794</td>\n",
              "      <td>-0.045179</td>\n",
              "      <td>0.152883</td>\n",
              "      <td>0.088454</td>\n",
              "      <td>0.120979</td>\n",
              "      <td>-0.050394</td>\n",
              "      <td>0.029879</td>\n",
              "      <td>0.012713</td>\n",
              "      <td>0.060445</td>\n",
              "      <td>0.015213</td>\n",
              "      <td>0.075725</td>\n",
              "      <td>-0.109500</td>\n",
              "    </tr>\n",
              "    <tr>\n",
              "      <th>DayOfWeek</th>\n",
              "      <td>0.002269</td>\n",
              "      <td>1.000000</td>\n",
              "      <td>0.002635</td>\n",
              "      <td>0.013866</td>\n",
              "      <td>-0.025960</td>\n",
              "      <td>-0.010634</td>\n",
              "      <td>-0.006323</td>\n",
              "      <td>0.000425</td>\n",
              "      <td>0.003097</td>\n",
              "      <td>0.005228</td>\n",
              "      <td>0.003480</td>\n",
              "      <td>-0.004319</td>\n",
              "      <td>-0.004022</td>\n",
              "      <td>0.005440</td>\n",
              "      <td>-0.004073</td>\n",
              "    </tr>\n",
              "    <tr>\n",
              "      <th>Time</th>\n",
              "      <td>0.043689</td>\n",
              "      <td>0.002635</td>\n",
              "      <td>1.000000</td>\n",
              "      <td>-0.050408</td>\n",
              "      <td>0.135503</td>\n",
              "      <td>-0.031631</td>\n",
              "      <td>0.000388</td>\n",
              "      <td>0.033781</td>\n",
              "      <td>-0.014079</td>\n",
              "      <td>0.023236</td>\n",
              "      <td>0.029868</td>\n",
              "      <td>-0.004570</td>\n",
              "      <td>-0.012347</td>\n",
              "      <td>0.094924</td>\n",
              "      <td>-0.081149</td>\n",
              "    </tr>\n",
              "    <tr>\n",
              "      <th>Length</th>\n",
              "      <td>-0.337794</td>\n",
              "      <td>0.013866</td>\n",
              "      <td>-0.050408</td>\n",
              "      <td>1.000000</td>\n",
              "      <td>0.023412</td>\n",
              "      <td>0.027318</td>\n",
              "      <td>0.032629</td>\n",
              "      <td>-0.079260</td>\n",
              "      <td>-0.002509</td>\n",
              "      <td>0.075392</td>\n",
              "      <td>0.059915</td>\n",
              "      <td>0.016097</td>\n",
              "      <td>-0.042696</td>\n",
              "      <td>0.017518</td>\n",
              "      <td>-0.067547</td>\n",
              "    </tr>\n",
              "    <tr>\n",
              "      <th>Delay</th>\n",
              "      <td>-0.045179</td>\n",
              "      <td>-0.025960</td>\n",
              "      <td>0.135503</td>\n",
              "      <td>0.023412</td>\n",
              "      <td>1.000000</td>\n",
              "      <td>0.024829</td>\n",
              "      <td>-0.034535</td>\n",
              "      <td>0.020978</td>\n",
              "      <td>-0.003039</td>\n",
              "      <td>-0.047662</td>\n",
              "      <td>-0.013209</td>\n",
              "      <td>0.018187</td>\n",
              "      <td>0.006584</td>\n",
              "      <td>-0.015961</td>\n",
              "      <td>0.011029</td>\n",
              "    </tr>\n",
              "    <tr>\n",
              "      <th>latitude_deg</th>\n",
              "      <td>0.152883</td>\n",
              "      <td>-0.010634</td>\n",
              "      <td>-0.031631</td>\n",
              "      <td>0.027318</td>\n",
              "      <td>0.024829</td>\n",
              "      <td>1.000000</td>\n",
              "      <td>0.084202</td>\n",
              "      <td>0.201612</td>\n",
              "      <td>-0.089998</td>\n",
              "      <td>-0.015735</td>\n",
              "      <td>-0.023087</td>\n",
              "      <td>0.191397</td>\n",
              "      <td>0.097754</td>\n",
              "      <td>-0.086251</td>\n",
              "      <td>-0.030518</td>\n",
              "    </tr>\n",
              "    <tr>\n",
              "      <th>longitude_deg</th>\n",
              "      <td>0.088454</td>\n",
              "      <td>-0.006323</td>\n",
              "      <td>0.000388</td>\n",
              "      <td>0.032629</td>\n",
              "      <td>-0.034535</td>\n",
              "      <td>0.084202</td>\n",
              "      <td>1.000000</td>\n",
              "      <td>-0.222753</td>\n",
              "      <td>-0.196454</td>\n",
              "      <td>0.076358</td>\n",
              "      <td>-0.001285</td>\n",
              "      <td>0.318683</td>\n",
              "      <td>-0.047516</td>\n",
              "      <td>0.050641</td>\n",
              "      <td>-0.038413</td>\n",
              "    </tr>\n",
              "    <tr>\n",
              "      <th>elevation_ft</th>\n",
              "      <td>0.120979</td>\n",
              "      <td>0.000425</td>\n",
              "      <td>0.033781</td>\n",
              "      <td>-0.079260</td>\n",
              "      <td>0.020978</td>\n",
              "      <td>0.201612</td>\n",
              "      <td>-0.222753</td>\n",
              "      <td>1.000000</td>\n",
              "      <td>0.221794</td>\n",
              "      <td>0.223794</td>\n",
              "      <td>-0.140600</td>\n",
              "      <td>-0.142687</td>\n",
              "      <td>-0.005079</td>\n",
              "      <td>0.270102</td>\n",
              "      <td>-0.039259</td>\n",
              "    </tr>\n",
              "    <tr>\n",
              "      <th>airport_ref</th>\n",
              "      <td>-0.050394</td>\n",
              "      <td>0.003097</td>\n",
              "      <td>-0.014079</td>\n",
              "      <td>-0.002509</td>\n",
              "      <td>-0.003039</td>\n",
              "      <td>-0.089998</td>\n",
              "      <td>-0.196454</td>\n",
              "      <td>0.221794</td>\n",
              "      <td>1.000000</td>\n",
              "      <td>0.015004</td>\n",
              "      <td>-0.015558</td>\n",
              "      <td>-0.663213</td>\n",
              "      <td>-0.020885</td>\n",
              "      <td>-0.195977</td>\n",
              "      <td>0.178396</td>\n",
              "    </tr>\n",
              "    <tr>\n",
              "      <th>length_ft</th>\n",
              "      <td>0.029879</td>\n",
              "      <td>0.005228</td>\n",
              "      <td>0.023236</td>\n",
              "      <td>0.075392</td>\n",
              "      <td>-0.047662</td>\n",
              "      <td>-0.015735</td>\n",
              "      <td>0.076358</td>\n",
              "      <td>0.223794</td>\n",
              "      <td>0.015004</td>\n",
              "      <td>1.000000</td>\n",
              "      <td>0.200062</td>\n",
              "      <td>0.074199</td>\n",
              "      <td>-0.219117</td>\n",
              "      <td>0.251813</td>\n",
              "      <td>-0.174391</td>\n",
              "    </tr>\n",
              "    <tr>\n",
              "      <th>width_ft</th>\n",
              "      <td>0.012713</td>\n",
              "      <td>0.003480</td>\n",
              "      <td>0.029868</td>\n",
              "      <td>0.059915</td>\n",
              "      <td>-0.013209</td>\n",
              "      <td>-0.023087</td>\n",
              "      <td>-0.001285</td>\n",
              "      <td>-0.140600</td>\n",
              "      <td>-0.015558</td>\n",
              "      <td>0.200062</td>\n",
              "      <td>1.000000</td>\n",
              "      <td>0.125793</td>\n",
              "      <td>-0.260123</td>\n",
              "      <td>0.069963</td>\n",
              "      <td>-0.143210</td>\n",
              "    </tr>\n",
              "    <tr>\n",
              "      <th>lighted</th>\n",
              "      <td>0.060445</td>\n",
              "      <td>-0.004319</td>\n",
              "      <td>-0.004570</td>\n",
              "      <td>0.016097</td>\n",
              "      <td>0.018187</td>\n",
              "      <td>0.191397</td>\n",
              "      <td>0.318683</td>\n",
              "      <td>-0.142687</td>\n",
              "      <td>-0.663213</td>\n",
              "      <td>0.074199</td>\n",
              "      <td>0.125793</td>\n",
              "      <td>1.000000</td>\n",
              "      <td>-0.117796</td>\n",
              "      <td>0.153282</td>\n",
              "      <td>-0.140151</td>\n",
              "    </tr>\n",
              "    <tr>\n",
              "      <th>closed</th>\n",
              "      <td>0.015213</td>\n",
              "      <td>-0.004022</td>\n",
              "      <td>-0.012347</td>\n",
              "      <td>-0.042696</td>\n",
              "      <td>0.006584</td>\n",
              "      <td>0.097754</td>\n",
              "      <td>-0.047516</td>\n",
              "      <td>-0.005079</td>\n",
              "      <td>-0.020885</td>\n",
              "      <td>-0.219117</td>\n",
              "      <td>-0.260123</td>\n",
              "      <td>-0.117796</td>\n",
              "      <td>1.000000</td>\n",
              "      <td>-0.175781</td>\n",
              "      <td>0.159639</td>\n",
              "    </tr>\n",
              "    <tr>\n",
              "      <th>traffic_change_20_21</th>\n",
              "      <td>0.075725</td>\n",
              "      <td>0.005440</td>\n",
              "      <td>0.094924</td>\n",
              "      <td>0.017518</td>\n",
              "      <td>-0.015961</td>\n",
              "      <td>-0.086251</td>\n",
              "      <td>0.050641</td>\n",
              "      <td>0.270102</td>\n",
              "      <td>-0.195977</td>\n",
              "      <td>0.251813</td>\n",
              "      <td>0.069963</td>\n",
              "      <td>0.153282</td>\n",
              "      <td>-0.175781</td>\n",
              "      <td>1.000000</td>\n",
              "      <td>-0.885008</td>\n",
              "    </tr>\n",
              "    <tr>\n",
              "      <th>traffic_change_19_20</th>\n",
              "      <td>-0.109500</td>\n",
              "      <td>-0.004073</td>\n",
              "      <td>-0.081149</td>\n",
              "      <td>-0.067547</td>\n",
              "      <td>0.011029</td>\n",
              "      <td>-0.030518</td>\n",
              "      <td>-0.038413</td>\n",
              "      <td>-0.039259</td>\n",
              "      <td>0.178396</td>\n",
              "      <td>-0.174391</td>\n",
              "      <td>-0.143210</td>\n",
              "      <td>-0.140151</td>\n",
              "      <td>0.159639</td>\n",
              "      <td>-0.885008</td>\n",
              "      <td>1.000000</td>\n",
              "    </tr>\n",
              "  </tbody>\n",
              "</table>\n",
              "</div>\n",
              "      <button class=\"colab-df-convert\" onclick=\"convertToInteractive('df-f85c438b-04f8-491f-bfa2-5701ea92b5d7')\"\n",
              "              title=\"Convert this dataframe to an interactive table.\"\n",
              "              style=\"display:none;\">\n",
              "        \n",
              "  <svg xmlns=\"http://www.w3.org/2000/svg\" height=\"24px\"viewBox=\"0 0 24 24\"\n",
              "       width=\"24px\">\n",
              "    <path d=\"M0 0h24v24H0V0z\" fill=\"none\"/>\n",
              "    <path d=\"M18.56 5.44l.94 2.06.94-2.06 2.06-.94-2.06-.94-.94-2.06-.94 2.06-2.06.94zm-11 1L8.5 8.5l.94-2.06 2.06-.94-2.06-.94L8.5 2.5l-.94 2.06-2.06.94zm10 10l.94 2.06.94-2.06 2.06-.94-2.06-.94-.94-2.06-.94 2.06-2.06.94z\"/><path d=\"M17.41 7.96l-1.37-1.37c-.4-.4-.92-.59-1.43-.59-.52 0-1.04.2-1.43.59L10.3 9.45l-7.72 7.72c-.78.78-.78 2.05 0 2.83L4 21.41c.39.39.9.59 1.41.59.51 0 1.02-.2 1.41-.59l7.78-7.78 2.81-2.81c.8-.78.8-2.07 0-2.86zM5.41 20L4 18.59l7.72-7.72 1.47 1.35L5.41 20z\"/>\n",
              "  </svg>\n",
              "      </button>\n",
              "      \n",
              "  <style>\n",
              "    .colab-df-container {\n",
              "      display:flex;\n",
              "      flex-wrap:wrap;\n",
              "      gap: 12px;\n",
              "    }\n",
              "\n",
              "    .colab-df-convert {\n",
              "      background-color: #E8F0FE;\n",
              "      border: none;\n",
              "      border-radius: 50%;\n",
              "      cursor: pointer;\n",
              "      display: none;\n",
              "      fill: #1967D2;\n",
              "      height: 32px;\n",
              "      padding: 0 0 0 0;\n",
              "      width: 32px;\n",
              "    }\n",
              "\n",
              "    .colab-df-convert:hover {\n",
              "      background-color: #E2EBFA;\n",
              "      box-shadow: 0px 1px 2px rgba(60, 64, 67, 0.3), 0px 1px 3px 1px rgba(60, 64, 67, 0.15);\n",
              "      fill: #174EA6;\n",
              "    }\n",
              "\n",
              "    [theme=dark] .colab-df-convert {\n",
              "      background-color: #3B4455;\n",
              "      fill: #D2E3FC;\n",
              "    }\n",
              "\n",
              "    [theme=dark] .colab-df-convert:hover {\n",
              "      background-color: #434B5C;\n",
              "      box-shadow: 0px 1px 3px 1px rgba(0, 0, 0, 0.15);\n",
              "      filter: drop-shadow(0px 1px 2px rgba(0, 0, 0, 0.3));\n",
              "      fill: #FFFFFF;\n",
              "    }\n",
              "  </style>\n",
              "\n",
              "      <script>\n",
              "        const buttonEl =\n",
              "          document.querySelector('#df-f85c438b-04f8-491f-bfa2-5701ea92b5d7 button.colab-df-convert');\n",
              "        buttonEl.style.display =\n",
              "          google.colab.kernel.accessAllowed ? 'block' : 'none';\n",
              "\n",
              "        async function convertToInteractive(key) {\n",
              "          const element = document.querySelector('#df-f85c438b-04f8-491f-bfa2-5701ea92b5d7');\n",
              "          const dataTable =\n",
              "            await google.colab.kernel.invokeFunction('convertToInteractive',\n",
              "                                                     [key], {});\n",
              "          if (!dataTable) return;\n",
              "\n",
              "          const docLinkHtml = 'Like what you see? Visit the ' +\n",
              "            '<a target=\"_blank\" href=https://colab.research.google.com/notebooks/data_table.ipynb>data table notebook</a>'\n",
              "            + ' to learn more about interactive tables.';\n",
              "          element.innerHTML = '';\n",
              "          dataTable['output_type'] = 'display_data';\n",
              "          await google.colab.output.renderOutput(dataTable, element);\n",
              "          const docLink = document.createElement('div');\n",
              "          docLink.innerHTML = docLinkHtml;\n",
              "          element.appendChild(docLink);\n",
              "        }\n",
              "      </script>\n",
              "    </div>\n",
              "  </div>\n",
              "  "
            ]
          },
          "metadata": {},
          "execution_count": 64
        }
      ],
      "source": [
        "corr = final_df.corr()\n",
        "corr"
      ]
    },
    {
      "cell_type": "code",
      "execution_count": 65,
      "metadata": {
        "colab": {
          "base_uri": "https://localhost:8080/",
          "height": 577
        },
        "id": "Npb5HUHygR9D",
        "outputId": "b7597628-c4c9-42d0-af2e-6b4bcac18240"
      },
      "outputs": [
        {
          "output_type": "display_data",
          "data": {
            "text/plain": [
              "<Figure size 1500x900 with 2 Axes>"
            ],
            "image/png": "[encoded data removed]"
          },
          "metadata": {}
        }
      ],
      "source": [
        "plt.figure(figsize=(15,9))\n",
        "sns.heatmap(corr, annot=True)\n",
        "plt.show()"
      ]
    },
    {
      "cell_type": "code",
      "execution_count": 66,
      "metadata": {
        "id": "JS6T6FALkc94"
      },
      "outputs": [],
      "source": [
        "# Traffic change 20-21 is having a negative correlation of -0.89 with traffic change 19-20"
      ]
    },
    {
      "cell_type": "markdown",
      "metadata": {
        "id": "KFkLnGY4gaYU"
      },
      "source": [
        "Project Task: Week 1 (Machine learning)"
      ]
    },
    {
      "cell_type": "markdown",
      "metadata": {
        "id": "Zek3is-Fgd04"
      },
      "source": [
        "1. Use OneHotEncoder and OrdinalEncoder to deal with categorical variables"
      ]
    },
    {
      "cell_type": "code",
      "execution_count": 67,
      "metadata": {
        "colab": {
          "base_uri": "https://localhost:8080/"
        },
        "id": "oH0NnCITgh2X",
        "outputId": "a84804ee-9068-49b4-c617-38daee391c1a"
      },
      "outputs": [
        {
          "output_type": "stream",
          "name": "stdout",
          "text": [
            "<class 'pandas.core.frame.DataFrame'>\n",
            "Int64Index: 434974 entries, 0 to 434973\n",
            "Data columns (total 19 columns):\n",
            " #   Column                Non-Null Count   Dtype  \n",
            "---  ------                --------------   -----  \n",
            " 0   Airline               434974 non-null  object \n",
            " 1   Flight                434974 non-null  int64  \n",
            " 2   DayOfWeek             434974 non-null  int64  \n",
            " 3   Time                  434974 non-null  int64  \n",
            " 4   Length                434974 non-null  int64  \n",
            " 5   Delay                 434974 non-null  int64  \n",
            " 6   type                  434974 non-null  object \n",
            " 7   latitude_deg          434974 non-null  float64\n",
            " 8   longitude_deg         434974 non-null  float64\n",
            " 9   elevation_ft          434974 non-null  float64\n",
            " 10  scheduled_service     434974 non-null  object \n",
            " 11  airport_ref           434974 non-null  int64  \n",
            " 12  length_ft             434974 non-null  float64\n",
            " 13  width_ft              434974 non-null  float64\n",
            " 14  lighted               434974 non-null  int64  \n",
            " 15  closed                434974 non-null  int64  \n",
            " 16  traffic_change_20_21  434974 non-null  int64  \n",
            " 17  traffic_change_19_20  434974 non-null  int64  \n",
            " 18  hubs                  434974 non-null  object \n",
            "dtypes: float64(5), int64(10), object(4)\n",
            "memory usage: 66.4+ MB\n"
          ]
        }
      ],
      "source": [
        "final_df.info()"
      ]
    },
    {
      "cell_type": "code",
      "execution_count": 68,
      "metadata": {
        "id": "4DRaTVcFgvAh"
      },
      "outputs": [],
      "source": [
        "# Scheduled service has value \"yes\" in all rows, let us remove it since it doesnt help in prediction"
      ]
    },
    {
      "cell_type": "code",
      "execution_count": 69,
      "metadata": {
        "id": "VrB0tUJyhKPh"
      },
      "outputs": [],
      "source": [
        "final_df = final_df.drop(['scheduled_service'], axis=1)"
      ]
    },
    {
      "cell_type": "code",
      "source": [
        "final_df.to_csv('airlines_new.csv', index = True)"
      ],
      "metadata": {
        "id": "5caSvHihM3A2"
      },
      "execution_count": 70,
      "outputs": []
    },
    {
      "cell_type": "code",
      "execution_count": 71,
      "metadata": {
        "id": "6Hk8aXjZhN9D"
      },
      "outputs": [],
      "source": [
        "from sklearn.preprocessing import LabelEncoder "
      ]
    },
    {
      "cell_type": "code",
      "execution_count": 72,
      "metadata": {
        "id": "NcmUwRVJhUxw"
      },
      "outputs": [],
      "source": [
        "le = LabelEncoder()"
      ]
    },
    {
      "cell_type": "code",
      "execution_count": 73,
      "metadata": {
        "id": "2h7F-H23hiJa"
      },
      "outputs": [],
      "source": [
        "final_df['Airline'] = le.fit_transform(final_df['Airline'])\n",
        "final_df['type'] = le.fit_transform(final_df['type'])\n",
        "final_df['hubs'] = le.fit_transform(final_df['hubs'])"
      ]
    },
    {
      "cell_type": "code",
      "execution_count": 74,
      "metadata": {
        "colab": {
          "base_uri": "https://localhost:8080/",
          "height": 270
        },
        "id": "Nu-yXvj_id2K",
        "outputId": "07d074c5-a866-42f5-fbd2-092908e31be7"
      },
      "outputs": [
        {
          "output_type": "execute_result",
          "data": {
            "text/plain": [
              "   Airline  Flight  DayOfWeek  Time  Length  Delay  type  latitude_deg  \\\n",
              "0        4     269          3    15     205      1     0     37.618999   \n",
              "1        1    2466          3    20     195      1     0     37.618999   \n",
              "2        5    2606          3    35     216      1     0     37.618999   \n",
              "3        5    1580          3   345     270      0     0     37.618999   \n",
              "4       12     756          3   348     158      0     0     37.618999   \n",
              "\n",
              "   longitude_deg  elevation_ft  airport_ref  length_ft  width_ft  lighted  \\\n",
              "0       -122.375          13.0         3878     7500.0     200.0        1   \n",
              "1       -122.375          13.0         3878     7500.0     200.0        1   \n",
              "2       -122.375          13.0         3878     7500.0     200.0        1   \n",
              "3       -122.375          13.0         3878     7500.0     200.0        1   \n",
              "4       -122.375          13.0         3878     7500.0     200.0        1   \n",
              "\n",
              "   closed  traffic_change_20_21  traffic_change_19_20  hubs  \n",
              "0       0               3980290             -20034173     1  \n",
              "1       0               3980290             -20034173     1  \n",
              "2       0               3980290             -20034173     1  \n",
              "3       0               3980290             -20034173     1  \n",
              "4       0               3980290             -20034173     1  "
            ],
            "text/html": [
              "\n",
              "  <div id=\"df-fdddac76-2859-4c74-9985-e41050502890\">\n",
              "    <div class=\"colab-df-container\">\n",
              "      <div>\n",
              "<style scoped>\n",
              "    .dataframe tbody tr th:only-of-type {\n",
              "        vertical-align: middle;\n",
              "    }\n",
              "\n",
              "    .dataframe tbody tr th {\n",
              "        vertical-align: top;\n",
              "    }\n",
              "\n",
              "    .dataframe thead th {\n",
              "        text-align: right;\n",
              "    }\n",
              "</style>\n",
              "<table border=\"1\" class=\"dataframe\">\n",
              "  <thead>\n",
              "    <tr style=\"text-align: right;\">\n",
              "      <th></th>\n",
              "      <th>Airline</th>\n",
              "      <th>Flight</th>\n",
              "      <th>DayOfWeek</th>\n",
              "      <th>Time</th>\n",
              "      <th>Length</th>\n",
              "      <th>Delay</th>\n",
              "      <th>type</th>\n",
              "      <th>latitude_deg</th>\n",
              "      <th>longitude_deg</th>\n",
              "      <th>elevation_ft</th>\n",
              "      <th>airport_ref</th>\n",
              "      <th>length_ft</th>\n",
              "      <th>width_ft</th>\n",
              "      <th>lighted</th>\n",
              "      <th>closed</th>\n",
              "      <th>traffic_change_20_21</th>\n",
              "      <th>traffic_change_19_20</th>\n",
              "      <th>hubs</th>\n",
              "    </tr>\n",
              "  </thead>\n",
              "  <tbody>\n",
              "    <tr>\n",
              "      <th>0</th>\n",
              "      <td>4</td>\n",
              "      <td>269</td>\n",
              "      <td>3</td>\n",
              "      <td>15</td>\n",
              "      <td>205</td>\n",
              "      <td>1</td>\n",
              "      <td>0</td>\n",
              "      <td>37.618999</td>\n",
              "      <td>-122.375</td>\n",
              "      <td>13.0</td>\n",
              "      <td>3878</td>\n",
              "      <td>7500.0</td>\n",
              "      <td>200.0</td>\n",
              "      <td>1</td>\n",
              "      <td>0</td>\n",
              "      <td>3980290</td>\n",
              "      <td>-20034173</td>\n",
              "      <td>1</td>\n",
              "    </tr>\n",
              "    <tr>\n",
              "      <th>1</th>\n",
              "      <td>1</td>\n",
              "      <td>2466</td>\n",
              "      <td>3</td>\n",
              "      <td>20</td>\n",
              "      <td>195</td>\n",
              "      <td>1</td>\n",
              "      <td>0</td>\n",
              "      <td>37.618999</td>\n",
              "      <td>-122.375</td>\n",
              "      <td>13.0</td>\n",
              "      <td>3878</td>\n",
              "      <td>7500.0</td>\n",
              "      <td>200.0</td>\n",
              "      <td>1</td>\n",
              "      <td>0</td>\n",
              "      <td>3980290</td>\n",
              "      <td>-20034173</td>\n",
              "      <td>1</td>\n",
              "    </tr>\n",
              "    <tr>\n",
              "      <th>2</th>\n",
              "      <td>5</td>\n",
              "      <td>2606</td>\n",
              "      <td>3</td>\n",
              "      <td>35</td>\n",
              "      <td>216</td>\n",
              "      <td>1</td>\n",
              "      <td>0</td>\n",
              "      <td>37.618999</td>\n",
              "      <td>-122.375</td>\n",
              "      <td>13.0</td>\n",
              "      <td>3878</td>\n",
              "      <td>7500.0</td>\n",
              "      <td>200.0</td>\n",
              "      <td>1</td>\n",
              "      <td>0</td>\n",
              "      <td>3980290</td>\n",
              "      <td>-20034173</td>\n",
              "      <td>1</td>\n",
              "    </tr>\n",
              "    <tr>\n",
              "      <th>3</th>\n",
              "      <td>5</td>\n",
              "      <td>1580</td>\n",
              "      <td>3</td>\n",
              "      <td>345</td>\n",
              "      <td>270</td>\n",
              "      <td>0</td>\n",
              "      <td>0</td>\n",
              "      <td>37.618999</td>\n",
              "      <td>-122.375</td>\n",
              "      <td>13.0</td>\n",
              "      <td>3878</td>\n",
              "      <td>7500.0</td>\n",
              "      <td>200.0</td>\n",
              "      <td>1</td>\n",
              "      <td>0</td>\n",
              "      <td>3980290</td>\n",
              "      <td>-20034173</td>\n",
              "      <td>1</td>\n",
              "    </tr>\n",
              "    <tr>\n",
              "      <th>4</th>\n",
              "      <td>12</td>\n",
              "      <td>756</td>\n",
              "      <td>3</td>\n",
              "      <td>348</td>\n",
              "      <td>158</td>\n",
              "      <td>0</td>\n",
              "      <td>0</td>\n",
              "      <td>37.618999</td>\n",
              "      <td>-122.375</td>\n",
              "      <td>13.0</td>\n",
              "      <td>3878</td>\n",
              "      <td>7500.0</td>\n",
              "      <td>200.0</td>\n",
              "      <td>1</td>\n",
              "      <td>0</td>\n",
              "      <td>3980290</td>\n",
              "      <td>-20034173</td>\n",
              "      <td>1</td>\n",
              "    </tr>\n",
              "  </tbody>\n",
              "</table>\n",
              "</div>\n",
              "      <button class=\"colab-df-convert\" onclick=\"convertToInteractive('df-fdddac76-2859-4c74-9985-e41050502890')\"\n",
              "              title=\"Convert this dataframe to an interactive table.\"\n",
              "              style=\"display:none;\">\n",
              "        \n",
              "  <svg xmlns=\"http://www.w3.org/2000/svg\" height=\"24px\"viewBox=\"0 0 24 24\"\n",
              "       width=\"24px\">\n",
              "    <path d=\"M0 0h24v24H0V0z\" fill=\"none\"/>\n",
              "    <path d=\"M18.56 5.44l.94 2.06.94-2.06 2.06-.94-2.06-.94-.94-2.06-.94 2.06-2.06.94zm-11 1L8.5 8.5l.94-2.06 2.06-.94-2.06-.94L8.5 2.5l-.94 2.06-2.06.94zm10 10l.94 2.06.94-2.06 2.06-.94-2.06-.94-.94-2.06-.94 2.06-2.06.94z\"/><path d=\"M17.41 7.96l-1.37-1.37c-.4-.4-.92-.59-1.43-.59-.52 0-1.04.2-1.43.59L10.3 9.45l-7.72 7.72c-.78.78-.78 2.05 0 2.83L4 21.41c.39.39.9.59 1.41.59.51 0 1.02-.2 1.41-.59l7.78-7.78 2.81-2.81c.8-.78.8-2.07 0-2.86zM5.41 20L4 18.59l7.72-7.72 1.47 1.35L5.41 20z\"/>\n",
              "  </svg>\n",
              "      </button>\n",
              "      \n",
              "  <style>\n",
              "    .colab-df-container {\n",
              "      display:flex;\n",
              "      flex-wrap:wrap;\n",
              "      gap: 12px;\n",
              "    }\n",
              "\n",
              "    .colab-df-convert {\n",
              "      background-color: #E8F0FE;\n",
              "      border: none;\n",
              "      border-radius: 50%;\n",
              "      cursor: pointer;\n",
              "      display: none;\n",
              "      fill: #1967D2;\n",
              "      height: 32px;\n",
              "      padding: 0 0 0 0;\n",
              "      width: 32px;\n",
              "    }\n",
              "\n",
              "    .colab-df-convert:hover {\n",
              "      background-color: #E2EBFA;\n",
              "      box-shadow: 0px 1px 2px rgba(60, 64, 67, 0.3), 0px 1px 3px 1px rgba(60, 64, 67, 0.15);\n",
              "      fill: #174EA6;\n",
              "    }\n",
              "\n",
              "    [theme=dark] .colab-df-convert {\n",
              "      background-color: #3B4455;\n",
              "      fill: #D2E3FC;\n",
              "    }\n",
              "\n",
              "    [theme=dark] .colab-df-convert:hover {\n",
              "      background-color: #434B5C;\n",
              "      box-shadow: 0px 1px 3px 1px rgba(0, 0, 0, 0.15);\n",
              "      filter: drop-shadow(0px 1px 2px rgba(0, 0, 0, 0.3));\n",
              "      fill: #FFFFFF;\n",
              "    }\n",
              "  </style>\n",
              "\n",
              "      <script>\n",
              "        const buttonEl =\n",
              "          document.querySelector('#df-fdddac76-2859-4c74-9985-e41050502890 button.colab-df-convert');\n",
              "        buttonEl.style.display =\n",
              "          google.colab.kernel.accessAllowed ? 'block' : 'none';\n",
              "\n",
              "        async function convertToInteractive(key) {\n",
              "          const element = document.querySelector('#df-fdddac76-2859-4c74-9985-e41050502890');\n",
              "          const dataTable =\n",
              "            await google.colab.kernel.invokeFunction('convertToInteractive',\n",
              "                                                     [key], {});\n",
              "          if (!dataTable) return;\n",
              "\n",
              "          const docLinkHtml = 'Like what you see? Visit the ' +\n",
              "            '<a target=\"_blank\" href=https://colab.research.google.com/notebooks/data_table.ipynb>data table notebook</a>'\n",
              "            + ' to learn more about interactive tables.';\n",
              "          element.innerHTML = '';\n",
              "          dataTable['output_type'] = 'display_data';\n",
              "          await google.colab.output.renderOutput(dataTable, element);\n",
              "          const docLink = document.createElement('div');\n",
              "          docLink.innerHTML = docLinkHtml;\n",
              "          element.appendChild(docLink);\n",
              "        }\n",
              "      </script>\n",
              "    </div>\n",
              "  </div>\n",
              "  "
            ]
          },
          "metadata": {},
          "execution_count": 74
        }
      ],
      "source": [
        "final_df.head()"
      ]
    },
    {
      "cell_type": "markdown",
      "metadata": {
        "id": "eW0FscndjWl5"
      },
      "source": [
        "2. Perform the following model building steps:"
      ]
    },
    {
      "cell_type": "markdown",
      "metadata": {
        "id": "JRDL_H-bjXic"
      },
      "source": [
        "a. Apply logistic regression (use stochastic gradient descent optimizer) and decision tree models\n",
        "b. Use the stratified five-fold method to build and validate the models\n",
        "c. Use RandomizedSearchCV for hyperparameter tuning, and use k-fold for crossvalidation\n",
        "d. Keep a few data points (10%) for prediction purposes to evaluate how you would make the final prediction, and do not use this data for testing or validation\n",
        "g. Compare the results of logistic regression and decision tree classifier"
      ]
    },
    {
      "cell_type": "code",
      "execution_count": 75,
      "metadata": {
        "id": "0RKAPey3iiRO"
      },
      "outputs": [],
      "source": [
        "# Seperating the predictors and the output variable\n",
        "x = final_df.drop(['Delay'], axis= 1)\n",
        "y = final_df[\"Delay\"]"
      ]
    },
    {
      "cell_type": "code",
      "execution_count": 76,
      "metadata": {
        "id": "eU9VNDtBj_Eo"
      },
      "outputs": [],
      "source": [
        "from sklearn import preprocessing\n",
        "scaler = preprocessing.MinMaxScaler()\n",
        "x = scaler.fit_transform(x)"
      ]
    },
    {
      "cell_type": "code",
      "execution_count": 77,
      "metadata": {
        "id": "RyBaDfjjkHo_"
      },
      "outputs": [],
      "source": [
        "from sklearn.model_selection import train_test_split \n",
        "x_train, x_test, y_train, y_test = train_test_split(x, y, train_size=0.9, random_state=10)"
      ]
    },
    {
      "cell_type": "markdown",
      "metadata": {
        "id": "7mY2RmtAksIA"
      },
      "source": [
        "LogisticRegression"
      ]
    },
    {
      "cell_type": "code",
      "execution_count": 78,
      "metadata": {
        "id": "uu2D9m9wkqBo"
      },
      "outputs": [],
      "source": [
        "from sklearn.linear_model import LogisticRegression\n",
        "lr = LogisticRegression()"
      ]
    },
    {
      "cell_type": "code",
      "execution_count": 79,
      "metadata": {
        "id": "ooBsXxM0lA5E"
      },
      "outputs": [],
      "source": [
        "from sklearn.model_selection import RandomizedSearchCV"
      ]
    },
    {
      "cell_type": "code",
      "execution_count": 80,
      "metadata": {
        "colab": {
          "base_uri": "https://localhost:8080/",
          "height": 133
        },
        "id": "UhNxV6JXlstd",
        "outputId": "d6ae0df7-4cb9-4879-8806-15db847df704"
      },
      "outputs": [
        {
          "output_type": "stream",
          "name": "stdout",
          "text": [
            "Fitting 5 folds for each of 4 candidates, totalling 20 fits\n"
          ]
        },
        {
          "output_type": "execute_result",
          "data": {
            "text/plain": [
              "RandomizedSearchCV(cv=5, estimator=LogisticRegression(),\n",
              "                   param_distributions={'penalty': ['l1', 'l2'],\n",
              "                                        'solver': ['newton-cg', 'liblinear']},\n",
              "                   scoring='accuracy', verbose=1)"
            ],
            "text/html": [
              "<style>#sk-container-id-1 {color: black;background-color: white;}#sk-container-id-1 pre{padding: 0;}#sk-container-id-1 div.sk-toggleable {background-color: white;}#sk-container-id-1 label.sk-toggleable__label {cursor: pointer;display: block;width: 100%;margin-bottom: 0;padding: 0.3em;box-sizing: border-box;text-align: center;}#sk-container-id-1 label.sk-toggleable__label-arrow:before {content: \"▸\";float: left;margin-right: 0.25em;color: #696969;}#sk-container-id-1 label.sk-toggleable__label-arrow:hover:before {color: black;}#sk-container-id-1 div.sk-estimator:hover label.sk-toggleable__label-arrow:before {color: black;}#sk-container-id-1 div.sk-toggleable__content {max-height: 0;max-width: 0;overflow: hidden;text-align: left;background-color: #f0f8ff;}#sk-container-id-1 div.sk-toggleable__content pre {margin: 0.2em;color: black;border-radius: 0.25em;background-color: #f0f8ff;}#sk-container-id-1 input.sk-toggleable__control:checked~div.sk-toggleable__content {max-height: 200px;max-width: 100%;overflow: auto;}#sk-container-id-1 input.sk-toggleable__control:checked~label.sk-toggleable__label-arrow:before {content: \"▾\";}#sk-container-id-1 div.sk-estimator input.sk-toggleable__control:checked~label.sk-toggleable__label {background-color: #d4ebff;}#sk-container-id-1 div.sk-label input.sk-toggleable__control:checked~label.sk-toggleable__label {background-color: #d4ebff;}#sk-container-id-1 input.sk-hidden--visually {border: 0;clip: rect(1px 1px 1px 1px);clip: rect(1px, 1px, 1px, 1px);height: 1px;margin: -1px;overflow: hidden;padding: 0;position: absolute;width: 1px;}#sk-container-id-1 div.sk-estimator {font-family: monospace;background-color: #f0f8ff;border: 1px dotted black;border-radius: 0.25em;box-sizing: border-box;margin-bottom: 0.5em;}#sk-container-id-1 div.sk-estimator:hover {background-color: #d4ebff;}#sk-container-id-1 div.sk-parallel-item::after {content: \"\";width: 100%;border-bottom: 1px solid gray;flex-grow: 1;}#sk-container-id-1 div.sk-label:hover label.sk-toggleable__label {background-color: #d4ebff;}#sk-container-id-1 div.sk-serial::before {content: \"\";position: absolute;border-left: 1px solid gray;box-sizing: border-box;top: 0;bottom: 0;left: 50%;z-index: 0;}#sk-container-id-1 div.sk-serial {display: flex;flex-direction: column;align-items: center;background-color: white;padding-right: 0.2em;padding-left: 0.2em;position: relative;}#sk-container-id-1 div.sk-item {position: relative;z-index: 1;}#sk-container-id-1 div.sk-parallel {display: flex;align-items: stretch;justify-content: center;background-color: white;position: relative;}#sk-container-id-1 div.sk-item::before, #sk-container-id-1 div.sk-parallel-item::before {content: \"\";position: absolute;border-left: 1px solid gray;box-sizing: border-box;top: 0;bottom: 0;left: 50%;z-index: -1;}#sk-container-id-1 div.sk-parallel-item {display: flex;flex-direction: column;z-index: 1;position: relative;background-color: white;}#sk-container-id-1 div.sk-parallel-item:first-child::after {align-self: flex-end;width: 50%;}#sk-container-id-1 div.sk-parallel-item:last-child::after {align-self: flex-start;width: 50%;}#sk-container-id-1 div.sk-parallel-item:only-child::after {width: 0;}#sk-container-id-1 div.sk-dashed-wrapped {border: 1px dashed gray;margin: 0 0.4em 0.5em 0.4em;box-sizing: border-box;padding-bottom: 0.4em;background-color: white;}#sk-container-id-1 div.sk-label label {font-family: monospace;font-weight: bold;display: inline-block;line-height: 1.2em;}#sk-container-id-1 div.sk-label-container {text-align: center;}#sk-container-id-1 div.sk-container {/* jupyter's `normalize.less` sets `[hidden] { display: none; }` but bootstrap.min.css set `[hidden] { display: none !important; }` so we also need the `!important` here to be able to override the default hidden behavior on the sphinx rendered scikit-learn.org. See: https://github.com/scikit-learn/scikit-learn/issues/21755 */display: inline-block !important;position: relative;}#sk-container-id-1 div.sk-text-repr-fallback {display: none;}</style><div id=\"sk-container-id-1\" class=\"sk-top-container\"><div class=\"sk-text-repr-fallback\"><pre>RandomizedSearchCV(cv=5, estimator=LogisticRegression(),\n",
              "                   param_distributions={&#x27;penalty&#x27;: [&#x27;l1&#x27;, &#x27;l2&#x27;],\n",
              "                                        &#x27;solver&#x27;: [&#x27;newton-cg&#x27;, &#x27;liblinear&#x27;]},\n",
              "                   scoring=&#x27;accuracy&#x27;, verbose=1)</pre><b>In a Jupyter environment, please rerun this cell to show the HTML representation or trust the notebook. <br />On GitHub, the HTML representation is unable to render, please try loading this page with nbviewer.org.</b></div><div class=\"sk-container\" hidden><div class=\"sk-item sk-dashed-wrapped\"><div class=\"sk-label-container\"><div class=\"sk-label sk-toggleable\"><input class=\"sk-toggleable__control sk-hidden--visually\" id=\"sk-estimator-id-1\" type=\"checkbox\" ><label for=\"sk-estimator-id-1\" class=\"sk-toggleable__label sk-toggleable__label-arrow\">RandomizedSearchCV</label><div class=\"sk-toggleable__content\"><pre>RandomizedSearchCV(cv=5, estimator=LogisticRegression(),\n",
              "                   param_distributions={&#x27;penalty&#x27;: [&#x27;l1&#x27;, &#x27;l2&#x27;],\n",
              "                                        &#x27;solver&#x27;: [&#x27;newton-cg&#x27;, &#x27;liblinear&#x27;]},\n",
              "                   scoring=&#x27;accuracy&#x27;, verbose=1)</pre></div></div></div><div class=\"sk-parallel\"><div class=\"sk-parallel-item\"><div class=\"sk-item\"><div class=\"sk-label-container\"><div class=\"sk-label sk-toggleable\"><input class=\"sk-toggleable__control sk-hidden--visually\" id=\"sk-estimator-id-2\" type=\"checkbox\" ><label for=\"sk-estimator-id-2\" class=\"sk-toggleable__label sk-toggleable__label-arrow\">estimator: LogisticRegression</label><div class=\"sk-toggleable__content\"><pre>LogisticRegression()</pre></div></div></div><div class=\"sk-serial\"><div class=\"sk-item\"><div class=\"sk-estimator sk-toggleable\"><input class=\"sk-toggleable__control sk-hidden--visually\" id=\"sk-estimator-id-3\" type=\"checkbox\" ><label for=\"sk-estimator-id-3\" class=\"sk-toggleable__label sk-toggleable__label-arrow\">LogisticRegression</label><div class=\"sk-toggleable__content\"><pre>LogisticRegression()</pre></div></div></div></div></div></div></div></div></div></div>"
            ]
          },
          "metadata": {},
          "execution_count": 80
        }
      ],
      "source": [
        "params = {\"penalty\": [\"l1\",\"l2\"],\n",
        "         'solver': ['newton-cg', 'liblinear']}\n",
        "\n",
        "# Cross Validation\n",
        "folds = 5\n",
        "\n",
        "rscv = RandomizedSearchCV(estimator = lr,\n",
        "                         param_distributions = params,\n",
        "                         scoring = \"accuracy\",\n",
        "                         verbose = 1,\n",
        "                         cv= folds)\n",
        "\n",
        "rscv.fit(x_train, y_train)"
      ]
    },
    {
      "cell_type": "code",
      "execution_count": 81,
      "metadata": {
        "colab": {
          "base_uri": "https://localhost:8080/"
        },
        "id": "UzdQWCMll31d",
        "outputId": "a8952dbd-676a-4d9f-b92f-c5e12e74cfa7"
      },
      "outputs": [
        {
          "output_type": "stream",
          "name": "stdout",
          "text": [
            "{'solver': 'newton-cg', 'penalty': 'l2'}\n",
            "0.5808555257836805\n"
          ]
        }
      ],
      "source": [
        "print(rscv.best_params_)\n",
        "print(rscv.best_score_)"
      ]
    },
    {
      "cell_type": "code",
      "execution_count": 82,
      "metadata": {
        "colab": {
          "base_uri": "https://localhost:8080/"
        },
        "id": "FWgrB_24l8XO",
        "outputId": "90d30a8f-f737-4be0-bc8e-a34fa406b439"
      },
      "outputs": [
        {
          "output_type": "execute_result",
          "data": {
            "text/plain": [
              "0.5810011341691445"
            ]
          },
          "metadata": {},
          "execution_count": 82
        }
      ],
      "source": [
        "lr = LogisticRegression(penalty= 'l2', solver= 'newton-cg')\n",
        "lr.fit(x_train,y_train).score(x_train,y_train)"
      ]
    },
    {
      "cell_type": "code",
      "execution_count": 83,
      "metadata": {
        "colab": {
          "base_uri": "https://localhost:8080/"
        },
        "id": "A-MQ36v5mRwR",
        "outputId": "9dca9ee2-db18-4c9e-d406-b195dc6838df"
      },
      "outputs": [
        {
          "output_type": "execute_result",
          "data": {
            "text/plain": [
              "0.5863947767713458"
            ]
          },
          "metadata": {},
          "execution_count": 83
        }
      ],
      "source": [
        "lr.score(x_test, y_test)"
      ]
    },
    {
      "cell_type": "markdown",
      "metadata": {
        "id": "e-M57dsomwam"
      },
      "source": [
        "DecisionTreeClassifier"
      ]
    },
    {
      "cell_type": "code",
      "execution_count": 84,
      "metadata": {
        "colab": {
          "base_uri": "https://localhost:8080/",
          "height": 133
        },
        "id": "MMS__lhLmUJM",
        "outputId": "b72c1524-e921-498b-d382-242f7634aafe"
      },
      "outputs": [
        {
          "output_type": "stream",
          "name": "stdout",
          "text": [
            "Fitting 5 folds for each of 10 candidates, totalling 50 fits\n"
          ]
        },
        {
          "output_type": "execute_result",
          "data": {
            "text/plain": [
              "RandomizedSearchCV(cv=5, estimator=DecisionTreeClassifier(),\n",
              "                   param_distributions={'criterion': ['gini', 'entropy'],\n",
              "                                        'max_depth': [2, 3, 4, 5, 6, 7, 8, 9],\n",
              "                                        'min_samples_leaf': [2, 3, 4, 5, 6, 7,\n",
              "                                                             8, 9]},\n",
              "                   scoring='accuracy', verbose=1)"
            ],
            "text/html": [
              "<style>#sk-container-id-2 {color: black;background-color: white;}#sk-container-id-2 pre{padding: 0;}#sk-container-id-2 div.sk-toggleable {background-color: white;}#sk-container-id-2 label.sk-toggleable__label {cursor: pointer;display: block;width: 100%;margin-bottom: 0;padding: 0.3em;box-sizing: border-box;text-align: center;}#sk-container-id-2 label.sk-toggleable__label-arrow:before {content: \"▸\";float: left;margin-right: 0.25em;color: #696969;}#sk-container-id-2 label.sk-toggleable__label-arrow:hover:before {color: black;}#sk-container-id-2 div.sk-estimator:hover label.sk-toggleable__label-arrow:before {color: black;}#sk-container-id-2 div.sk-toggleable__content {max-height: 0;max-width: 0;overflow: hidden;text-align: left;background-color: #f0f8ff;}#sk-container-id-2 div.sk-toggleable__content pre {margin: 0.2em;color: black;border-radius: 0.25em;background-color: #f0f8ff;}#sk-container-id-2 input.sk-toggleable__control:checked~div.sk-toggleable__content {max-height: 200px;max-width: 100%;overflow: auto;}#sk-container-id-2 input.sk-toggleable__control:checked~label.sk-toggleable__label-arrow:before {content: \"▾\";}#sk-container-id-2 div.sk-estimator input.sk-toggleable__control:checked~label.sk-toggleable__label {background-color: #d4ebff;}#sk-container-id-2 div.sk-label input.sk-toggleable__control:checked~label.sk-toggleable__label {background-color: #d4ebff;}#sk-container-id-2 input.sk-hidden--visually {border: 0;clip: rect(1px 1px 1px 1px);clip: rect(1px, 1px, 1px, 1px);height: 1px;margin: -1px;overflow: hidden;padding: 0;position: absolute;width: 1px;}#sk-container-id-2 div.sk-estimator {font-family: monospace;background-color: #f0f8ff;border: 1px dotted black;border-radius: 0.25em;box-sizing: border-box;margin-bottom: 0.5em;}#sk-container-id-2 div.sk-estimator:hover {background-color: #d4ebff;}#sk-container-id-2 div.sk-parallel-item::after {content: \"\";width: 100%;border-bottom: 1px solid gray;flex-grow: 1;}#sk-container-id-2 div.sk-label:hover label.sk-toggleable__label {background-color: #d4ebff;}#sk-container-id-2 div.sk-serial::before {content: \"\";position: absolute;border-left: 1px solid gray;box-sizing: border-box;top: 0;bottom: 0;left: 50%;z-index: 0;}#sk-container-id-2 div.sk-serial {display: flex;flex-direction: column;align-items: center;background-color: white;padding-right: 0.2em;padding-left: 0.2em;position: relative;}#sk-container-id-2 div.sk-item {position: relative;z-index: 1;}#sk-container-id-2 div.sk-parallel {display: flex;align-items: stretch;justify-content: center;background-color: white;position: relative;}#sk-container-id-2 div.sk-item::before, #sk-container-id-2 div.sk-parallel-item::before {content: \"\";position: absolute;border-left: 1px solid gray;box-sizing: border-box;top: 0;bottom: 0;left: 50%;z-index: -1;}#sk-container-id-2 div.sk-parallel-item {display: flex;flex-direction: column;z-index: 1;position: relative;background-color: white;}#sk-container-id-2 div.sk-parallel-item:first-child::after {align-self: flex-end;width: 50%;}#sk-container-id-2 div.sk-parallel-item:last-child::after {align-self: flex-start;width: 50%;}#sk-container-id-2 div.sk-parallel-item:only-child::after {width: 0;}#sk-container-id-2 div.sk-dashed-wrapped {border: 1px dashed gray;margin: 0 0.4em 0.5em 0.4em;box-sizing: border-box;padding-bottom: 0.4em;background-color: white;}#sk-container-id-2 div.sk-label label {font-family: monospace;font-weight: bold;display: inline-block;line-height: 1.2em;}#sk-container-id-2 div.sk-label-container {text-align: center;}#sk-container-id-2 div.sk-container {/* jupyter's `normalize.less` sets `[hidden] { display: none; }` but bootstrap.min.css set `[hidden] { display: none !important; }` so we also need the `!important` here to be able to override the default hidden behavior on the sphinx rendered scikit-learn.org. See: https://github.com/scikit-learn/scikit-learn/issues/21755 */display: inline-block !important;position: relative;}#sk-container-id-2 div.sk-text-repr-fallback {display: none;}</style><div id=\"sk-container-id-2\" class=\"sk-top-container\"><div class=\"sk-text-repr-fallback\"><pre>RandomizedSearchCV(cv=5, estimator=DecisionTreeClassifier(),\n",
              "                   param_distributions={&#x27;criterion&#x27;: [&#x27;gini&#x27;, &#x27;entropy&#x27;],\n",
              "                                        &#x27;max_depth&#x27;: [2, 3, 4, 5, 6, 7, 8, 9],\n",
              "                                        &#x27;min_samples_leaf&#x27;: [2, 3, 4, 5, 6, 7,\n",
              "                                                             8, 9]},\n",
              "                   scoring=&#x27;accuracy&#x27;, verbose=1)</pre><b>In a Jupyter environment, please rerun this cell to show the HTML representation or trust the notebook. <br />On GitHub, the HTML representation is unable to render, please try loading this page with nbviewer.org.</b></div><div class=\"sk-container\" hidden><div class=\"sk-item sk-dashed-wrapped\"><div class=\"sk-label-container\"><div class=\"sk-label sk-toggleable\"><input class=\"sk-toggleable__control sk-hidden--visually\" id=\"sk-estimator-id-4\" type=\"checkbox\" ><label for=\"sk-estimator-id-4\" class=\"sk-toggleable__label sk-toggleable__label-arrow\">RandomizedSearchCV</label><div class=\"sk-toggleable__content\"><pre>RandomizedSearchCV(cv=5, estimator=DecisionTreeClassifier(),\n",
              "                   param_distributions={&#x27;criterion&#x27;: [&#x27;gini&#x27;, &#x27;entropy&#x27;],\n",
              "                                        &#x27;max_depth&#x27;: [2, 3, 4, 5, 6, 7, 8, 9],\n",
              "                                        &#x27;min_samples_leaf&#x27;: [2, 3, 4, 5, 6, 7,\n",
              "                                                             8, 9]},\n",
              "                   scoring=&#x27;accuracy&#x27;, verbose=1)</pre></div></div></div><div class=\"sk-parallel\"><div class=\"sk-parallel-item\"><div class=\"sk-item\"><div class=\"sk-label-container\"><div class=\"sk-label sk-toggleable\"><input class=\"sk-toggleable__control sk-hidden--visually\" id=\"sk-estimator-id-5\" type=\"checkbox\" ><label for=\"sk-estimator-id-5\" class=\"sk-toggleable__label sk-toggleable__label-arrow\">estimator: DecisionTreeClassifier</label><div class=\"sk-toggleable__content\"><pre>DecisionTreeClassifier()</pre></div></div></div><div class=\"sk-serial\"><div class=\"sk-item\"><div class=\"sk-estimator sk-toggleable\"><input class=\"sk-toggleable__control sk-hidden--visually\" id=\"sk-estimator-id-6\" type=\"checkbox\" ><label for=\"sk-estimator-id-6\" class=\"sk-toggleable__label sk-toggleable__label-arrow\">DecisionTreeClassifier</label><div class=\"sk-toggleable__content\"><pre>DecisionTreeClassifier()</pre></div></div></div></div></div></div></div></div></div></div>"
            ]
          },
          "metadata": {},
          "execution_count": 84
        }
      ],
      "source": [
        "from sklearn.tree import DecisionTreeClassifier\n",
        "\n",
        "dt = DecisionTreeClassifier()\n",
        "\n",
        "params = {'criterion': [\"gini\", \"entropy\"],\n",
        "          'min_samples_leaf' : [2,3,4,5,6,7,8,9],\n",
        "         \"max_depth\": [2,3,4,5,6,7,8,9]}\n",
        "\n",
        "rscv = RandomizedSearchCV(estimator = dt,\n",
        "                             param_distributions= params,\n",
        "                             scoring = \"accuracy\",\n",
        "                             cv= 5,\n",
        "                             verbose=1)\n",
        "rscv.fit(x_train, y_train)"
      ]
    },
    {
      "cell_type": "code",
      "execution_count": 85,
      "metadata": {
        "colab": {
          "base_uri": "https://localhost:8080/"
        },
        "id": "a2yazUWjm3Pt",
        "outputId": "a100c575-3e52-463c-d507-7a8eb6d09f64"
      },
      "outputs": [
        {
          "output_type": "stream",
          "name": "stdout",
          "text": [
            "{'min_samples_leaf': 6, 'max_depth': 9, 'criterion': 'entropy'}\n",
            "0.6435566921164465\n"
          ]
        }
      ],
      "source": [
        "print(rscv.best_params_)\n",
        "print(rscv.best_score_)"
      ]
    },
    {
      "cell_type": "code",
      "execution_count": 86,
      "metadata": {
        "id": "1SGmIYBwnCP0"
      },
      "outputs": [],
      "source": [
        "dtc = DecisionTreeClassifier(max_depth= 9, criterion= 'entropy',min_samples_leaf= 6)"
      ]
    },
    {
      "cell_type": "code",
      "execution_count": 87,
      "metadata": {
        "colab": {
          "base_uri": "https://localhost:8080/"
        },
        "id": "aQob2rqbnFcL",
        "outputId": "7b79a655-50ff-4b4e-92cd-5329ff2f7815"
      },
      "outputs": [
        {
          "output_type": "execute_result",
          "data": {
            "text/plain": [
              "0.6493143896432987"
            ]
          },
          "metadata": {},
          "execution_count": 87
        }
      ],
      "source": [
        "dtc.fit(x_train, y_train).score(x_train, y_train)"
      ]
    },
    {
      "cell_type": "code",
      "execution_count": 88,
      "metadata": {
        "colab": {
          "base_uri": "https://localhost:8080/"
        },
        "id": "B1JAsJevnHpB",
        "outputId": "160b8869-4163-4572-d76c-c5477d7532cb"
      },
      "outputs": [
        {
          "output_type": "execute_result",
          "data": {
            "text/plain": [
              "0.6431789967354821"
            ]
          },
          "metadata": {},
          "execution_count": 88
        }
      ],
      "source": [
        "dtc.score(x_test, y_test)"
      ]
    },
    {
      "cell_type": "markdown",
      "metadata": {
        "id": "w16pUYdYnPgT"
      },
      "source": [
        "3. Use the stratified five-fold method to build and validate the models using the XGB classifier, compare all methods, and share your findings"
      ]
    },
    {
      "cell_type": "code",
      "execution_count": 89,
      "metadata": {
        "colab": {
          "base_uri": "https://localhost:8080/"
        },
        "id": "GU-GCB_8nM49",
        "outputId": "375789c6-09ef-4de5-fac2-ec46a90780ae"
      },
      "outputs": [
        {
          "output_type": "stream",
          "name": "stdout",
          "text": [
            "Fitting 3 folds for each of 50 candidates, totalling 150 fits\n",
            "Best parameters found:  {'n_estimators': 18, 'max_depth': 9, 'learning_rate': 0.5, 'colsample_bytree': 0.6}\n",
            "Best accuracy found:  0.6610647906895952\n"
          ]
        }
      ],
      "source": [
        "from xgboost import XGBClassifier\n",
        "\n",
        "# Create the parameter grid: gbm_param_grid \n",
        "gbm_param_grid = {\n",
        "                 'n_estimators': range(8, 20),\n",
        "                 'max_depth': range(6, 10),\n",
        "                 'learning_rate': [.4, .45, .5, .55, .6],\n",
        "                 'colsample_bytree': [.6, .7, .8, .9, 1]\n",
        "                  }\n",
        "\n",
        "# Instantiate the regressor: gbm\n",
        "gbm = XGBClassifier()\n",
        "\n",
        "# Perform random search: grid_mse\n",
        "xgb_random = RandomizedSearchCV(param_distributions=gbm_param_grid, \n",
        "                                    estimator = gbm, scoring = \"accuracy\", \n",
        "                                    verbose = 1, n_iter = 50, cv = 3)\n",
        "\n",
        "# Fit randomized_mse to the data\n",
        "xgb_random.fit(x_train, y_train)\n",
        "\n",
        "# Print the best parameters and lowest RMSE\n",
        "print(\"Best parameters found: \", xgb_random.best_params_)\n",
        "print(\"Best accuracy found: \", xgb_random.best_score_)"
      ]
    },
    {
      "cell_type": "code",
      "execution_count": 90,
      "metadata": {
        "id": "OhfIV2HwnWtE",
        "colab": {
          "base_uri": "https://localhost:8080/"
        },
        "outputId": "a385a93f-351b-4086-89b5-6efa06120cf5"
      },
      "outputs": [
        {
          "output_type": "execute_result",
          "data": {
            "text/plain": [
              "0.6806802971318804"
            ]
          },
          "metadata": {},
          "execution_count": 90
        }
      ],
      "source": [
        "xgb = XGBClassifier(n_estimators=14, max_depth=9, learning_rate=0.45, colsample_bytree=0.9)\n",
        "xgb.fit(x_train,y_train).score(x_train,y_train)"
      ]
    },
    {
      "cell_type": "code",
      "execution_count": 91,
      "metadata": {
        "id": "bjI2MZUynYrE",
        "colab": {
          "base_uri": "https://localhost:8080/"
        },
        "outputId": "b494a4ff-e368-40b4-ad29-788029f82f5c"
      },
      "outputs": [
        {
          "output_type": "stream",
          "name": "stdout",
          "text": [
            "0.5863947767713458\n",
            "0.6431789967354821\n",
            "0.6620534277438043\n"
          ]
        }
      ],
      "source": [
        "# Now lets compare the all method.\n",
        "print(lr.score(x_test, y_test))\n",
        "print(dtc.score(x_test, y_test))\n",
        "print(xgb.score(x_test, y_test))"
      ]
    }
  ],
  "metadata": {
    "colab": {
      "provenance": []
    },
    "kernelspec": {
      "display_name": "Python 3",
      "name": "python3"
    },
    "language_info": {
      "name": "python"
    }
  },
  "nbformat": 4,
  "nbformat_minor": 0
}